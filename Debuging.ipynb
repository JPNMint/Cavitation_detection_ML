{
 "cells": [
  {
   "cell_type": "code",
   "execution_count": 1,
   "metadata": {
    "collapsed": true,
    "pycharm": {
     "name": "#%%\n"
    }
   },
   "outputs": [],
   "source": [
    "from scripts.utils import feature_pipe"
   ]
  },
  {
   "cell_type": "code",
   "execution_count": null,
   "outputs": [],
   "source": [
    "feature_pipe(\"data/sideglued2_oilpump\",2,\"cav\")"
   ],
   "metadata": {
    "collapsed": false,
    "pycharm": {
     "name": "#%%\n"
    }
   }
  },
  {
   "cell_type": "code",
   "execution_count": null,
   "outputs": [],
   "source": [
    "\n",
    "def feature_pipe (path, splits_in_sec, label):\n",
    "    target_path = Path(path)\n",
    "\n",
    "    if not Path.is_dir(target_path/\"cavitation\"):\n",
    "        print(\"Folder named cavitation does not exist!\")\n",
    "        return\n",
    "    if not Path.is_dir(target_path/\"no_cavitation\"):\n",
    "        print(\"Folder named no_cavitationn does not exist!\")\n",
    "        return\n",
    "\n",
    "    results = []\n",
    "\n",
    "    for file in os.listdir((target_path/\"no_cavitation\").name):\n",
    "        print(file)\n",
    "\n",
    "\n",
    "\n",
    "    sr, df = read_wav(datasets)\n",
    "    df_split = splitting(sr[0],df, splits_in_sec)\n",
    "    freq, df_ftt = fourier_trans(sr[0],df_split)\n",
    "    output_df = feature_extraction(df_ftt, label)\n",
    "    return len(df_split), output_df"
   ],
   "metadata": {
    "collapsed": false,
    "pycharm": {
     "name": "#%%\n"
    }
   }
  }
 ],
 "metadata": {
  "kernelspec": {
   "display_name": "Python 3",
   "language": "python",
   "name": "python3"
  },
  "language_info": {
   "codemirror_mode": {
    "name": "ipython",
    "version": 2
   },
   "file_extension": ".py",
   "mimetype": "text/x-python",
   "name": "python",
   "nbconvert_exporter": "python",
   "pygments_lexer": "ipython2",
   "version": "2.7.6"
  }
 },
 "nbformat": 4,
 "nbformat_minor": 0
}