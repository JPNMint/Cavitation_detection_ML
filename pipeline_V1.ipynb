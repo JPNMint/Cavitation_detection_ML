{
 "cells": [
  {
   "cell_type": "markdown",
   "source": [
    "### Read data (wav)\n",
    "First read in high cavitation files."
   ],
   "metadata": {
    "collapsed": false,
    "pycharm": {
     "name": "#%% md\n"
    }
   }
  },
  {
   "cell_type": "code",
   "execution_count": 13,
   "outputs": [],
   "source": [
    "from pathlib import Path\n",
    "from scipy.io import wavfile\n",
    "import numpy as np\n",
    "import pandas as pd\n",
    "import matplotlib.pyplot as plt\n"
   ],
   "metadata": {
    "collapsed": false,
    "pycharm": {
     "name": "#%%\n"
    }
   }
  },
  {
   "cell_type": "code",
   "execution_count": 14,
   "outputs": [],
   "source": [
    "def read_wav(dataset_names):\n",
    "    samplerate = []\n",
    "    df = []\n",
    "    for data in dataset_names:\n",
    "        path =  Path.cwd()/\"data\"\n",
    "        sf, d = wavfile.read(path/data)\n",
    "        samplerate.append(sf)\n",
    "        df.append(d)\n",
    "    return samplerate , df"
   ],
   "metadata": {
    "collapsed": false,
    "pycharm": {
     "name": "#%%\n"
    }
   }
  },
  {
   "cell_type": "code",
   "execution_count": 15,
   "outputs": [
    {
     "name": "stderr",
     "output_type": "stream",
     "text": [
      "C:\\Users\\kinos\\AppData\\Local\\Temp\\ipykernel_30056\\3207606025.py:6: WavFileWarning: Chunk (non-data) not understood, skipping it.\n",
      "  sf, d = wavfile.read(path/data)\n"
     ]
    }
   ],
   "source": [
    "datasets = [\"s00000_191115_007_KesselpumpHD02_002_RP1_FC_01_P06_SB1_L0_KS_XXXX_YY_YYYY_ZZZZZZ_16.wav\"]\n",
    "#,\"sxmany_200206_007_HKMNetzpumpe04_004_RP1_FC_01_C06_SB1_L0_XX_XXXX_YY_YYYY_ZZZZZZ_10.wav\"\n",
    "sr, df = read_wav(datasets)"
   ],
   "metadata": {
    "collapsed": false,
    "pycharm": {
     "name": "#%%\n"
    }
   }
  },
  {
   "cell_type": "markdown",
   "source": [
    "## Splitting\n",
    "\n",
    "Splitting the data in 2 second samples"
   ],
   "metadata": {
    "collapsed": false
   }
  },
  {
   "cell_type": "code",
   "execution_count": 335,
   "outputs": [],
   "source": [
    "\n",
    "def splitting (sr, df, sec):\n",
    "    #get sr for section\n",
    "    seg_len = int(sr * sec)\n",
    "\n",
    "    splits = []\n",
    "\n",
    "    for data in df:\n",
    "        #get number of sections\n",
    "        sections = int(np.ceil(len(data) / seg_len))\n",
    "        for i in range(sections):\n",
    "            #slice section range\n",
    "            t = data[i * seg_len: (i + 1) * seg_len]\n",
    "            splits.append(t)\n",
    "\n",
    "\n",
    "    return splits"
   ],
   "metadata": {
    "collapsed": false,
    "pycharm": {
     "name": "#%%\n"
    }
   }
  },
  {
   "cell_type": "markdown",
   "source": [
    "## Fourier Transformation\n",
    "\n",
    "Transform data into frequency domain."
   ],
   "metadata": {
    "collapsed": false
   }
  },
  {
   "cell_type": "code",
   "execution_count": 18,
   "outputs": [],
   "source": [
    "from scipy.fftpack import fft, ifft\n",
    "\n",
    "def fourier_trans(sr, data):\n",
    "    df_ftt = []\n",
    "    freq = []\n",
    "    for i in data:\n",
    "\n",
    "        length = i.shape[0] / sr\n",
    "        N = i.shape[0]\n",
    "        n = np.arange(N)\n",
    "        freq.append(n/length)\n",
    "        df_ftt.append(fft(i))\n",
    "\n",
    "    return freq, df_ftt"
   ],
   "metadata": {
    "collapsed": false,
    "pycharm": {
     "name": "#%%\n"
    }
   }
  },
  {
   "cell_type": "code",
   "execution_count": 19,
   "outputs": [],
   "source": [
    "freq, df_ftt = fourier_trans(sr[0],df_split)"
   ],
   "metadata": {
    "collapsed": false,
    "pycharm": {
     "name": "#%%\n"
    }
   }
  },
  {
   "cell_type": "code",
   "execution_count": 20,
   "outputs": [
    {
     "data": {
      "text/plain": "<Figure size 1200x600 with 1 Axes>",
      "image/png": "[encoded data removed]"
     },
     "metadata": {},
     "output_type": "display_data"
    }
   ],
   "source": [
    "    plt.figure(figsize = (12, 6))\n",
    "    plt.subplot(121)\n",
    "\n",
    "\n",
    "    plt.stem(freq[1], np.abs(df_ftt[1]), 'b', \\\n",
    "             markerfmt=\" \", basefmt=\"-b\")\n",
    "    plt.xlabel('Freq (Hz)')\n",
    "    plt.ylabel('FFT Amplitude |X(freq)|')\n",
    "\n",
    "    plt.show()"
   ],
   "metadata": {
    "collapsed": false,
    "pycharm": {
     "name": "#%%\n"
    }
   }
  },
  {
   "cell_type": "markdown",
   "source": [
    "## Feature extraction and labels\n",
    "\n",
    "Extract statistical features and add a label."
   ],
   "metadata": {
    "collapsed": false
   }
  },
  {
   "cell_type": "code",
   "execution_count": 206,
   "outputs": [],
   "source": [
    "import os\n",
    "import scipy.io as scio\n",
    "from scipy.stats import norm, kurtosis, skew\n",
    "import pandas as pd\n",
    "import math\n",
    "import csv\n",
    "'''\n",
    "1. Central Trend Statistics:\n",
    "   --- mean\n",
    "   --- median\n",
    "   --- low quartile\n",
    "   --- upper quartile\n",
    "2. Dispersion Degree Statistics:\n",
    "   --- minimum\n",
    "   --- maximum\n",
    "   --- inter quartile range\n",
    "   --- standard deviation\n",
    "   --- root mean square\n",
    "   --- square root amplitude\n",
    "3. Distribution Shape Statistics\n",
    "   --- kurtosis\n",
    "   --- skewness\n",
    "   --- shape factor\n",
    "   --- clearance shape\n",
    "   --- crest factor\n",
    "'''\n",
    "\n",
    "\n",
    "def feature_extraction(df, label):\n",
    "    column_name = [\"mean\", \"median\", \"quartile_25\", \"quartile_75\", \"Max\", \"Min\", \"quartile\", \"std\", \"rms\", \"sra\", \"ff\", \"clf\", \"cf\"]\n",
    "    #, \"kurtosis\", \"skew\"\n",
    "    df_features = pd.DataFrame(columns = column_name) #\n",
    "\n",
    "    for data in df:\n",
    "        feature_list = []\n",
    "\n",
    "           # central trend statistics\n",
    "        data_mean = np.mean(data)\n",
    "        data_median = np.median(data)\n",
    "        data_quartile_025 = np.quantile(data, 0.25)\n",
    "        data_quartile_075 = np.quantile(data, 0.75)\n",
    "\n",
    "           # dispersion degree statistics\n",
    "        data_Minimum = np.min(data)\n",
    "        data_Maximum = np.max(data)\n",
    "        data_quartile = data_quartile_075 - data_quartile_025\n",
    "        data_std = np.std(data)\n",
    "        data_rms = np.sqrt((np.mean(data**2)))\n",
    "        data_sra = (np.sum(np.sqrt(np.abs(data)))/len(data))**2\n",
    "\n",
    "           # distribution shape statistics\n",
    "        #data_kurtosis = kurtosis(data)\n",
    "        #data_skew = skew(data)\n",
    "\n",
    "        data_avg = np.mean(np.abs(data))\n",
    "        data_ff = data_rms / data_avg\n",
    "\n",
    "        data_clf = np.max(np.abs(data)) / data_sra\n",
    "        data_cf = np.max(np.abs(data)) / data_rms\n",
    "\n",
    "        feature_list = [data_mean, data_median, data_quartile_025, data_quartile_075, data_Maximum, data_Minimum, data_quartile, data_std, data_rms, data_sra, data_ff, data_clf, data_cf]\n",
    "        #, data_kurtosis, data_skew\n",
    "        feature_list = pd.DataFrame(data=feature_list).T #,\n",
    "        feature_list.columns = column_name\n",
    "\n",
    "        df_features = pd.concat([df_features,feature_list])\n",
    "\n",
    "    if label == \"Cavitation\":\n",
    "        df_features[\"Cavitation\"] = 1\n",
    "\n",
    "    if label == \"No Cavitation\":\n",
    "        df_features[\"Cavitation\"] = 0\n",
    "\n",
    "    if label != \"No Cavitation\" and label != \"Cavitation\":\n",
    "        df_features[\"Cavitation\"] = label\n",
    "    return df_features\n",
    "\n",
    "\n",
    "\n",
    "\n",
    "\n",
    "\n",
    "\n",
    "\n",
    "\n"
   ],
   "metadata": {
    "collapsed": false,
    "pycharm": {
     "name": "#%%\n"
    }
   }
  },
  {
   "cell_type": "code",
   "execution_count": 207,
   "outputs": [],
   "source": [
    "h_c_df = feature_extraction(df_ftt, \"Cavitation\")"
   ],
   "metadata": {
    "collapsed": false,
    "pycharm": {
     "name": "#%%\n"
    }
   }
  },
  {
   "cell_type": "code",
   "execution_count": 208,
   "outputs": [
    {
     "data": {
      "text/plain": "                   mean                   median                  quartile_25  \\\n0  189.000031-0.000026j   285.6171808+0.0000000j  -47249.166992-23157.303711j   \n0  338.999939+0.000046j   442.6064405-1.6757810j  -50010.841797-14338.849609j   \n0  130.000046+0.000005j   116.105469-872.466797j -49651.8085940-6787.7763670j   \n0 -108.000008-0.000011j  -422.4370005+0.0000000j  -44462.8818306+580.0703120j   \n0 -486.000000-0.000112j  778.2011720+34.4609380j  -56428.169922-23419.488281j   \n0 -243.000092+0.000096j -893.9062500+66.1416020j  -54796.658203-56730.414062j   \n0  141.999954-0.000066j  265.414062-6783.554688j  -52241.909180+83787.273438j   \n0 -116.000031+0.000034j  736.7539060-78.3984380j -53944.679688+177818.156250j   \n0 -369.999878+0.000112j  -646.8076107+0.0000000j  -45643.958008-10078.812500j   \n0 -294.000092-0.000053j -497.0634770-67.2490230j  -51091.940430-30785.869141j   \n\n                   quartile_75                         Max  \\\n0   47166.263672+38939.902344j  3.911730e+06+3.376144e+05j   \n0  50798.1943360+9380.1406250j  3.785041e+06+2.757947e+06j   \n0   50475.595703+18213.832031j  3.968321e+06+4.189253e+05j   \n0  44095.830078-252996.437500j  3.280548e+06+1.183303e+06j   \n0   54220.079102+78690.031250j  5.136562e+06+1.732015e+06j   \n0   55363.051758-47339.570312j  4.646875e+06+1.764615e+06j   \n0   51704.750977+21008.066406j  4.342194e+06+4.057747e+05j   \n0  54024.5859380-7816.3984380j  4.522008e+06+4.689853e+05j   \n0  44771.3173830+8318.4277340j  4.009059e+06+2.567968e+05j   \n0   50301.433594+10756.394531j  4.094237e+06+1.327382e+06j   \n\n                          Min                      quartile  \\\n0 -3.661462e+06-9.321004e+05j  94415.4306640+62097.2060550j   \n0 -3.834865e+06-2.318076e+05j   100809.036133+23718.990234j   \n0 -4.272759e+06-5.266678e+04j   100127.404297+25001.608398j   \n0 -3.466732e+06-7.951549e+05j   88558.711914-253576.507812j   \n0 -4.814440e+06-2.671949e+05j  110648.249023+102109.519531j   \n0 -5.107823e+06-2.856950e+05j  110159.7099601+9390.8437500j   \n0 -4.544058e+06-2.042053e+04j   103946.660156-62779.207031j   \n0 -4.376050e+06-1.115578e+06j  107969.265625-185634.554688j   \n0 -4.061546e+06-2.280218e+06j  90415.2753910+18397.2402340j   \n0 -4.902808e+06-1.658629e+06j   101393.374023+41542.263672j   \n\n                     std                     rms                      sra  \\\n0  488590.65625+0.00000j  0.000303-39125.550781j  173445.881346+0.000000j   \n0  534752.30075+0.00000j   3735.512939+0.045839j  186286.328881+0.000000j   \n0  5387140000.5+0.00000j   0.005976-8752.074219j  186719.025093+0.000000j   \n0  461055.56025+0.00000j  0.003064-15845.906250j  160745.265083+0.000000j   \n0  628457.00075+0.00000j  31533.066406-0.001130j  214693.541053+0.000000j   \n0  577104.80075+0.00000j  77137.242188+0.000657j  205354.467083+0.000000j   \n0  570660.93075+0.00000j  0.003618+19663.138672j  195369.663166+0.000000j   \n0  559219.80075+0.00000j  0.003584+14613.500000j  196387.101085+0.000000j   \n0  491752.65625+0.00000j  14337.999023+0.000654j  169149.798923+0.000000j   \n0  546348.43075+0.00000j  0.002014-26406.824219j  190932.976511+0.000000j   \n\n                   ff                  clf                     cf  Cavitation  \n0  0.000000-0.135776j  23.184109+0.000000j   0.000001+102.776527j           1  \n0  0.011946+0.000000j  25.140049+0.000000j  1253.709351-0.015384j           1  \n0  0.000000-0.027893j  23.373341+0.000000j   0.000340+498.652924j           1  \n0  0.000000-0.059037j  26.382631+0.000000j   0.000052+267.632721j           1  \n0  0.086848-0.000000j  25.248612+0.000000j   171.905701+0.000006j           1  \n0  0.228135+0.000000j  24.912078+0.000000j  66.3208390-0.0000010j           1  \n0  0.000000+0.059276j  23.721198+0.000000j   0.000043-235.689850j           1  \n0  0.000000+0.044580j  23.149494+0.000000j   0.000076-311.100159j           1  \n0  0.050280+0.000000j  28.887049+0.000000j   340.789429-0.000016j           1  \n0  0.000000-0.082408j  27.107774+0.000000j   0.000015+196.001144j           1  ",
      "text/html": "<div>\n<style scoped>\n    .dataframe tbody tr th:only-of-type {\n        vertical-align: middle;\n    }\n\n    .dataframe tbody tr th {\n        vertical-align: top;\n    }\n\n    .dataframe thead th {\n        text-align: right;\n    }\n</style>\n<table border=\"1\" class=\"dataframe\">\n  <thead>\n    <tr style=\"text-align: right;\">\n      <th></th>\n      <th>mean</th>\n      <th>median</th>\n      <th>quartile_25</th>\n      <th>quartile_75</th>\n      <th>Max</th>\n      <th>Min</th>\n      <th>quartile</th>\n      <th>std</th>\n      <th>rms</th>\n      <th>sra</th>\n      <th>ff</th>\n      <th>clf</th>\n      <th>cf</th>\n      <th>Cavitation</th>\n    </tr>\n  </thead>\n  <tbody>\n    <tr>\n      <th>0</th>\n      <td>189.000031-0.000026j</td>\n      <td>285.6171808+0.0000000j</td>\n      <td>-47249.166992-23157.303711j</td>\n      <td>47166.263672+38939.902344j</td>\n      <td>3.911730e+06+3.376144e+05j</td>\n      <td>-3.661462e+06-9.321004e+05j</td>\n      <td>94415.4306640+62097.2060550j</td>\n      <td>488590.65625+0.00000j</td>\n      <td>0.000303-39125.550781j</td>\n      <td>173445.881346+0.000000j</td>\n      <td>0.000000-0.135776j</td>\n      <td>23.184109+0.000000j</td>\n      <td>0.000001+102.776527j</td>\n      <td>1</td>\n    </tr>\n    <tr>\n      <th>0</th>\n      <td>338.999939+0.000046j</td>\n      <td>442.6064405-1.6757810j</td>\n      <td>-50010.841797-14338.849609j</td>\n      <td>50798.1943360+9380.1406250j</td>\n      <td>3.785041e+06+2.757947e+06j</td>\n      <td>-3.834865e+06-2.318076e+05j</td>\n      <td>100809.036133+23718.990234j</td>\n      <td>534752.30075+0.00000j</td>\n      <td>3735.512939+0.045839j</td>\n      <td>186286.328881+0.000000j</td>\n      <td>0.011946+0.000000j</td>\n      <td>25.140049+0.000000j</td>\n      <td>1253.709351-0.015384j</td>\n      <td>1</td>\n    </tr>\n    <tr>\n      <th>0</th>\n      <td>130.000046+0.000005j</td>\n      <td>116.105469-872.466797j</td>\n      <td>-49651.8085940-6787.7763670j</td>\n      <td>50475.595703+18213.832031j</td>\n      <td>3.968321e+06+4.189253e+05j</td>\n      <td>-4.272759e+06-5.266678e+04j</td>\n      <td>100127.404297+25001.608398j</td>\n      <td>5387140000.5+0.00000j</td>\n      <td>0.005976-8752.074219j</td>\n      <td>186719.025093+0.000000j</td>\n      <td>0.000000-0.027893j</td>\n      <td>23.373341+0.000000j</td>\n      <td>0.000340+498.652924j</td>\n      <td>1</td>\n    </tr>\n    <tr>\n      <th>0</th>\n      <td>-108.000008-0.000011j</td>\n      <td>-422.4370005+0.0000000j</td>\n      <td>-44462.8818306+580.0703120j</td>\n      <td>44095.830078-252996.437500j</td>\n      <td>3.280548e+06+1.183303e+06j</td>\n      <td>-3.466732e+06-7.951549e+05j</td>\n      <td>88558.711914-253576.507812j</td>\n      <td>461055.56025+0.00000j</td>\n      <td>0.003064-15845.906250j</td>\n      <td>160745.265083+0.000000j</td>\n      <td>0.000000-0.059037j</td>\n      <td>26.382631+0.000000j</td>\n      <td>0.000052+267.632721j</td>\n      <td>1</td>\n    </tr>\n    <tr>\n      <th>0</th>\n      <td>-486.000000-0.000112j</td>\n      <td>778.2011720+34.4609380j</td>\n      <td>-56428.169922-23419.488281j</td>\n      <td>54220.079102+78690.031250j</td>\n      <td>5.136562e+06+1.732015e+06j</td>\n      <td>-4.814440e+06-2.671949e+05j</td>\n      <td>110648.249023+102109.519531j</td>\n      <td>628457.00075+0.00000j</td>\n      <td>31533.066406-0.001130j</td>\n      <td>214693.541053+0.000000j</td>\n      <td>0.086848-0.000000j</td>\n      <td>25.248612+0.000000j</td>\n      <td>171.905701+0.000006j</td>\n      <td>1</td>\n    </tr>\n    <tr>\n      <th>0</th>\n      <td>-243.000092+0.000096j</td>\n      <td>-893.9062500+66.1416020j</td>\n      <td>-54796.658203-56730.414062j</td>\n      <td>55363.051758-47339.570312j</td>\n      <td>4.646875e+06+1.764615e+06j</td>\n      <td>-5.107823e+06-2.856950e+05j</td>\n      <td>110159.7099601+9390.8437500j</td>\n      <td>577104.80075+0.00000j</td>\n      <td>77137.242188+0.000657j</td>\n      <td>205354.467083+0.000000j</td>\n      <td>0.228135+0.000000j</td>\n      <td>24.912078+0.000000j</td>\n      <td>66.3208390-0.0000010j</td>\n      <td>1</td>\n    </tr>\n    <tr>\n      <th>0</th>\n      <td>141.999954-0.000066j</td>\n      <td>265.414062-6783.554688j</td>\n      <td>-52241.909180+83787.273438j</td>\n      <td>51704.750977+21008.066406j</td>\n      <td>4.342194e+06+4.057747e+05j</td>\n      <td>-4.544058e+06-2.042053e+04j</td>\n      <td>103946.660156-62779.207031j</td>\n      <td>570660.93075+0.00000j</td>\n      <td>0.003618+19663.138672j</td>\n      <td>195369.663166+0.000000j</td>\n      <td>0.000000+0.059276j</td>\n      <td>23.721198+0.000000j</td>\n      <td>0.000043-235.689850j</td>\n      <td>1</td>\n    </tr>\n    <tr>\n      <th>0</th>\n      <td>-116.000031+0.000034j</td>\n      <td>736.7539060-78.3984380j</td>\n      <td>-53944.679688+177818.156250j</td>\n      <td>54024.5859380-7816.3984380j</td>\n      <td>4.522008e+06+4.689853e+05j</td>\n      <td>-4.376050e+06-1.115578e+06j</td>\n      <td>107969.265625-185634.554688j</td>\n      <td>559219.80075+0.00000j</td>\n      <td>0.003584+14613.500000j</td>\n      <td>196387.101085+0.000000j</td>\n      <td>0.000000+0.044580j</td>\n      <td>23.149494+0.000000j</td>\n      <td>0.000076-311.100159j</td>\n      <td>1</td>\n    </tr>\n    <tr>\n      <th>0</th>\n      <td>-369.999878+0.000112j</td>\n      <td>-646.8076107+0.0000000j</td>\n      <td>-45643.958008-10078.812500j</td>\n      <td>44771.3173830+8318.4277340j</td>\n      <td>4.009059e+06+2.567968e+05j</td>\n      <td>-4.061546e+06-2.280218e+06j</td>\n      <td>90415.2753910+18397.2402340j</td>\n      <td>491752.65625+0.00000j</td>\n      <td>14337.999023+0.000654j</td>\n      <td>169149.798923+0.000000j</td>\n      <td>0.050280+0.000000j</td>\n      <td>28.887049+0.000000j</td>\n      <td>340.789429-0.000016j</td>\n      <td>1</td>\n    </tr>\n    <tr>\n      <th>0</th>\n      <td>-294.000092-0.000053j</td>\n      <td>-497.0634770-67.2490230j</td>\n      <td>-51091.940430-30785.869141j</td>\n      <td>50301.433594+10756.394531j</td>\n      <td>4.094237e+06+1.327382e+06j</td>\n      <td>-4.902808e+06-1.658629e+06j</td>\n      <td>101393.374023+41542.263672j</td>\n      <td>546348.43075+0.00000j</td>\n      <td>0.002014-26406.824219j</td>\n      <td>190932.976511+0.000000j</td>\n      <td>0.000000-0.082408j</td>\n      <td>27.107774+0.000000j</td>\n      <td>0.000015+196.001144j</td>\n      <td>1</td>\n    </tr>\n  </tbody>\n</table>\n</div>"
     },
     "execution_count": 208,
     "metadata": {},
     "output_type": "execute_result"
    }
   ],
   "source": [
    "h_c_df"
   ],
   "metadata": {
    "collapsed": false,
    "pycharm": {
     "name": "#%%\n"
    }
   }
  },
  {
   "cell_type": "markdown",
   "source": [
    "## Same procedure for non-cavitation data."
   ],
   "metadata": {
    "collapsed": false
   }
  },
  {
   "cell_type": "markdown",
   "source": [
    "Load file"
   ],
   "metadata": {
    "collapsed": false
   }
  },
  {
   "cell_type": "code",
   "execution_count": 209,
   "outputs": [
    {
     "name": "stderr",
     "output_type": "stream",
     "text": [
      "C:\\Users\\kinos\\AppData\\Local\\Temp\\ipykernel_30056\\3207606025.py:6: WavFileWarning: Chunk (non-data) not understood, skipping it.\n",
      "  sf, d = wavfile.read(path/data)\n"
     ]
    }
   ],
   "source": [
    "datasets = [\"sxmany_200206_007_HKMNetzpumpe04_004_RP1_FC_01_C06_SB1_L0_XX_XXXX_YY_YYYY_ZZZZZZ_10.wav\"]\n",
    "\n",
    "sr, df = read_wav(datasets)"
   ],
   "metadata": {
    "collapsed": false,
    "pycharm": {
     "name": "#%%\n"
    }
   }
  },
  {
   "cell_type": "markdown",
   "source": [
    "### Split file"
   ],
   "metadata": {
    "collapsed": false
   }
  },
  {
   "cell_type": "code",
   "execution_count": 210,
   "outputs": [],
   "source": [
    "df_split = splitting(sr[0],df, 2)"
   ],
   "metadata": {
    "collapsed": false,
    "pycharm": {
     "name": "#%%\n"
    }
   }
  },
  {
   "cell_type": "markdown",
   "source": [
    "### Fourier transformation"
   ],
   "metadata": {
    "collapsed": false
   }
  },
  {
   "cell_type": "code",
   "execution_count": 211,
   "outputs": [],
   "source": [
    "freq, df_ftt = fourier_trans(sr[0],df_split)"
   ],
   "metadata": {
    "collapsed": false,
    "pycharm": {
     "name": "#%%\n"
    }
   }
  },
  {
   "cell_type": "markdown",
   "source": [
    "### Feature extraction and add labels"
   ],
   "metadata": {
    "collapsed": false
   }
  },
  {
   "cell_type": "code",
   "execution_count": 212,
   "outputs": [],
   "source": [
    "n_c_df = feature_extraction(df_ftt, \"No_cavitation\")"
   ],
   "metadata": {
    "collapsed": false,
    "pycharm": {
     "name": "#%%\n"
    }
   }
  },
  {
   "cell_type": "code",
   "execution_count": 213,
   "outputs": [
    {
     "data": {
      "text/plain": "                   mean                   median                  quartile_25  \\\n0  189.000031-0.000026j   285.6171808+0.0000000j  -47249.166992-23157.303711j   \n0  338.999939+0.000046j   442.6064405-1.6757810j  -50010.841797-14338.849609j   \n0  130.000046+0.000005j   116.105469-872.466797j -49651.8085940-6787.7763670j   \n0 -108.000008-0.000011j  -422.4370005+0.0000000j  -44462.8818306+580.0703120j   \n0 -486.000000-0.000112j  778.2011720+34.4609380j  -56428.169922-23419.488281j   \n0 -243.000092+0.000096j -893.9062500+66.1416020j  -54796.658203-56730.414062j   \n0  141.999954-0.000066j  265.414062-6783.554688j  -52241.909180+83787.273438j   \n0 -116.000031+0.000034j  736.7539060-78.3984380j -53944.679688+177818.156250j   \n0 -369.999878+0.000112j  -646.8076107+0.0000000j  -45643.958008-10078.812500j   \n0 -294.000092-0.000053j -497.0634770-67.2490230j  -51091.940430-30785.869141j   \n\n                   quartile_75                         Max  \\\n0   47166.263672+38939.902344j  3.911730e+06+3.376144e+05j   \n0  50798.1943360+9380.1406250j  3.785041e+06+2.757947e+06j   \n0   50475.595703+18213.832031j  3.968321e+06+4.189253e+05j   \n0  44095.830078-252996.437500j  3.280548e+06+1.183303e+06j   \n0   54220.079102+78690.031250j  5.136562e+06+1.732015e+06j   \n0   55363.051758-47339.570312j  4.646875e+06+1.764615e+06j   \n0   51704.750977+21008.066406j  4.342194e+06+4.057747e+05j   \n0  54024.5859380-7816.3984380j  4.522008e+06+4.689853e+05j   \n0  44771.3173830+8318.4277340j  4.009059e+06+2.567968e+05j   \n0   50301.433594+10756.394531j  4.094237e+06+1.327382e+06j   \n\n                          Min                      quartile  \\\n0 -3.661462e+06-9.321004e+05j  94415.4306640+62097.2060550j   \n0 -3.834865e+06-2.318076e+05j   100809.036133+23718.990234j   \n0 -4.272759e+06-5.266678e+04j   100127.404297+25001.608398j   \n0 -3.466732e+06-7.951549e+05j   88558.711914-253576.507812j   \n0 -4.814440e+06-2.671949e+05j  110648.249023+102109.519531j   \n0 -5.107823e+06-2.856950e+05j  110159.7099601+9390.8437500j   \n0 -4.544058e+06-2.042053e+04j   103946.660156-62779.207031j   \n0 -4.376050e+06-1.115578e+06j  107969.265625-185634.554688j   \n0 -4.061546e+06-2.280218e+06j  90415.2753910+18397.2402340j   \n0 -4.902808e+06-1.658629e+06j   101393.374023+41542.263672j   \n\n                     std                     rms                      sra  \\\n0  488590.65625+0.00000j  0.000303-39125.550781j  173445.881346+0.000000j   \n0  534752.30075+0.00000j   3735.512939+0.045839j  186286.328881+0.000000j   \n0  5387140000.5+0.00000j   0.005976-8752.074219j  186719.025093+0.000000j   \n0  461055.56025+0.00000j  0.003064-15845.906250j  160745.265083+0.000000j   \n0  628457.00075+0.00000j  31533.066406-0.001130j  214693.541053+0.000000j   \n0  577104.80075+0.00000j  77137.242188+0.000657j  205354.467083+0.000000j   \n0  570660.93075+0.00000j  0.003618+19663.138672j  195369.663166+0.000000j   \n0  559219.80075+0.00000j  0.003584+14613.500000j  196387.101085+0.000000j   \n0  491752.65625+0.00000j  14337.999023+0.000654j  169149.798923+0.000000j   \n0  546348.43075+0.00000j  0.002014-26406.824219j  190932.976511+0.000000j   \n\n                   ff                  clf                     cf  \\\n0  0.000000-0.135776j  23.184109+0.000000j   0.000001+102.776527j   \n0  0.011946+0.000000j  25.140049+0.000000j  1253.709351-0.015384j   \n0  0.000000-0.027893j  23.373341+0.000000j   0.000340+498.652924j   \n0  0.000000-0.059037j  26.382631+0.000000j   0.000052+267.632721j   \n0  0.086848-0.000000j  25.248612+0.000000j   171.905701+0.000006j   \n0  0.228135+0.000000j  24.912078+0.000000j  66.3208390-0.0000010j   \n0  0.000000+0.059276j  23.721198+0.000000j   0.000043-235.689850j   \n0  0.000000+0.044580j  23.149494+0.000000j   0.000076-311.100159j   \n0  0.050280+0.000000j  28.887049+0.000000j   340.789429-0.000016j   \n0  0.000000-0.082408j  27.107774+0.000000j   0.000015+196.001144j   \n\n      Cavitation  \n0  No_cavitation  \n0  No_cavitation  \n0  No_cavitation  \n0  No_cavitation  \n0  No_cavitation  \n0  No_cavitation  \n0  No_cavitation  \n0  No_cavitation  \n0  No_cavitation  \n0  No_cavitation  ",
      "text/html": "<div>\n<style scoped>\n    .dataframe tbody tr th:only-of-type {\n        vertical-align: middle;\n    }\n\n    .dataframe tbody tr th {\n        vertical-align: top;\n    }\n\n    .dataframe thead th {\n        text-align: right;\n    }\n</style>\n<table border=\"1\" class=\"dataframe\">\n  <thead>\n    <tr style=\"text-align: right;\">\n      <th></th>\n      <th>mean</th>\n      <th>median</th>\n      <th>quartile_25</th>\n      <th>quartile_75</th>\n      <th>Max</th>\n      <th>Min</th>\n      <th>quartile</th>\n      <th>std</th>\n      <th>rms</th>\n      <th>sra</th>\n      <th>ff</th>\n      <th>clf</th>\n      <th>cf</th>\n      <th>Cavitation</th>\n    </tr>\n  </thead>\n  <tbody>\n    <tr>\n      <th>0</th>\n      <td>189.000031-0.000026j</td>\n      <td>285.6171808+0.0000000j</td>\n      <td>-47249.166992-23157.303711j</td>\n      <td>47166.263672+38939.902344j</td>\n      <td>3.911730e+06+3.376144e+05j</td>\n      <td>-3.661462e+06-9.321004e+05j</td>\n      <td>94415.4306640+62097.2060550j</td>\n      <td>488590.65625+0.00000j</td>\n      <td>0.000303-39125.550781j</td>\n      <td>173445.881346+0.000000j</td>\n      <td>0.000000-0.135776j</td>\n      <td>23.184109+0.000000j</td>\n      <td>0.000001+102.776527j</td>\n      <td>No_cavitation</td>\n    </tr>\n    <tr>\n      <th>0</th>\n      <td>338.999939+0.000046j</td>\n      <td>442.6064405-1.6757810j</td>\n      <td>-50010.841797-14338.849609j</td>\n      <td>50798.1943360+9380.1406250j</td>\n      <td>3.785041e+06+2.757947e+06j</td>\n      <td>-3.834865e+06-2.318076e+05j</td>\n      <td>100809.036133+23718.990234j</td>\n      <td>534752.30075+0.00000j</td>\n      <td>3735.512939+0.045839j</td>\n      <td>186286.328881+0.000000j</td>\n      <td>0.011946+0.000000j</td>\n      <td>25.140049+0.000000j</td>\n      <td>1253.709351-0.015384j</td>\n      <td>No_cavitation</td>\n    </tr>\n    <tr>\n      <th>0</th>\n      <td>130.000046+0.000005j</td>\n      <td>116.105469-872.466797j</td>\n      <td>-49651.8085940-6787.7763670j</td>\n      <td>50475.595703+18213.832031j</td>\n      <td>3.968321e+06+4.189253e+05j</td>\n      <td>-4.272759e+06-5.266678e+04j</td>\n      <td>100127.404297+25001.608398j</td>\n      <td>5387140000.5+0.00000j</td>\n      <td>0.005976-8752.074219j</td>\n      <td>186719.025093+0.000000j</td>\n      <td>0.000000-0.027893j</td>\n      <td>23.373341+0.000000j</td>\n      <td>0.000340+498.652924j</td>\n      <td>No_cavitation</td>\n    </tr>\n    <tr>\n      <th>0</th>\n      <td>-108.000008-0.000011j</td>\n      <td>-422.4370005+0.0000000j</td>\n      <td>-44462.8818306+580.0703120j</td>\n      <td>44095.830078-252996.437500j</td>\n      <td>3.280548e+06+1.183303e+06j</td>\n      <td>-3.466732e+06-7.951549e+05j</td>\n      <td>88558.711914-253576.507812j</td>\n      <td>461055.56025+0.00000j</td>\n      <td>0.003064-15845.906250j</td>\n      <td>160745.265083+0.000000j</td>\n      <td>0.000000-0.059037j</td>\n      <td>26.382631+0.000000j</td>\n      <td>0.000052+267.632721j</td>\n      <td>No_cavitation</td>\n    </tr>\n    <tr>\n      <th>0</th>\n      <td>-486.000000-0.000112j</td>\n      <td>778.2011720+34.4609380j</td>\n      <td>-56428.169922-23419.488281j</td>\n      <td>54220.079102+78690.031250j</td>\n      <td>5.136562e+06+1.732015e+06j</td>\n      <td>-4.814440e+06-2.671949e+05j</td>\n      <td>110648.249023+102109.519531j</td>\n      <td>628457.00075+0.00000j</td>\n      <td>31533.066406-0.001130j</td>\n      <td>214693.541053+0.000000j</td>\n      <td>0.086848-0.000000j</td>\n      <td>25.248612+0.000000j</td>\n      <td>171.905701+0.000006j</td>\n      <td>No_cavitation</td>\n    </tr>\n    <tr>\n      <th>0</th>\n      <td>-243.000092+0.000096j</td>\n      <td>-893.9062500+66.1416020j</td>\n      <td>-54796.658203-56730.414062j</td>\n      <td>55363.051758-47339.570312j</td>\n      <td>4.646875e+06+1.764615e+06j</td>\n      <td>-5.107823e+06-2.856950e+05j</td>\n      <td>110159.7099601+9390.8437500j</td>\n      <td>577104.80075+0.00000j</td>\n      <td>77137.242188+0.000657j</td>\n      <td>205354.467083+0.000000j</td>\n      <td>0.228135+0.000000j</td>\n      <td>24.912078+0.000000j</td>\n      <td>66.3208390-0.0000010j</td>\n      <td>No_cavitation</td>\n    </tr>\n    <tr>\n      <th>0</th>\n      <td>141.999954-0.000066j</td>\n      <td>265.414062-6783.554688j</td>\n      <td>-52241.909180+83787.273438j</td>\n      <td>51704.750977+21008.066406j</td>\n      <td>4.342194e+06+4.057747e+05j</td>\n      <td>-4.544058e+06-2.042053e+04j</td>\n      <td>103946.660156-62779.207031j</td>\n      <td>570660.93075+0.00000j</td>\n      <td>0.003618+19663.138672j</td>\n      <td>195369.663166+0.000000j</td>\n      <td>0.000000+0.059276j</td>\n      <td>23.721198+0.000000j</td>\n      <td>0.000043-235.689850j</td>\n      <td>No_cavitation</td>\n    </tr>\n    <tr>\n      <th>0</th>\n      <td>-116.000031+0.000034j</td>\n      <td>736.7539060-78.3984380j</td>\n      <td>-53944.679688+177818.156250j</td>\n      <td>54024.5859380-7816.3984380j</td>\n      <td>4.522008e+06+4.689853e+05j</td>\n      <td>-4.376050e+06-1.115578e+06j</td>\n      <td>107969.265625-185634.554688j</td>\n      <td>559219.80075+0.00000j</td>\n      <td>0.003584+14613.500000j</td>\n      <td>196387.101085+0.000000j</td>\n      <td>0.000000+0.044580j</td>\n      <td>23.149494+0.000000j</td>\n      <td>0.000076-311.100159j</td>\n      <td>No_cavitation</td>\n    </tr>\n    <tr>\n      <th>0</th>\n      <td>-369.999878+0.000112j</td>\n      <td>-646.8076107+0.0000000j</td>\n      <td>-45643.958008-10078.812500j</td>\n      <td>44771.3173830+8318.4277340j</td>\n      <td>4.009059e+06+2.567968e+05j</td>\n      <td>-4.061546e+06-2.280218e+06j</td>\n      <td>90415.2753910+18397.2402340j</td>\n      <td>491752.65625+0.00000j</td>\n      <td>14337.999023+0.000654j</td>\n      <td>169149.798923+0.000000j</td>\n      <td>0.050280+0.000000j</td>\n      <td>28.887049+0.000000j</td>\n      <td>340.789429-0.000016j</td>\n      <td>No_cavitation</td>\n    </tr>\n    <tr>\n      <th>0</th>\n      <td>-294.000092-0.000053j</td>\n      <td>-497.0634770-67.2490230j</td>\n      <td>-51091.940430-30785.869141j</td>\n      <td>50301.433594+10756.394531j</td>\n      <td>4.094237e+06+1.327382e+06j</td>\n      <td>-4.902808e+06-1.658629e+06j</td>\n      <td>101393.374023+41542.263672j</td>\n      <td>546348.43075+0.00000j</td>\n      <td>0.002014-26406.824219j</td>\n      <td>190932.976511+0.000000j</td>\n      <td>0.000000-0.082408j</td>\n      <td>27.107774+0.000000j</td>\n      <td>0.000015+196.001144j</td>\n      <td>No_cavitation</td>\n    </tr>\n  </tbody>\n</table>\n</div>"
     },
     "execution_count": 213,
     "metadata": {},
     "output_type": "execute_result"
    }
   ],
   "source": [
    "n_c_df"
   ],
   "metadata": {
    "collapsed": false,
    "pycharm": {
     "name": "#%%\n"
    }
   }
  },
  {
   "cell_type": "markdown",
   "source": [
    "### Combine both datasets"
   ],
   "metadata": {
    "collapsed": false
   }
  },
  {
   "cell_type": "code",
   "execution_count": 214,
   "outputs": [],
   "source": [
    "final_df = pd.concat([h_c_df, n_c_df])"
   ],
   "metadata": {
    "collapsed": false,
    "pycharm": {
     "name": "#%%\n"
    }
   }
  },
  {
   "cell_type": "code",
   "execution_count": 215,
   "outputs": [
    {
     "data": {
      "text/plain": "                   mean                   median                  quartile_25  \\\n0  189.000031-0.000026j   285.6171808+0.0000000j  -47249.166992-23157.303711j   \n0  338.999939+0.000046j   442.6064405-1.6757810j  -50010.841797-14338.849609j   \n0  130.000046+0.000005j   116.105469-872.466797j -49651.8085940-6787.7763670j   \n0 -108.000008-0.000011j  -422.4370005+0.0000000j  -44462.8818306+580.0703120j   \n0 -486.000000-0.000112j  778.2011720+34.4609380j  -56428.169922-23419.488281j   \n0 -243.000092+0.000096j -893.9062500+66.1416020j  -54796.658203-56730.414062j   \n0  141.999954-0.000066j  265.414062-6783.554688j  -52241.909180+83787.273438j   \n0 -116.000031+0.000034j  736.7539060-78.3984380j -53944.679688+177818.156250j   \n0 -369.999878+0.000112j  -646.8076107+0.0000000j  -45643.958008-10078.812500j   \n0 -294.000092-0.000053j -497.0634770-67.2490230j  -51091.940430-30785.869141j   \n0  189.000031-0.000026j   285.6171808+0.0000000j  -47249.166992-23157.303711j   \n0  338.999939+0.000046j   442.6064405-1.6757810j  -50010.841797-14338.849609j   \n0  130.000046+0.000005j   116.105469-872.466797j -49651.8085940-6787.7763670j   \n0 -108.000008-0.000011j  -422.4370005+0.0000000j  -44462.8818306+580.0703120j   \n0 -486.000000-0.000112j  778.2011720+34.4609380j  -56428.169922-23419.488281j   \n0 -243.000092+0.000096j -893.9062500+66.1416020j  -54796.658203-56730.414062j   \n0  141.999954-0.000066j  265.414062-6783.554688j  -52241.909180+83787.273438j   \n0 -116.000031+0.000034j  736.7539060-78.3984380j -53944.679688+177818.156250j   \n0 -369.999878+0.000112j  -646.8076107+0.0000000j  -45643.958008-10078.812500j   \n0 -294.000092-0.000053j -497.0634770-67.2490230j  -51091.940430-30785.869141j   \n\n                   quartile_75                         Max  \\\n0   47166.263672+38939.902344j  3.911730e+06+3.376144e+05j   \n0  50798.1943360+9380.1406250j  3.785041e+06+2.757947e+06j   \n0   50475.595703+18213.832031j  3.968321e+06+4.189253e+05j   \n0  44095.830078-252996.437500j  3.280548e+06+1.183303e+06j   \n0   54220.079102+78690.031250j  5.136562e+06+1.732015e+06j   \n0   55363.051758-47339.570312j  4.646875e+06+1.764615e+06j   \n0   51704.750977+21008.066406j  4.342194e+06+4.057747e+05j   \n0  54024.5859380-7816.3984380j  4.522008e+06+4.689853e+05j   \n0  44771.3173830+8318.4277340j  4.009059e+06+2.567968e+05j   \n0   50301.433594+10756.394531j  4.094237e+06+1.327382e+06j   \n0   47166.263672+38939.902344j  3.911730e+06+3.376144e+05j   \n0  50798.1943360+9380.1406250j  3.785041e+06+2.757947e+06j   \n0   50475.595703+18213.832031j  3.968321e+06+4.189253e+05j   \n0  44095.830078-252996.437500j  3.280548e+06+1.183303e+06j   \n0   54220.079102+78690.031250j  5.136562e+06+1.732015e+06j   \n0   55363.051758-47339.570312j  4.646875e+06+1.764615e+06j   \n0   51704.750977+21008.066406j  4.342194e+06+4.057747e+05j   \n0  54024.5859380-7816.3984380j  4.522008e+06+4.689853e+05j   \n0  44771.3173830+8318.4277340j  4.009059e+06+2.567968e+05j   \n0   50301.433594+10756.394531j  4.094237e+06+1.327382e+06j   \n\n                          Min                      quartile  \\\n0 -3.661462e+06-9.321004e+05j  94415.4306640+62097.2060550j   \n0 -3.834865e+06-2.318076e+05j   100809.036133+23718.990234j   \n0 -4.272759e+06-5.266678e+04j   100127.404297+25001.608398j   \n0 -3.466732e+06-7.951549e+05j   88558.711914-253576.507812j   \n0 -4.814440e+06-2.671949e+05j  110648.249023+102109.519531j   \n0 -5.107823e+06-2.856950e+05j  110159.7099601+9390.8437500j   \n0 -4.544058e+06-2.042053e+04j   103946.660156-62779.207031j   \n0 -4.376050e+06-1.115578e+06j  107969.265625-185634.554688j   \n0 -4.061546e+06-2.280218e+06j  90415.2753910+18397.2402340j   \n0 -4.902808e+06-1.658629e+06j   101393.374023+41542.263672j   \n0 -3.661462e+06-9.321004e+05j  94415.4306640+62097.2060550j   \n0 -3.834865e+06-2.318076e+05j   100809.036133+23718.990234j   \n0 -4.272759e+06-5.266678e+04j   100127.404297+25001.608398j   \n0 -3.466732e+06-7.951549e+05j   88558.711914-253576.507812j   \n0 -4.814440e+06-2.671949e+05j  110648.249023+102109.519531j   \n0 -5.107823e+06-2.856950e+05j  110159.7099601+9390.8437500j   \n0 -4.544058e+06-2.042053e+04j   103946.660156-62779.207031j   \n0 -4.376050e+06-1.115578e+06j  107969.265625-185634.554688j   \n0 -4.061546e+06-2.280218e+06j  90415.2753910+18397.2402340j   \n0 -4.902808e+06-1.658629e+06j   101393.374023+41542.263672j   \n\n                     std                     rms                      sra  \\\n0  488590.65625+0.00000j  0.000303-39125.550781j  173445.881346+0.000000j   \n0  534752.30075+0.00000j   3735.512939+0.045839j  186286.328881+0.000000j   \n0  5387140000.5+0.00000j   0.005976-8752.074219j  186719.025093+0.000000j   \n0  461055.56025+0.00000j  0.003064-15845.906250j  160745.265083+0.000000j   \n0  628457.00075+0.00000j  31533.066406-0.001130j  214693.541053+0.000000j   \n0  577104.80075+0.00000j  77137.242188+0.000657j  205354.467083+0.000000j   \n0  570660.93075+0.00000j  0.003618+19663.138672j  195369.663166+0.000000j   \n0  559219.80075+0.00000j  0.003584+14613.500000j  196387.101085+0.000000j   \n0  491752.65625+0.00000j  14337.999023+0.000654j  169149.798923+0.000000j   \n0  546348.43075+0.00000j  0.002014-26406.824219j  190932.976511+0.000000j   \n0  488590.65625+0.00000j  0.000303-39125.550781j  173445.881346+0.000000j   \n0  534752.30075+0.00000j   3735.512939+0.045839j  186286.328881+0.000000j   \n0  5387140000.5+0.00000j   0.005976-8752.074219j  186719.025093+0.000000j   \n0  461055.56025+0.00000j  0.003064-15845.906250j  160745.265083+0.000000j   \n0  628457.00075+0.00000j  31533.066406-0.001130j  214693.541053+0.000000j   \n0  577104.80075+0.00000j  77137.242188+0.000657j  205354.467083+0.000000j   \n0  570660.93075+0.00000j  0.003618+19663.138672j  195369.663166+0.000000j   \n0  559219.80075+0.00000j  0.003584+14613.500000j  196387.101085+0.000000j   \n0  491752.65625+0.00000j  14337.999023+0.000654j  169149.798923+0.000000j   \n0  546348.43075+0.00000j  0.002014-26406.824219j  190932.976511+0.000000j   \n\n                   ff                  clf                     cf  \\\n0  0.000000-0.135776j  23.184109+0.000000j   0.000001+102.776527j   \n0  0.011946+0.000000j  25.140049+0.000000j  1253.709351-0.015384j   \n0  0.000000-0.027893j  23.373341+0.000000j   0.000340+498.652924j   \n0  0.000000-0.059037j  26.382631+0.000000j   0.000052+267.632721j   \n0  0.086848-0.000000j  25.248612+0.000000j   171.905701+0.000006j   \n0  0.228135+0.000000j  24.912078+0.000000j  66.3208390-0.0000010j   \n0  0.000000+0.059276j  23.721198+0.000000j   0.000043-235.689850j   \n0  0.000000+0.044580j  23.149494+0.000000j   0.000076-311.100159j   \n0  0.050280+0.000000j  28.887049+0.000000j   340.789429-0.000016j   \n0  0.000000-0.082408j  27.107774+0.000000j   0.000015+196.001144j   \n0  0.000000-0.135776j  23.184109+0.000000j   0.000001+102.776527j   \n0  0.011946+0.000000j  25.140049+0.000000j  1253.709351-0.015384j   \n0  0.000000-0.027893j  23.373341+0.000000j   0.000340+498.652924j   \n0  0.000000-0.059037j  26.382631+0.000000j   0.000052+267.632721j   \n0  0.086848-0.000000j  25.248612+0.000000j   171.905701+0.000006j   \n0  0.228135+0.000000j  24.912078+0.000000j  66.3208390-0.0000010j   \n0  0.000000+0.059276j  23.721198+0.000000j   0.000043-235.689850j   \n0  0.000000+0.044580j  23.149494+0.000000j   0.000076-311.100159j   \n0  0.050280+0.000000j  28.887049+0.000000j   340.789429-0.000016j   \n0  0.000000-0.082408j  27.107774+0.000000j   0.000015+196.001144j   \n\n      Cavitation  \n0              1  \n0              1  \n0              1  \n0              1  \n0              1  \n0              1  \n0              1  \n0              1  \n0              1  \n0              1  \n0  No_cavitation  \n0  No_cavitation  \n0  No_cavitation  \n0  No_cavitation  \n0  No_cavitation  \n0  No_cavitation  \n0  No_cavitation  \n0  No_cavitation  \n0  No_cavitation  \n0  No_cavitation  ",
      "text/html": "<div>\n<style scoped>\n    .dataframe tbody tr th:only-of-type {\n        vertical-align: middle;\n    }\n\n    .dataframe tbody tr th {\n        vertical-align: top;\n    }\n\n    .dataframe thead th {\n        text-align: right;\n    }\n</style>\n<table border=\"1\" class=\"dataframe\">\n  <thead>\n    <tr style=\"text-align: right;\">\n      <th></th>\n      <th>mean</th>\n      <th>median</th>\n      <th>quartile_25</th>\n      <th>quartile_75</th>\n      <th>Max</th>\n      <th>Min</th>\n      <th>quartile</th>\n      <th>std</th>\n      <th>rms</th>\n      <th>sra</th>\n      <th>ff</th>\n      <th>clf</th>\n      <th>cf</th>\n      <th>Cavitation</th>\n    </tr>\n  </thead>\n  <tbody>\n    <tr>\n      <th>0</th>\n      <td>189.000031-0.000026j</td>\n      <td>285.6171808+0.0000000j</td>\n      <td>-47249.166992-23157.303711j</td>\n      <td>47166.263672+38939.902344j</td>\n      <td>3.911730e+06+3.376144e+05j</td>\n      <td>-3.661462e+06-9.321004e+05j</td>\n      <td>94415.4306640+62097.2060550j</td>\n      <td>488590.65625+0.00000j</td>\n      <td>0.000303-39125.550781j</td>\n      <td>173445.881346+0.000000j</td>\n      <td>0.000000-0.135776j</td>\n      <td>23.184109+0.000000j</td>\n      <td>0.000001+102.776527j</td>\n      <td>1</td>\n    </tr>\n    <tr>\n      <th>0</th>\n      <td>338.999939+0.000046j</td>\n      <td>442.6064405-1.6757810j</td>\n      <td>-50010.841797-14338.849609j</td>\n      <td>50798.1943360+9380.1406250j</td>\n      <td>3.785041e+06+2.757947e+06j</td>\n      <td>-3.834865e+06-2.318076e+05j</td>\n      <td>100809.036133+23718.990234j</td>\n      <td>534752.30075+0.00000j</td>\n      <td>3735.512939+0.045839j</td>\n      <td>186286.328881+0.000000j</td>\n      <td>0.011946+0.000000j</td>\n      <td>25.140049+0.000000j</td>\n      <td>1253.709351-0.015384j</td>\n      <td>1</td>\n    </tr>\n    <tr>\n      <th>0</th>\n      <td>130.000046+0.000005j</td>\n      <td>116.105469-872.466797j</td>\n      <td>-49651.8085940-6787.7763670j</td>\n      <td>50475.595703+18213.832031j</td>\n      <td>3.968321e+06+4.189253e+05j</td>\n      <td>-4.272759e+06-5.266678e+04j</td>\n      <td>100127.404297+25001.608398j</td>\n      <td>5387140000.5+0.00000j</td>\n      <td>0.005976-8752.074219j</td>\n      <td>186719.025093+0.000000j</td>\n      <td>0.000000-0.027893j</td>\n      <td>23.373341+0.000000j</td>\n      <td>0.000340+498.652924j</td>\n      <td>1</td>\n    </tr>\n    <tr>\n      <th>0</th>\n      <td>-108.000008-0.000011j</td>\n      <td>-422.4370005+0.0000000j</td>\n      <td>-44462.8818306+580.0703120j</td>\n      <td>44095.830078-252996.437500j</td>\n      <td>3.280548e+06+1.183303e+06j</td>\n      <td>-3.466732e+06-7.951549e+05j</td>\n      <td>88558.711914-253576.507812j</td>\n      <td>461055.56025+0.00000j</td>\n      <td>0.003064-15845.906250j</td>\n      <td>160745.265083+0.000000j</td>\n      <td>0.000000-0.059037j</td>\n      <td>26.382631+0.000000j</td>\n      <td>0.000052+267.632721j</td>\n      <td>1</td>\n    </tr>\n    <tr>\n      <th>0</th>\n      <td>-486.000000-0.000112j</td>\n      <td>778.2011720+34.4609380j</td>\n      <td>-56428.169922-23419.488281j</td>\n      <td>54220.079102+78690.031250j</td>\n      <td>5.136562e+06+1.732015e+06j</td>\n      <td>-4.814440e+06-2.671949e+05j</td>\n      <td>110648.249023+102109.519531j</td>\n      <td>628457.00075+0.00000j</td>\n      <td>31533.066406-0.001130j</td>\n      <td>214693.541053+0.000000j</td>\n      <td>0.086848-0.000000j</td>\n      <td>25.248612+0.000000j</td>\n      <td>171.905701+0.000006j</td>\n      <td>1</td>\n    </tr>\n    <tr>\n      <th>0</th>\n      <td>-243.000092+0.000096j</td>\n      <td>-893.9062500+66.1416020j</td>\n      <td>-54796.658203-56730.414062j</td>\n      <td>55363.051758-47339.570312j</td>\n      <td>4.646875e+06+1.764615e+06j</td>\n      <td>-5.107823e+06-2.856950e+05j</td>\n      <td>110159.7099601+9390.8437500j</td>\n      <td>577104.80075+0.00000j</td>\n      <td>77137.242188+0.000657j</td>\n      <td>205354.467083+0.000000j</td>\n      <td>0.228135+0.000000j</td>\n      <td>24.912078+0.000000j</td>\n      <td>66.3208390-0.0000010j</td>\n      <td>1</td>\n    </tr>\n    <tr>\n      <th>0</th>\n      <td>141.999954-0.000066j</td>\n      <td>265.414062-6783.554688j</td>\n      <td>-52241.909180+83787.273438j</td>\n      <td>51704.750977+21008.066406j</td>\n      <td>4.342194e+06+4.057747e+05j</td>\n      <td>-4.544058e+06-2.042053e+04j</td>\n      <td>103946.660156-62779.207031j</td>\n      <td>570660.93075+0.00000j</td>\n      <td>0.003618+19663.138672j</td>\n      <td>195369.663166+0.000000j</td>\n      <td>0.000000+0.059276j</td>\n      <td>23.721198+0.000000j</td>\n      <td>0.000043-235.689850j</td>\n      <td>1</td>\n    </tr>\n    <tr>\n      <th>0</th>\n      <td>-116.000031+0.000034j</td>\n      <td>736.7539060-78.3984380j</td>\n      <td>-53944.679688+177818.156250j</td>\n      <td>54024.5859380-7816.3984380j</td>\n      <td>4.522008e+06+4.689853e+05j</td>\n      <td>-4.376050e+06-1.115578e+06j</td>\n      <td>107969.265625-185634.554688j</td>\n      <td>559219.80075+0.00000j</td>\n      <td>0.003584+14613.500000j</td>\n      <td>196387.101085+0.000000j</td>\n      <td>0.000000+0.044580j</td>\n      <td>23.149494+0.000000j</td>\n      <td>0.000076-311.100159j</td>\n      <td>1</td>\n    </tr>\n    <tr>\n      <th>0</th>\n      <td>-369.999878+0.000112j</td>\n      <td>-646.8076107+0.0000000j</td>\n      <td>-45643.958008-10078.812500j</td>\n      <td>44771.3173830+8318.4277340j</td>\n      <td>4.009059e+06+2.567968e+05j</td>\n      <td>-4.061546e+06-2.280218e+06j</td>\n      <td>90415.2753910+18397.2402340j</td>\n      <td>491752.65625+0.00000j</td>\n      <td>14337.999023+0.000654j</td>\n      <td>169149.798923+0.000000j</td>\n      <td>0.050280+0.000000j</td>\n      <td>28.887049+0.000000j</td>\n      <td>340.789429-0.000016j</td>\n      <td>1</td>\n    </tr>\n    <tr>\n      <th>0</th>\n      <td>-294.000092-0.000053j</td>\n      <td>-497.0634770-67.2490230j</td>\n      <td>-51091.940430-30785.869141j</td>\n      <td>50301.433594+10756.394531j</td>\n      <td>4.094237e+06+1.327382e+06j</td>\n      <td>-4.902808e+06-1.658629e+06j</td>\n      <td>101393.374023+41542.263672j</td>\n      <td>546348.43075+0.00000j</td>\n      <td>0.002014-26406.824219j</td>\n      <td>190932.976511+0.000000j</td>\n      <td>0.000000-0.082408j</td>\n      <td>27.107774+0.000000j</td>\n      <td>0.000015+196.001144j</td>\n      <td>1</td>\n    </tr>\n    <tr>\n      <th>0</th>\n      <td>189.000031-0.000026j</td>\n      <td>285.6171808+0.0000000j</td>\n      <td>-47249.166992-23157.303711j</td>\n      <td>47166.263672+38939.902344j</td>\n      <td>3.911730e+06+3.376144e+05j</td>\n      <td>-3.661462e+06-9.321004e+05j</td>\n      <td>94415.4306640+62097.2060550j</td>\n      <td>488590.65625+0.00000j</td>\n      <td>0.000303-39125.550781j</td>\n      <td>173445.881346+0.000000j</td>\n      <td>0.000000-0.135776j</td>\n      <td>23.184109+0.000000j</td>\n      <td>0.000001+102.776527j</td>\n      <td>No_cavitation</td>\n    </tr>\n    <tr>\n      <th>0</th>\n      <td>338.999939+0.000046j</td>\n      <td>442.6064405-1.6757810j</td>\n      <td>-50010.841797-14338.849609j</td>\n      <td>50798.1943360+9380.1406250j</td>\n      <td>3.785041e+06+2.757947e+06j</td>\n      <td>-3.834865e+06-2.318076e+05j</td>\n      <td>100809.036133+23718.990234j</td>\n      <td>534752.30075+0.00000j</td>\n      <td>3735.512939+0.045839j</td>\n      <td>186286.328881+0.000000j</td>\n      <td>0.011946+0.000000j</td>\n      <td>25.140049+0.000000j</td>\n      <td>1253.709351-0.015384j</td>\n      <td>No_cavitation</td>\n    </tr>\n    <tr>\n      <th>0</th>\n      <td>130.000046+0.000005j</td>\n      <td>116.105469-872.466797j</td>\n      <td>-49651.8085940-6787.7763670j</td>\n      <td>50475.595703+18213.832031j</td>\n      <td>3.968321e+06+4.189253e+05j</td>\n      <td>-4.272759e+06-5.266678e+04j</td>\n      <td>100127.404297+25001.608398j</td>\n      <td>5387140000.5+0.00000j</td>\n      <td>0.005976-8752.074219j</td>\n      <td>186719.025093+0.000000j</td>\n      <td>0.000000-0.027893j</td>\n      <td>23.373341+0.000000j</td>\n      <td>0.000340+498.652924j</td>\n      <td>No_cavitation</td>\n    </tr>\n    <tr>\n      <th>0</th>\n      <td>-108.000008-0.000011j</td>\n      <td>-422.4370005+0.0000000j</td>\n      <td>-44462.8818306+580.0703120j</td>\n      <td>44095.830078-252996.437500j</td>\n      <td>3.280548e+06+1.183303e+06j</td>\n      <td>-3.466732e+06-7.951549e+05j</td>\n      <td>88558.711914-253576.507812j</td>\n      <td>461055.56025+0.00000j</td>\n      <td>0.003064-15845.906250j</td>\n      <td>160745.265083+0.000000j</td>\n      <td>0.000000-0.059037j</td>\n      <td>26.382631+0.000000j</td>\n      <td>0.000052+267.632721j</td>\n      <td>No_cavitation</td>\n    </tr>\n    <tr>\n      <th>0</th>\n      <td>-486.000000-0.000112j</td>\n      <td>778.2011720+34.4609380j</td>\n      <td>-56428.169922-23419.488281j</td>\n      <td>54220.079102+78690.031250j</td>\n      <td>5.136562e+06+1.732015e+06j</td>\n      <td>-4.814440e+06-2.671949e+05j</td>\n      <td>110648.249023+102109.519531j</td>\n      <td>628457.00075+0.00000j</td>\n      <td>31533.066406-0.001130j</td>\n      <td>214693.541053+0.000000j</td>\n      <td>0.086848-0.000000j</td>\n      <td>25.248612+0.000000j</td>\n      <td>171.905701+0.000006j</td>\n      <td>No_cavitation</td>\n    </tr>\n    <tr>\n      <th>0</th>\n      <td>-243.000092+0.000096j</td>\n      <td>-893.9062500+66.1416020j</td>\n      <td>-54796.658203-56730.414062j</td>\n      <td>55363.051758-47339.570312j</td>\n      <td>4.646875e+06+1.764615e+06j</td>\n      <td>-5.107823e+06-2.856950e+05j</td>\n      <td>110159.7099601+9390.8437500j</td>\n      <td>577104.80075+0.00000j</td>\n      <td>77137.242188+0.000657j</td>\n      <td>205354.467083+0.000000j</td>\n      <td>0.228135+0.000000j</td>\n      <td>24.912078+0.000000j</td>\n      <td>66.3208390-0.0000010j</td>\n      <td>No_cavitation</td>\n    </tr>\n    <tr>\n      <th>0</th>\n      <td>141.999954-0.000066j</td>\n      <td>265.414062-6783.554688j</td>\n      <td>-52241.909180+83787.273438j</td>\n      <td>51704.750977+21008.066406j</td>\n      <td>4.342194e+06+4.057747e+05j</td>\n      <td>-4.544058e+06-2.042053e+04j</td>\n      <td>103946.660156-62779.207031j</td>\n      <td>570660.93075+0.00000j</td>\n      <td>0.003618+19663.138672j</td>\n      <td>195369.663166+0.000000j</td>\n      <td>0.000000+0.059276j</td>\n      <td>23.721198+0.000000j</td>\n      <td>0.000043-235.689850j</td>\n      <td>No_cavitation</td>\n    </tr>\n    <tr>\n      <th>0</th>\n      <td>-116.000031+0.000034j</td>\n      <td>736.7539060-78.3984380j</td>\n      <td>-53944.679688+177818.156250j</td>\n      <td>54024.5859380-7816.3984380j</td>\n      <td>4.522008e+06+4.689853e+05j</td>\n      <td>-4.376050e+06-1.115578e+06j</td>\n      <td>107969.265625-185634.554688j</td>\n      <td>559219.80075+0.00000j</td>\n      <td>0.003584+14613.500000j</td>\n      <td>196387.101085+0.000000j</td>\n      <td>0.000000+0.044580j</td>\n      <td>23.149494+0.000000j</td>\n      <td>0.000076-311.100159j</td>\n      <td>No_cavitation</td>\n    </tr>\n    <tr>\n      <th>0</th>\n      <td>-369.999878+0.000112j</td>\n      <td>-646.8076107+0.0000000j</td>\n      <td>-45643.958008-10078.812500j</td>\n      <td>44771.3173830+8318.4277340j</td>\n      <td>4.009059e+06+2.567968e+05j</td>\n      <td>-4.061546e+06-2.280218e+06j</td>\n      <td>90415.2753910+18397.2402340j</td>\n      <td>491752.65625+0.00000j</td>\n      <td>14337.999023+0.000654j</td>\n      <td>169149.798923+0.000000j</td>\n      <td>0.050280+0.000000j</td>\n      <td>28.887049+0.000000j</td>\n      <td>340.789429-0.000016j</td>\n      <td>No_cavitation</td>\n    </tr>\n    <tr>\n      <th>0</th>\n      <td>-294.000092-0.000053j</td>\n      <td>-497.0634770-67.2490230j</td>\n      <td>-51091.940430-30785.869141j</td>\n      <td>50301.433594+10756.394531j</td>\n      <td>4.094237e+06+1.327382e+06j</td>\n      <td>-4.902808e+06-1.658629e+06j</td>\n      <td>101393.374023+41542.263672j</td>\n      <td>546348.43075+0.00000j</td>\n      <td>0.002014-26406.824219j</td>\n      <td>190932.976511+0.000000j</td>\n      <td>0.000000-0.082408j</td>\n      <td>27.107774+0.000000j</td>\n      <td>0.000015+196.001144j</td>\n      <td>No_cavitation</td>\n    </tr>\n  </tbody>\n</table>\n</div>"
     },
     "execution_count": 215,
     "metadata": {},
     "output_type": "execute_result"
    }
   ],
   "source": [
    "final_df"
   ],
   "metadata": {
    "collapsed": false,
    "pycharm": {
     "name": "#%%\n"
    }
   }
  },
  {
   "cell_type": "code",
   "execution_count": 215,
   "outputs": [],
   "source": [],
   "metadata": {
    "collapsed": false,
    "pycharm": {
     "name": "#%%\n"
    }
   }
  },
  {
   "cell_type": "code",
   "execution_count": 338,
   "outputs": [],
   "source": [
    "\n",
    "def feature_pipe (datasets, splits_in_sec, label):\n",
    "    sr, df = read_wav(datasets)\n",
    "    df_split = splitting(sr[0],df, splits_in_sec)\n",
    "    freq, df_ftt = fourier_trans(sr[0],df_split)\n",
    "    output_df = feature_extraction(df_ftt, label)\n",
    "    return len(df_split), output_df"
   ],
   "metadata": {
    "collapsed": false,
    "pycharm": {
     "name": "#%%\n"
    }
   }
  },
  {
   "cell_type": "code",
   "execution_count": 339,
   "outputs": [
    {
     "name": "stderr",
     "output_type": "stream",
     "text": [
      "C:\\Users\\kinos\\AppData\\Local\\Temp\\ipykernel_30056\\3207606025.py:6: WavFileWarning: Chunk (non-data) not understood, skipping it.\n",
      "  sf, d = wavfile.read(path/data)\n",
      "C:\\Users\\kinos\\AppData\\Local\\Temp\\ipykernel_30056\\3207606025.py:6: WavFileWarning: Chunk (non-data) not understood, skipping it.\n",
      "  sf, d = wavfile.read(path/data)\n"
     ]
    },
    {
     "ename": "TypeError",
     "evalue": "cannot concatenate object of type '<class 'tuple'>'; only Series and DataFrame objs are valid",
     "output_type": "error",
     "traceback": [
      "\u001B[1;31m---------------------------------------------------------------------------\u001B[0m",
      "\u001B[1;31mTypeError\u001B[0m                                 Traceback (most recent call last)",
      "Cell \u001B[1;32mIn [339], line 7\u001B[0m\n\u001B[0;32m      5\u001B[0m no_cav_df \u001B[38;5;241m=\u001B[39m feature_pipe(No_cav_files,\u001B[38;5;241m0.1\u001B[39m,\u001B[38;5;124m\"\u001B[39m\u001B[38;5;124mNo Cavitation\u001B[39m\u001B[38;5;124m\"\u001B[39m)\n\u001B[0;32m      6\u001B[0m cav_df \u001B[38;5;241m=\u001B[39m feature_pipe(cav_files,\u001B[38;5;241m0.1\u001B[39m,\u001B[38;5;124m\"\u001B[39m\u001B[38;5;124mCavitation\u001B[39m\u001B[38;5;124m\"\u001B[39m)\n\u001B[1;32m----> 7\u001B[0m final_df \u001B[38;5;241m=\u001B[39m pd\u001B[38;5;241m.\u001B[39mconcat([no_cav_df, cav_df])\n\u001B[0;32m      8\u001B[0m final_df\n",
      "File \u001B[1;32m~\\TU_Wien\\Interdis_project\\Code\\venv\\lib\\site-packages\\pandas\\util\\_decorators.py:317\u001B[0m, in \u001B[0;36mdeprecate_nonkeyword_arguments.<locals>.decorate.<locals>.wrapper\u001B[1;34m(*args, **kwargs)\u001B[0m\n\u001B[0;32m    311\u001B[0m \u001B[38;5;28;01mif\u001B[39;00m \u001B[38;5;28mlen\u001B[39m(args) \u001B[38;5;241m>\u001B[39m num_allow_args:\n\u001B[0;32m    312\u001B[0m     warnings\u001B[38;5;241m.\u001B[39mwarn(\n\u001B[0;32m    313\u001B[0m         msg\u001B[38;5;241m.\u001B[39mformat(arguments\u001B[38;5;241m=\u001B[39marguments),\n\u001B[0;32m    314\u001B[0m         \u001B[38;5;167;01mFutureWarning\u001B[39;00m,\n\u001B[0;32m    315\u001B[0m         stacklevel\u001B[38;5;241m=\u001B[39mfind_stack_level(inspect\u001B[38;5;241m.\u001B[39mcurrentframe()),\n\u001B[0;32m    316\u001B[0m     )\n\u001B[1;32m--> 317\u001B[0m \u001B[38;5;28;01mreturn\u001B[39;00m func(\u001B[38;5;241m*\u001B[39margs, \u001B[38;5;241m*\u001B[39m\u001B[38;5;241m*\u001B[39mkwargs)\n",
      "File \u001B[1;32m~\\TU_Wien\\Interdis_project\\Code\\venv\\lib\\site-packages\\pandas\\core\\reshape\\concat.py:369\u001B[0m, in \u001B[0;36mconcat\u001B[1;34m(objs, axis, join, ignore_index, keys, levels, names, verify_integrity, sort, copy)\u001B[0m\n\u001B[0;32m    147\u001B[0m \u001B[38;5;129m@deprecate_nonkeyword_arguments\u001B[39m(version\u001B[38;5;241m=\u001B[39m\u001B[38;5;28;01mNone\u001B[39;00m, allowed_args\u001B[38;5;241m=\u001B[39m[\u001B[38;5;124m\"\u001B[39m\u001B[38;5;124mobjs\u001B[39m\u001B[38;5;124m\"\u001B[39m])\n\u001B[0;32m    148\u001B[0m \u001B[38;5;28;01mdef\u001B[39;00m \u001B[38;5;21mconcat\u001B[39m(\n\u001B[0;32m    149\u001B[0m     objs: Iterable[NDFrame] \u001B[38;5;241m|\u001B[39m Mapping[HashableT, NDFrame],\n\u001B[1;32m   (...)\u001B[0m\n\u001B[0;32m    158\u001B[0m     copy: \u001B[38;5;28mbool\u001B[39m \u001B[38;5;241m=\u001B[39m \u001B[38;5;28;01mTrue\u001B[39;00m,\n\u001B[0;32m    159\u001B[0m ) \u001B[38;5;241m-\u001B[39m\u001B[38;5;241m>\u001B[39m DataFrame \u001B[38;5;241m|\u001B[39m Series:\n\u001B[0;32m    160\u001B[0m     \u001B[38;5;124;03m\"\"\"\u001B[39;00m\n\u001B[0;32m    161\u001B[0m \u001B[38;5;124;03m    Concatenate pandas objects along a particular axis.\u001B[39;00m\n\u001B[0;32m    162\u001B[0m \n\u001B[1;32m   (...)\u001B[0m\n\u001B[0;32m    367\u001B[0m \u001B[38;5;124;03m    1   3   4\u001B[39;00m\n\u001B[0;32m    368\u001B[0m \u001B[38;5;124;03m    \"\"\"\u001B[39;00m\n\u001B[1;32m--> 369\u001B[0m     op \u001B[38;5;241m=\u001B[39m \u001B[43m_Concatenator\u001B[49m\u001B[43m(\u001B[49m\n\u001B[0;32m    370\u001B[0m \u001B[43m        \u001B[49m\u001B[43mobjs\u001B[49m\u001B[43m,\u001B[49m\n\u001B[0;32m    371\u001B[0m \u001B[43m        \u001B[49m\u001B[43maxis\u001B[49m\u001B[38;5;241;43m=\u001B[39;49m\u001B[43maxis\u001B[49m\u001B[43m,\u001B[49m\n\u001B[0;32m    372\u001B[0m \u001B[43m        \u001B[49m\u001B[43mignore_index\u001B[49m\u001B[38;5;241;43m=\u001B[39;49m\u001B[43mignore_index\u001B[49m\u001B[43m,\u001B[49m\n\u001B[0;32m    373\u001B[0m \u001B[43m        \u001B[49m\u001B[43mjoin\u001B[49m\u001B[38;5;241;43m=\u001B[39;49m\u001B[43mjoin\u001B[49m\u001B[43m,\u001B[49m\n\u001B[0;32m    374\u001B[0m \u001B[43m        \u001B[49m\u001B[43mkeys\u001B[49m\u001B[38;5;241;43m=\u001B[39;49m\u001B[43mkeys\u001B[49m\u001B[43m,\u001B[49m\n\u001B[0;32m    375\u001B[0m \u001B[43m        \u001B[49m\u001B[43mlevels\u001B[49m\u001B[38;5;241;43m=\u001B[39;49m\u001B[43mlevels\u001B[49m\u001B[43m,\u001B[49m\n\u001B[0;32m    376\u001B[0m \u001B[43m        \u001B[49m\u001B[43mnames\u001B[49m\u001B[38;5;241;43m=\u001B[39;49m\u001B[43mnames\u001B[49m\u001B[43m,\u001B[49m\n\u001B[0;32m    377\u001B[0m \u001B[43m        \u001B[49m\u001B[43mverify_integrity\u001B[49m\u001B[38;5;241;43m=\u001B[39;49m\u001B[43mverify_integrity\u001B[49m\u001B[43m,\u001B[49m\n\u001B[0;32m    378\u001B[0m \u001B[43m        \u001B[49m\u001B[43mcopy\u001B[49m\u001B[38;5;241;43m=\u001B[39;49m\u001B[43mcopy\u001B[49m\u001B[43m,\u001B[49m\n\u001B[0;32m    379\u001B[0m \u001B[43m        \u001B[49m\u001B[43msort\u001B[49m\u001B[38;5;241;43m=\u001B[39;49m\u001B[43msort\u001B[49m\u001B[43m,\u001B[49m\n\u001B[0;32m    380\u001B[0m \u001B[43m    \u001B[49m\u001B[43m)\u001B[49m\n\u001B[0;32m    382\u001B[0m     \u001B[38;5;28;01mreturn\u001B[39;00m op\u001B[38;5;241m.\u001B[39mget_result()\n",
      "File \u001B[1;32m~\\TU_Wien\\Interdis_project\\Code\\venv\\lib\\site-packages\\pandas\\core\\reshape\\concat.py:459\u001B[0m, in \u001B[0;36m_Concatenator.__init__\u001B[1;34m(self, objs, axis, join, keys, levels, names, ignore_index, verify_integrity, copy, sort)\u001B[0m\n\u001B[0;32m    454\u001B[0m     \u001B[38;5;28;01mif\u001B[39;00m \u001B[38;5;129;01mnot\u001B[39;00m \u001B[38;5;28misinstance\u001B[39m(obj, (ABCSeries, ABCDataFrame)):\n\u001B[0;32m    455\u001B[0m         msg \u001B[38;5;241m=\u001B[39m (\n\u001B[0;32m    456\u001B[0m             \u001B[38;5;124mf\u001B[39m\u001B[38;5;124m\"\u001B[39m\u001B[38;5;124mcannot concatenate object of type \u001B[39m\u001B[38;5;124m'\u001B[39m\u001B[38;5;132;01m{\u001B[39;00m\u001B[38;5;28mtype\u001B[39m(obj)\u001B[38;5;132;01m}\u001B[39;00m\u001B[38;5;124m'\u001B[39m\u001B[38;5;124m; \u001B[39m\u001B[38;5;124m\"\u001B[39m\n\u001B[0;32m    457\u001B[0m             \u001B[38;5;124m\"\u001B[39m\u001B[38;5;124monly Series and DataFrame objs are valid\u001B[39m\u001B[38;5;124m\"\u001B[39m\n\u001B[0;32m    458\u001B[0m         )\n\u001B[1;32m--> 459\u001B[0m         \u001B[38;5;28;01mraise\u001B[39;00m \u001B[38;5;167;01mTypeError\u001B[39;00m(msg)\n\u001B[0;32m    461\u001B[0m     ndims\u001B[38;5;241m.\u001B[39madd(obj\u001B[38;5;241m.\u001B[39mndim)\n\u001B[0;32m    463\u001B[0m \u001B[38;5;66;03m# get the sample\u001B[39;00m\n\u001B[0;32m    464\u001B[0m \u001B[38;5;66;03m# want the highest ndim that we have, and must be non-empty\u001B[39;00m\n\u001B[0;32m    465\u001B[0m \u001B[38;5;66;03m# unless all objs are empty\u001B[39;00m\n",
      "\u001B[1;31mTypeError\u001B[0m: cannot concatenate object of type '<class 'tuple'>'; only Series and DataFrame objs are valid"
     ]
    }
   ],
   "source": [
    "No_cav_files = [\"sxmany_200206_007_HKMNetzpumpe04_004_RP1_FC_01_C06_SB1_L0_XX_XXXX_YY_YYYY_ZZZZZZ_10.wav\"]\n",
    "cav_files = [\"s00000_191115_007_KesselpumpHD02_002_RP1_FC_01_P06_SB1_L0_KS_XXXX_YY_YYYY_ZZZZZZ_16.wav\"]\n",
    "\n",
    "\n",
    "no_cav_df = feature_pipe(No_cav_files,0.1,\"No Cavitation\")[1]\n",
    "cav_df = feature_pipe(cav_files,0.1,\"Cavitation\")[1]\n",
    "final_df = pd.concat([no_cav_df, cav_df])\n",
    "final_df"
   ],
   "metadata": {
    "collapsed": false,
    "pycharm": {
     "name": "#%%\n"
    }
   }
  },
  {
   "cell_type": "markdown",
   "source": [
    "XGBOOST\n"
   ],
   "metadata": {
    "collapsed": false
   }
  },
  {
   "cell_type": "code",
   "execution_count": 340,
   "outputs": [
    {
     "name": "stderr",
     "output_type": "stream",
     "text": [
      "C:\\Users\\kinos\\TU_Wien\\Interdis_project\\Code\\venv\\lib\\site-packages\\pandas\\core\\dtypes\\astype.py:170: ComplexWarning: Casting complex values to real discards the imaginary part\n",
      "  return arr.astype(dtype, copy=True)\n"
     ]
    },
    {
     "name": "stdout",
     "output_type": "stream",
     "text": [
      "[20:26:06] WARNING: C:/Users/administrator/workspace/xgboost-win64_release_1.6.0/src/learner.cc:627: \n",
      "Parameters: { \"silent\" } might not be used.\n",
      "\n",
      "  This could be a false alarm, with some parameters getting used by language bindings but\n",
      "  then being mistakenly passed down to XGBoost core, or some parameter actually being used\n",
      "  but getting flagged wrongly here. Please open an issue if you find any such cases.\n",
      "\n",
      "\n",
      "XGBClassifier(base_score=0.5, booster='gbtree', callbacks=None,\n",
      "              colsample_bylevel=1, colsample_bynode=1, colsample_bytree=0.4,\n",
      "              early_stopping_rounds=None, enable_categorical=False,\n",
      "              eval_metric=None, gamma=10, gpu_id=-1, grow_policy='depthwise',\n",
      "              importance_type=None, interaction_constraints='',\n",
      "              learning_rate=0.01, max_bin=256, max_cat_to_onehot=4,\n",
      "              max_delta_step=0, max_depth=4, max_leaves=0, min_child_weight=1,\n",
      "              missing=nan, monotone_constraints='()', n_estimators=1000,\n",
      "              n_jobs=0, num_parallel_tree=1, predictor='auto', random_state=0,\n",
      "              reg_alpha=0.3, reg_lambda=1, ...)\n"
     ]
    }
   ],
   "source": [
    "import xgboost as xgb\n",
    "from sklearn.model_selection import train_test_split\n",
    "\n",
    "y = final_df[\"Cavitation\"]\n",
    "X = final_df.loc[:, final_df.columns != 'Cavitation'].astype('float')\n",
    "\n",
    "X_train,X_test,y_train,y_test= train_test_split(X, y, test_size=0.3, random_state=1623806)\n",
    "\n",
    "\n",
    "\n",
    "gbm_param_grid = {\n",
    "    'clf__learning_rate': np.arange(.05, 1, .05),\n",
    "    'clf__max_depth': np.arange(3,10, 1),\n",
    "    'clf__n_estimators': np.arange(50, 200, 50)\n",
    "}\n",
    "#model = xgb.XGBClassifier()\n",
    "\n",
    "model = xgb.XGBClassifier(silent=False,\n",
    "                      scale_pos_weight=1,\n",
    "                      learning_rate=0.01,\n",
    "                      colsample_bytree = 0.4,\n",
    "                      subsample = 0.8,\n",
    "                      objective='binary:logistic',\n",
    "                      n_estimators=1000,\n",
    "                      reg_alpha = 0.3,\n",
    "                      max_depth=4,\n",
    "                      gamma=10)\n",
    "model.fit(X_train, y_train)\n",
    "print(model)\n",
    "predicted_y = model.predict(X_test)"
   ],
   "metadata": {
    "collapsed": false,
    "pycharm": {
     "name": "#%%\n"
    }
   }
  },
  {
   "cell_type": "code",
   "execution_count": 255,
   "outputs": [
    {
     "data": {
      "text/plain": "       Variable  Importance\n6      quartile    0.185675\n4           Max    0.185646\n2   quartile_25    0.185399\n3   quartile_75    0.159390\n5           Min    0.156127\n7           std    0.127763\n0          mean    0.000000\n1        median    0.000000\n8           rms    0.000000\n9           sra    0.000000\n10           ff    0.000000\n11          clf    0.000000\n12           cf    0.000000",
      "text/html": "<div>\n<style scoped>\n    .dataframe tbody tr th:only-of-type {\n        vertical-align: middle;\n    }\n\n    .dataframe tbody tr th {\n        vertical-align: top;\n    }\n\n    .dataframe thead th {\n        text-align: right;\n    }\n</style>\n<table border=\"1\" class=\"dataframe\">\n  <thead>\n    <tr style=\"text-align: right;\">\n      <th></th>\n      <th>Variable</th>\n      <th>Importance</th>\n    </tr>\n  </thead>\n  <tbody>\n    <tr>\n      <th>6</th>\n      <td>quartile</td>\n      <td>0.185675</td>\n    </tr>\n    <tr>\n      <th>4</th>\n      <td>Max</td>\n      <td>0.185646</td>\n    </tr>\n    <tr>\n      <th>2</th>\n      <td>quartile_25</td>\n      <td>0.185399</td>\n    </tr>\n    <tr>\n      <th>3</th>\n      <td>quartile_75</td>\n      <td>0.159390</td>\n    </tr>\n    <tr>\n      <th>5</th>\n      <td>Min</td>\n      <td>0.156127</td>\n    </tr>\n    <tr>\n      <th>7</th>\n      <td>std</td>\n      <td>0.127763</td>\n    </tr>\n    <tr>\n      <th>0</th>\n      <td>mean</td>\n      <td>0.000000</td>\n    </tr>\n    <tr>\n      <th>1</th>\n      <td>median</td>\n      <td>0.000000</td>\n    </tr>\n    <tr>\n      <th>8</th>\n      <td>rms</td>\n      <td>0.000000</td>\n    </tr>\n    <tr>\n      <th>9</th>\n      <td>sra</td>\n      <td>0.000000</td>\n    </tr>\n    <tr>\n      <th>10</th>\n      <td>ff</td>\n      <td>0.000000</td>\n    </tr>\n    <tr>\n      <th>11</th>\n      <td>clf</td>\n      <td>0.000000</td>\n    </tr>\n    <tr>\n      <th>12</th>\n      <td>cf</td>\n      <td>0.000000</td>\n    </tr>\n  </tbody>\n</table>\n</div>"
     },
     "execution_count": 255,
     "metadata": {},
     "output_type": "execute_result"
    }
   ],
   "source": [
    "pd.DataFrame({'Variable':X.columns,\n",
    "              'Importance':model.feature_importances_}).sort_values('Importance', ascending=False)"
   ],
   "metadata": {
    "collapsed": false,
    "pycharm": {
     "name": "#%%\n"
    }
   }
  },
  {
   "cell_type": "code",
   "execution_count": 256,
   "outputs": [
    {
     "name": "stdout",
     "output_type": "stream",
     "text": [
      "              precision    recall  f1-score   support\n",
      "\n",
      "           0       1.00      1.00      1.00       181\n",
      "           1       1.00      1.00      1.00       179\n",
      "\n",
      "    accuracy                           1.00       360\n",
      "   macro avg       1.00      1.00      1.00       360\n",
      "weighted avg       1.00      1.00      1.00       360\n",
      "\n",
      "[[181   0]\n",
      " [  0 179]]\n"
     ]
    }
   ],
   "source": [
    "from sklearn import metrics\n",
    "print(metrics.classification_report(y_test, predicted_y))\n",
    "print(metrics.confusion_matrix(y_test, predicted_y))"
   ],
   "metadata": {
    "collapsed": false,
    "pycharm": {
     "name": "#%%\n"
    }
   }
  },
  {
   "cell_type": "code",
   "execution_count": 341,
   "outputs": [],
   "source": [
    "\n",
    "def Classification_pipe (splits_in_sec, cavitation_data, no_cavitation_data,test_split_ratio ):\n",
    "\n",
    "    non_cav_len, no_cav_df = feature_pipe(no_cavitation_data,splits_in_sec,\"No Cavitation\")\n",
    "    cav_len, cav_df = feature_pipe(cavitation_data,splits_in_sec,\"Cavitation\")\n",
    "    final_df = pd.concat([no_cav_df, cav_df])\n",
    "\n",
    "    y = final_df[\"Cavitation\"]\n",
    "    X = final_df.loc[:, final_df.columns != 'Cavitation'].astype('float')\n",
    "\n",
    "\n",
    "    X_train,X_test,y_train,y_test = train_test_split(X, y, test_size = test_split_ratio, random_state = 1623806)\n",
    "\n",
    "    model = xgb.XGBClassifier()\n",
    "    model.fit(X_train, y_train)\n",
    "    print(model)\n",
    "\n",
    "    predicted_y = model.predict(X_test)\n",
    "    print(metrics.classification_report(y_test, predicted_y))\n",
    "    print(metrics.confusion_matrix(y_test, predicted_y))\n",
    "    return metrics.confusion_matrix(y_test, predicted_y)"
   ],
   "metadata": {
    "collapsed": false,
    "pycharm": {
     "name": "#%%\n"
    }
   }
  },
  {
   "cell_type": "code",
   "execution_count": 342,
   "outputs": [
    {
     "name": "stderr",
     "output_type": "stream",
     "text": [
      "C:\\Users\\kinos\\AppData\\Local\\Temp\\ipykernel_30056\\3207606025.py:6: WavFileWarning: Chunk (non-data) not understood, skipping it.\n",
      "  sf, d = wavfile.read(path/data)\n",
      "C:\\Users\\kinos\\AppData\\Local\\Temp\\ipykernel_30056\\3207606025.py:6: WavFileWarning: Chunk (non-data) not understood, skipping it.\n",
      "  sf, d = wavfile.read(path/data)\n"
     ]
    },
    {
     "name": "stdout",
     "output_type": "stream",
     "text": [
      "XGBClassifier(base_score=0.5, booster='gbtree', callbacks=None,\n",
      "              colsample_bylevel=1, colsample_bynode=1, colsample_bytree=1,\n",
      "              early_stopping_rounds=None, enable_categorical=False,\n",
      "              eval_metric=None, gamma=0, gpu_id=-1, grow_policy='depthwise',\n",
      "              importance_type=None, interaction_constraints='',\n",
      "              learning_rate=0.300000012, max_bin=256, max_cat_to_onehot=4,\n",
      "              max_delta_step=0, max_depth=6, max_leaves=0, min_child_weight=1,\n",
      "              missing=nan, monotone_constraints='()', n_estimators=100,\n",
      "              n_jobs=0, num_parallel_tree=1, predictor='auto', random_state=0,\n",
      "              reg_alpha=0, reg_lambda=1, ...)\n",
      "              precision    recall  f1-score   support\n",
      "\n",
      "           0       1.00      1.00      1.00         4\n",
      "           1       1.00      1.00      1.00         8\n",
      "\n",
      "    accuracy                           1.00        12\n",
      "   macro avg       1.00      1.00      1.00        12\n",
      "weighted avg       1.00      1.00      1.00        12\n",
      "\n",
      "[[4 0]\n",
      " [0 8]]\n"
     ]
    },
    {
     "name": "stderr",
     "output_type": "stream",
     "text": [
      "C:\\Users\\kinos\\TU_Wien\\Interdis_project\\Code\\venv\\lib\\site-packages\\pandas\\core\\dtypes\\astype.py:170: ComplexWarning: Casting complex values to real discards the imaginary part\n",
      "  return arr.astype(dtype, copy=True)\n"
     ]
    },
    {
     "data": {
      "text/plain": "array([[4, 0],\n       [0, 8]], dtype=int64)"
     },
     "execution_count": 342,
     "metadata": {},
     "output_type": "execute_result"
    }
   ],
   "source": [
    "No_cav_files = [\"sxmany_200206_007_HKMNetzpumpe04_004_RP1_FC_01_C06_SB1_L0_XX_XXXX_YY_YYYY_ZZZZZZ_10.wav\"]\n",
    "cav_files = [\"s00000_191115_007_KesselpumpHD02_002_RP1_FC_01_P06_SB1_L0_KS_XXXX_YY_YYYY_ZZZZZZ_16.wav\"]\n",
    "\n",
    "Classification_pipe(1, cav_files, No_cav_files, 0.3)"
   ],
   "metadata": {
    "collapsed": false,
    "pycharm": {
     "name": "#%%\n"
    }
   }
  },
  {
   "cell_type": "markdown",
   "source": [],
   "metadata": {
    "collapsed": false
   }
  },
  {
   "cell_type": "code",
   "execution_count": 363,
   "outputs": [],
   "source": [
    "from sklearn.model_selection import GridSearchCV, StratifiedKFold\n",
    "def Classification_pipe_Grid (splits_in_sec, cavitation_data, no_cavitation_data,test_split_ratio ):\n",
    "    #read in files\n",
    "    print(f'\\n Reading in files, splitting in {splits_in_sec} second samples, transforming and extracting features')\n",
    "    non_cav_len, no_cav_df = feature_pipe(no_cavitation_data,splits_in_sec,\"No Cavitation\")\n",
    "    cav_len, cav_df = feature_pipe(cavitation_data,splits_in_sec,\"Cavitation\")\n",
    "    final_df = pd.concat([no_cav_df, cav_df])\n",
    "    length = cav_len + non_cav_len\n",
    "    print(f'\\n Done! We have {length} samples!')\n",
    "    #y = final_df[\"Cavitation\"]\n",
    "    #X = final_df.loc[:, final_df.columns != 'Cavitation'].astype('float')\n",
    "    #split in train test, keep for output\n",
    "\n",
    "    train, test = train_test_split(final_df, test_size = test_split_ratio, random_state = 1623806)\n",
    "    X_train = train.loc[:, final_df.columns != 'Cavitation'].astype('float')\n",
    "    X_test = test.loc[:, final_df.columns != 'Cavitation'].astype('float')\n",
    "    y_train = train[\"Cavitation\"]\n",
    "    y_test = test[\"Cavitation\"]\n",
    "    print(f'\\n Train set: {len(train)} samples!')\n",
    "    print(f'\\n Test set: {len(test)} samples!')\n",
    "    print('\\n Starting Gridsearch, fine tuning parameters')\n",
    "    model = xgb.XGBClassifier()\n",
    "    #parameters for gridsearch\n",
    "    param = {\n",
    "    'max_depth': range (2, 10, 1),\n",
    "    'n_estimators': range(100, 1000, 100),\n",
    "    'learning_rate': [0.1, 0.01, 0.05]\n",
    "}\n",
    "    grid = GridSearchCV(model, param, n_jobs=5,\n",
    "                    cv = 10,\n",
    "                       #StratifiedKFold( n_splits=5, shuffle=True),\n",
    "                       scoring='roc_auc', verbose=True, refit=True)\n",
    "\n",
    "    grid.fit(X_train, y_train)\n",
    "    #Output\n",
    "    print('\\n Best estimator:')\n",
    "    print(grid.best_estimator_)\n",
    "    print('\\n  best_score_:')\n",
    "    print(grid.best_score_)\n",
    "    print('\\n Best parameters:')\n",
    "    print(grid.best_params_)\n",
    "\n",
    "    predicted_y = grid.predict(X_test)\n",
    "\n",
    "    print('\\n Classification report on unseen test set:')\n",
    "    print(metrics.classification_report(y_test, predicted_y))\n",
    "    print('\\n Confusion matrix on unseen test set')\n",
    "    print(metrics.confusion_matrix(y_test, predicted_y))\n",
    "    importance = pd.DataFrame({'Variable':X.columns,\n",
    "              'Importance':grid.best_estimator_.feature_importances_}).sort_values('Importance', ascending=False)\n",
    "    print('\\n Feature importance:')\n",
    "    print(importance)\n",
    "    return train, test, grid.best_estimator_\n",
    "   # predicted_y = model.predict(X_test)\n",
    "   # print(metrics.classification_report(y_test, predicted_y))\n",
    "   # print(metrics.confusion_matrix(y_test, predicted_y))\n",
    "   # return metrics.confusion_matrix(y_test, predicted_y)"
   ],
   "metadata": {
    "collapsed": false,
    "pycharm": {
     "name": "#%%\n"
    }
   }
  },
  {
   "cell_type": "code",
   "execution_count": 364,
   "outputs": [
    {
     "name": "stdout",
     "output_type": "stream",
     "text": [
      "\n",
      " Reading in files, splitting in 0.1 second samples, transforming and extracting features\n"
     ]
    },
    {
     "name": "stderr",
     "output_type": "stream",
     "text": [
      "C:\\Users\\kinos\\AppData\\Local\\Temp\\ipykernel_30056\\3207606025.py:6: WavFileWarning: Chunk (non-data) not understood, skipping it.\n",
      "  sf, d = wavfile.read(path/data)\n",
      "C:\\Users\\kinos\\AppData\\Local\\Temp\\ipykernel_30056\\3207606025.py:6: WavFileWarning: Chunk (non-data) not understood, skipping it.\n",
      "  sf, d = wavfile.read(path/data)\n"
     ]
    },
    {
     "name": "stdout",
     "output_type": "stream",
     "text": [
      "\n",
      " Done! We have 400 samples!\n",
      "\n",
      " Train set: 280 samples!\n",
      "\n",
      " Test set: 120 samples!\n",
      "\n",
      " Starting Gridsearch, fine tuning parameters\n",
      "Fitting 10 folds for each of 216 candidates, totalling 2160 fits\n"
     ]
    },
    {
     "name": "stderr",
     "output_type": "stream",
     "text": [
      "C:\\Users\\kinos\\TU_Wien\\Interdis_project\\Code\\venv\\lib\\site-packages\\pandas\\core\\dtypes\\astype.py:170: ComplexWarning: Casting complex values to real discards the imaginary part\n",
      "  return arr.astype(dtype, copy=True)\n"
     ]
    },
    {
     "name": "stdout",
     "output_type": "stream",
     "text": [
      "\n",
      " Best estimator:\n",
      "XGBClassifier(base_score=0.5, booster='gbtree', callbacks=None,\n",
      "              colsample_bylevel=1, colsample_bynode=1, colsample_bytree=1,\n",
      "              early_stopping_rounds=None, enable_categorical=False,\n",
      "              eval_metric=None, gamma=0, gpu_id=-1, grow_policy='depthwise',\n",
      "              importance_type=None, interaction_constraints='',\n",
      "              learning_rate=0.1, max_bin=256, max_cat_to_onehot=4,\n",
      "              max_delta_step=0, max_depth=2, max_leaves=0, min_child_weight=1,\n",
      "              missing=nan, monotone_constraints='()', n_estimators=100,\n",
      "              n_jobs=0, num_parallel_tree=1, predictor='auto', random_state=0,\n",
      "              reg_alpha=0, reg_lambda=1, ...)\n",
      "\n",
      "  best_score_:\n",
      "1.0\n",
      "\n",
      " Best parameters:\n",
      "{'learning_rate': 0.1, 'max_depth': 2, 'n_estimators': 100}\n",
      "\n",
      " Classification report on unseen test set:\n",
      "              precision    recall  f1-score   support\n",
      "\n",
      "           0       1.00      1.00      1.00        57\n",
      "           1       1.00      1.00      1.00        63\n",
      "\n",
      "    accuracy                           1.00       120\n",
      "   macro avg       1.00      1.00      1.00       120\n",
      "weighted avg       1.00      1.00      1.00       120\n",
      "\n",
      "\n",
      " Confusion matrix on unseen test set\n",
      "[[57  0]\n",
      " [ 0 63]]\n",
      "\n",
      " Feature importance:\n",
      "       Variable  Importance\n",
      "2   quartile_25         1.0\n",
      "0          mean         0.0\n",
      "1        median         0.0\n",
      "3   quartile_75         0.0\n",
      "4           Max         0.0\n",
      "5           Min         0.0\n",
      "6      quartile         0.0\n",
      "7           std         0.0\n",
      "8           rms         0.0\n",
      "9           sra         0.0\n",
      "10           ff         0.0\n",
      "11          clf         0.0\n",
      "12           cf         0.0\n"
     ]
    }
   ],
   "source": [
    "train, test, best_model = Classification_pipe_Grid(0.1, cav_files, No_cav_files, 0.3)"
   ],
   "metadata": {
    "collapsed": false,
    "pycharm": {
     "name": "#%%\n"
    }
   }
  },
  {
   "cell_type": "code",
   "execution_count": 329,
   "outputs": [
    {
     "data": {
      "text/plain": "array([1, 0, 0, 0, 0, 0, 0, 0, 1, 1, 0, 1, 1, 1, 1, 1, 0, 0, 1, 1, 1, 0,\n       1, 0])"
     },
     "execution_count": 329,
     "metadata": {},
     "output_type": "execute_result"
    }
   ],
   "source": [
    "best_model.predict(X_test)"
   ],
   "metadata": {
    "collapsed": false,
    "pycharm": {
     "name": "#%%\n"
    }
   }
  },
  {
   "cell_type": "code",
   "execution_count": 331,
   "outputs": [
    {
     "data": {
      "text/plain": "array([[12,  0],\n       [ 0, 12]], dtype=int64)"
     },
     "execution_count": 331,
     "metadata": {},
     "output_type": "execute_result"
    }
   ],
   "source": [
    "\n",
    "metrics.confusion_matrix(y_test, model.predict(X_test))"
   ],
   "metadata": {
    "collapsed": false,
    "pycharm": {
     "name": "#%%\n"
    }
   }
  },
  {
   "cell_type": "code",
   "execution_count": 321,
   "outputs": [
    {
     "data": {
      "text/plain": "array([0, 0, 0, 0, 0, 0, 0, 0, 0, 0, 0, 0, 0, 0, 0, 0, 0, 0, 0, 0, 0, 0,\n       0, 0, 0, 0, 0, 0, 0, 0, 0, 0, 0, 0, 0, 0, 0, 0, 0, 0])"
     },
     "execution_count": 321,
     "metadata": {},
     "output_type": "execute_result"
    }
   ],
   "source": [],
   "metadata": {
    "collapsed": false,
    "pycharm": {
     "name": "#%%\n"
    }
   }
  },
  {
   "cell_type": "code",
   "execution_count": 225,
   "outputs": [],
   "source": [],
   "metadata": {
    "collapsed": false,
    "pycharm": {
     "name": "#%%\n"
    }
   }
  },
  {
   "cell_type": "code",
   "execution_count": null,
   "outputs": [],
   "source": [],
   "metadata": {
    "collapsed": false,
    "pycharm": {
     "name": "#%%\n"
    }
   }
  }
 ],
 "metadata": {
  "kernelspec": {
   "display_name": "Python 3",
   "language": "python",
   "name": "python3"
  },
  "language_info": {
   "codemirror_mode": {
    "name": "ipython",
    "version": 2
   },
   "file_extension": ".py",
   "mimetype": "text/x-python",
   "name": "python",
   "nbconvert_exporter": "python",
   "pygments_lexer": "ipython2",
   "version": "2.7.6"
  }
 },
 "nbformat": 4,
 "nbformat_minor": 0
}