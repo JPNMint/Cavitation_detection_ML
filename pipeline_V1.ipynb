{
 "cells": [
  {
   "cell_type": "markdown",
   "source": [
    "### Read data (wav)\n",
    "First read in high cavitation files."
   ],
   "metadata": {
    "collapsed": false,
    "pycharm": {
     "name": "#%% md\n"
    }
   }
  },
  {
   "cell_type": "code",
   "execution_count": 1,
   "outputs": [],
   "source": [
    "from pathlib import Path\n",
    "from scipy.io import wavfile\n",
    "import numpy as np\n",
    "import pandas as pd\n",
    "import matplotlib.pyplot as plt\n"
   ],
   "metadata": {
    "collapsed": false,
    "pycharm": {
     "name": "#%%\n"
    }
   }
  },
  {
   "cell_type": "code",
   "execution_count": 64,
   "outputs": [],
   "source": [
    "def read_wav(dataset_names):\n",
    "    samplerate = []\n",
    "    df = []\n",
    "    for data in dataset_names:\n",
    "        path =  Path.cwd()/\"data\"\n",
    "        sf, d = wavfile.read(path/data)\n",
    "        samplerate.append(sf)\n",
    "        df.append(d)\n",
    "    return samplerate , df"
   ],
   "metadata": {
    "collapsed": false,
    "pycharm": {
     "name": "#%%\n"
    }
   }
  },
  {
   "cell_type": "code",
   "execution_count": 65,
   "outputs": [
    {
     "name": "stderr",
     "output_type": "stream",
     "text": [
      "C:\\Users\\kinos\\AppData\\Local\\Temp\\ipykernel_2044\\3207606025.py:6: WavFileWarning: Chunk (non-data) not understood, skipping it.\n",
      "  sf, d = wavfile.read(path/data)\n"
     ]
    }
   ],
   "source": [
    "datasets = [\"s00000_191115_007_KesselpumpHD02_002_RP1_FC_01_P06_SB1_L0_KS_XXXX_YY_YYYY_ZZZZZZ_16.wav\"]\n",
    "#,\"sxmany_200206_007_HKMNetzpumpe04_004_RP1_FC_01_C06_SB1_L0_XX_XXXX_YY_YYYY_ZZZZZZ_10.wav\"\n",
    "sr, df = read_wav(datasets)"
   ],
   "metadata": {
    "collapsed": false,
    "pycharm": {
     "name": "#%%\n"
    }
   }
  },
  {
   "cell_type": "markdown",
   "source": [
    "## Splitting\n",
    "\n",
    "Splitting the data in 2 second samples"
   ],
   "metadata": {
    "collapsed": false
   }
  },
  {
   "cell_type": "code",
   "execution_count": 4,
   "outputs": [],
   "source": [
    "\n",
    "def splitting (sr, df, sec):\n",
    "    #get sr for section\n",
    "    seg_len = int(sr * sec)\n",
    "\n",
    "    splits = []\n",
    "\n",
    "    for data in df:\n",
    "        #get number of sections\n",
    "        sections = int(np.ceil(len(data) / seg_len))\n",
    "        for i in range(sections):\n",
    "            #slice section range\n",
    "            t = data[i * seg_len: (i + 1) * seg_len]\n",
    "            splits.append(t)\n",
    "\n",
    "\n",
    "    return splits"
   ],
   "metadata": {
    "collapsed": false,
    "pycharm": {
     "name": "#%%\n"
    }
   }
  },
  {
   "cell_type": "code",
   "execution_count": 5,
   "outputs": [],
   "source": [
    "df_split = splitting(sr[0],df, 3)"
   ],
   "metadata": {
    "collapsed": false,
    "pycharm": {
     "name": "#%%\n"
    }
   }
  },
  {
   "cell_type": "markdown",
   "source": [
    "## Fourier Transformation\n",
    "\n",
    "Transform data into frequency domain."
   ],
   "metadata": {
    "collapsed": false
   }
  },
  {
   "cell_type": "code",
   "execution_count": 260,
   "outputs": [],
   "source": [
    "from scipy.fftpack import fft, ifft\n",
    "\n",
    "def fourier_trans(sr, data):\n",
    "    df_ftt = []\n",
    "    freq = []\n",
    "\n",
    "    df = pd.DataFrame()\n",
    "    x = 0\n",
    "    for i in data:\n",
    "\n",
    "        length = i.shape[0] / sr\n",
    "        N = i.shape[0]\n",
    "        n = np.arange(N)\n",
    "        freq.append(n/length)\n",
    "        df_i = pd.DataFrame(fft(i).real, columns = [x])\n",
    "        x += 1\n",
    "        df = pd.concat([df,df_i], axis = 1)\n",
    "\n",
    "    return freq, df"
   ],
   "metadata": {
    "collapsed": false,
    "pycharm": {
     "name": "#%%\n"
    }
   }
  },
  {
   "cell_type": "code",
   "execution_count": 261,
   "outputs": [],
   "source": [
    "freq, df_fft = fourier_trans(sr[0],df_split)"
   ],
   "metadata": {
    "collapsed": false,
    "pycharm": {
     "name": "#%%\n"
    }
   }
  },
  {
   "cell_type": "code",
   "execution_count": 262,
   "outputs": [
    {
     "data": {
      "text/plain": "                 0           1           2            3            4  \\\n0       278.000000  645.000000 -135.000000 -1153.000000  1064.000000   \n1       342.250000  574.898438  260.819336  -638.945312   668.270508   \n2       186.227539  555.812500  509.646484  -179.468750  1170.539062   \n3       371.148926  318.750000    0.968750  -381.812500   817.406250   \n4       380.007812  286.539062  -43.500000  -736.306641   864.807617   \n...            ...         ...         ...          ...          ...   \n511995  134.187500  690.296875  479.276855 -1185.312500  1004.023438   \n511996  380.007812  286.539062  -43.500000  -736.306641   864.807617   \n511997  371.148926  318.750000    0.968750  -381.812500   817.406250   \n511998  186.227539  555.812500  509.646484  -179.468750  1170.539062   \n511999  342.250000  574.898438  260.819336  -638.945312   668.270508   \n\n                  5           6            7           8           9  \n0      -1010.000000  131.000000   464.000000 -393.000000 -408.000000  \n1      -1048.390625  202.515625   693.941406 -760.019531 -747.296387  \n2      -1091.683594  354.812500   757.660156 -389.054688 -384.593750  \n3       -940.328125  311.156250   885.546875 -828.718750 -530.015625  \n4       -868.732422  107.531250   835.655273 -610.578125 -223.882812  \n...             ...         ...          ...         ...         ...  \n511995 -1126.781250  256.375000  1057.640625 -549.812500 -678.289062  \n511996  -868.732422  107.531250   835.655273 -610.578125 -223.882812  \n511997  -940.328125  311.156250   885.546875 -828.718750 -530.015625  \n511998 -1091.683594  354.812500   757.660156 -389.054688 -384.593750  \n511999 -1048.390625  202.515625   693.941406 -760.019531 -747.296387  \n\n[512000 rows x 10 columns]",
      "text/html": "<div>\n<style scoped>\n    .dataframe tbody tr th:only-of-type {\n        vertical-align: middle;\n    }\n\n    .dataframe tbody tr th {\n        vertical-align: top;\n    }\n\n    .dataframe thead th {\n        text-align: right;\n    }\n</style>\n<table border=\"1\" class=\"dataframe\">\n  <thead>\n    <tr style=\"text-align: right;\">\n      <th></th>\n      <th>0</th>\n      <th>1</th>\n      <th>2</th>\n      <th>3</th>\n      <th>4</th>\n      <th>5</th>\n      <th>6</th>\n      <th>7</th>\n      <th>8</th>\n      <th>9</th>\n    </tr>\n  </thead>\n  <tbody>\n    <tr>\n      <th>0</th>\n      <td>278.000000</td>\n      <td>645.000000</td>\n      <td>-135.000000</td>\n      <td>-1153.000000</td>\n      <td>1064.000000</td>\n      <td>-1010.000000</td>\n      <td>131.000000</td>\n      <td>464.000000</td>\n      <td>-393.000000</td>\n      <td>-408.000000</td>\n    </tr>\n    <tr>\n      <th>1</th>\n      <td>342.250000</td>\n      <td>574.898438</td>\n      <td>260.819336</td>\n      <td>-638.945312</td>\n      <td>668.270508</td>\n      <td>-1048.390625</td>\n      <td>202.515625</td>\n      <td>693.941406</td>\n      <td>-760.019531</td>\n      <td>-747.296387</td>\n    </tr>\n    <tr>\n      <th>2</th>\n      <td>186.227539</td>\n      <td>555.812500</td>\n      <td>509.646484</td>\n      <td>-179.468750</td>\n      <td>1170.539062</td>\n      <td>-1091.683594</td>\n      <td>354.812500</td>\n      <td>757.660156</td>\n      <td>-389.054688</td>\n      <td>-384.593750</td>\n    </tr>\n    <tr>\n      <th>3</th>\n      <td>371.148926</td>\n      <td>318.750000</td>\n      <td>0.968750</td>\n      <td>-381.812500</td>\n      <td>817.406250</td>\n      <td>-940.328125</td>\n      <td>311.156250</td>\n      <td>885.546875</td>\n      <td>-828.718750</td>\n      <td>-530.015625</td>\n    </tr>\n    <tr>\n      <th>4</th>\n      <td>380.007812</td>\n      <td>286.539062</td>\n      <td>-43.500000</td>\n      <td>-736.306641</td>\n      <td>864.807617</td>\n      <td>-868.732422</td>\n      <td>107.531250</td>\n      <td>835.655273</td>\n      <td>-610.578125</td>\n      <td>-223.882812</td>\n    </tr>\n    <tr>\n      <th>...</th>\n      <td>...</td>\n      <td>...</td>\n      <td>...</td>\n      <td>...</td>\n      <td>...</td>\n      <td>...</td>\n      <td>...</td>\n      <td>...</td>\n      <td>...</td>\n      <td>...</td>\n    </tr>\n    <tr>\n      <th>511995</th>\n      <td>134.187500</td>\n      <td>690.296875</td>\n      <td>479.276855</td>\n      <td>-1185.312500</td>\n      <td>1004.023438</td>\n      <td>-1126.781250</td>\n      <td>256.375000</td>\n      <td>1057.640625</td>\n      <td>-549.812500</td>\n      <td>-678.289062</td>\n    </tr>\n    <tr>\n      <th>511996</th>\n      <td>380.007812</td>\n      <td>286.539062</td>\n      <td>-43.500000</td>\n      <td>-736.306641</td>\n      <td>864.807617</td>\n      <td>-868.732422</td>\n      <td>107.531250</td>\n      <td>835.655273</td>\n      <td>-610.578125</td>\n      <td>-223.882812</td>\n    </tr>\n    <tr>\n      <th>511997</th>\n      <td>371.148926</td>\n      <td>318.750000</td>\n      <td>0.968750</td>\n      <td>-381.812500</td>\n      <td>817.406250</td>\n      <td>-940.328125</td>\n      <td>311.156250</td>\n      <td>885.546875</td>\n      <td>-828.718750</td>\n      <td>-530.015625</td>\n    </tr>\n    <tr>\n      <th>511998</th>\n      <td>186.227539</td>\n      <td>555.812500</td>\n      <td>509.646484</td>\n      <td>-179.468750</td>\n      <td>1170.539062</td>\n      <td>-1091.683594</td>\n      <td>354.812500</td>\n      <td>757.660156</td>\n      <td>-389.054688</td>\n      <td>-384.593750</td>\n    </tr>\n    <tr>\n      <th>511999</th>\n      <td>342.250000</td>\n      <td>574.898438</td>\n      <td>260.819336</td>\n      <td>-638.945312</td>\n      <td>668.270508</td>\n      <td>-1048.390625</td>\n      <td>202.515625</td>\n      <td>693.941406</td>\n      <td>-760.019531</td>\n      <td>-747.296387</td>\n    </tr>\n  </tbody>\n</table>\n<p>512000 rows × 10 columns</p>\n</div>"
     },
     "execution_count": 262,
     "metadata": {},
     "output_type": "execute_result"
    }
   ],
   "source": [
    "df_fft"
   ],
   "metadata": {
    "collapsed": false,
    "pycharm": {
     "name": "#%%\n"
    }
   }
  },
  {
   "cell_type": "code",
   "execution_count": 206,
   "outputs": [],
   "source": [
    "def plot_whole_freq(frequency, spectrum):\n",
    "\n",
    "    plt.figure(figsize = (12, 6))\n",
    "    plt.subplot(121)\n",
    "\n",
    "    plt.stem(frequency[1], np.abs(spectrum), 'b', \\\n",
    "             markerfmt=\" \", basefmt=\"-b\")\n",
    "    plt.xlabel('Freq (Hz)')\n",
    "    plt.ylabel('FFT Amplitude |X(freq)|')\n",
    "\n",
    "    plt.show()"
   ],
   "metadata": {
    "collapsed": false,
    "pycharm": {
     "name": "#%%\n"
    }
   }
  },
  {
   "cell_type": "code",
   "execution_count": 209,
   "outputs": [
    {
     "data": {
      "text/plain": "<Figure size 1200x600 with 1 Axes>",
      "image/png": "[encoded data removed]"
     },
     "metadata": {},
     "output_type": "display_data"
    }
   ],
   "source": [
    "plot_whole_freq(freq,df_fft[0])"
   ],
   "metadata": {
    "collapsed": false,
    "pycharm": {
     "name": "#%%\n"
    }
   }
  },
  {
   "cell_type": "code",
   "execution_count": 10,
   "outputs": [
    {
     "data": {
      "text/plain": "<Figure size 500x500 with 1 Axes>",
      "image/png": "[encoded data removed]"
     },
     "metadata": {},
     "output_type": "display_data"
    }
   ],
   "source": [
    "def plot_half_freq(frequency, spectrum):\n",
    "\n",
    "    X = np.fft.fft(spectrum)\n",
    "    X_mag = np.abs(X)\n",
    "    f = np.linspace(0, sr[0], len(X_mag))\n",
    "    half = int(len(X_mag)/2)\n",
    "    fft_fre = np.fft.rfftfreq(len(X_mag), d=1./frequency)\n",
    "\n",
    "    abs_spec = abs(X_mag[:half+1])\n",
    "    plt.figure(figsize=(5, 5))\n",
    "    plt.plot(fft_fre, abs_spec) # magnitude spectrum\n",
    "    plt.xlabel('Frequency (Hz)')\n",
    "    plt.show()\n",
    "\n",
    "plot_half_freq(sr[0],df_fft[0])"
   ],
   "metadata": {
    "collapsed": false,
    "pycharm": {
     "name": "#%%\n"
    }
   }
  },
  {
   "cell_type": "markdown",
   "source": [
    "## Feature extraction and labels\n",
    "\n",
    "Extract statistical features and add a label."
   ],
   "metadata": {
    "collapsed": false
   }
  },
  {
   "cell_type": "code",
   "execution_count": 253,
   "outputs": [],
   "source": [
    "import os\n",
    "import scipy.io as scio\n",
    "from scipy.stats import norm, kurtosis, skew\n",
    "import pandas as pd\n",
    "import math\n",
    "import csv\n",
    "'''\n",
    "1. Central Trend Statistics:\n",
    "   --- mean\n",
    "   --- median\n",
    "   --- low quartile\n",
    "   --- upper quartile\n",
    "2. Dispersion Degree Statistics:\n",
    "   --- minimum\n",
    "   --- maximum\n",
    "   --- inter quartile range\n",
    "   --- standard deviation\n",
    "   --- root mean square\n",
    "   --- square root amplitude\n",
    "3. Distribution Shape Statistics\n",
    "   --- kurtosis\n",
    "   --- skewness\n",
    "   --- shape factor\n",
    "   --- clearance shape\n",
    "   --- crest factor\n",
    "'''\n",
    "\n",
    "\n",
    "def feature_extraction(df, label):\n",
    "    column_name = [\"mean\", \"median\", \"quartile_25\", \"quartile_75\", \"Max\", \"Min\", \"quartile\", \"std\", \"rms\", \"sra\", \"ff\", \"clf\", \"cf\", \"kurtosis\", \"skew\"]\n",
    "    df_features = pd.DataFrame(columns = column_name) #\n",
    "\n",
    "    for column in df:\n",
    "        feature_list = []\n",
    "\n",
    "           # central trend statistics\n",
    "        data_mean = np.mean(df[column])\n",
    "        data_median = np.median(df[column])\n",
    "        data_quartile_025 = np.quantile(df[column], 0.25)\n",
    "        data_quartile_075 = np.quantile(df[column], 0.75)\n",
    "\n",
    "           # dispersion degree statistics\n",
    "        data_Minimum = np.min(df[column])\n",
    "        data_Maximum = np.max(df[column])\n",
    "        data_quartile = data_quartile_075 - data_quartile_025\n",
    "        data_std = np.std(df[column])\n",
    "        data_rms = np.sqrt((np.mean(df[column]**2)))\n",
    "        data_sra = (np.sum(np.sqrt(np.abs(df[column])))/len(df[column]))**2\n",
    "\n",
    "           # distribution shape statistics\n",
    "        data_kurtosis = kurtosis(df[column])\n",
    "        data_skew = skew(df[column])\n",
    "\n",
    "        data_avg = np.mean(np.abs(df[column]))\n",
    "        data_ff = data_rms / data_avg\n",
    "\n",
    "        data_clf = np.max(np.abs(df[column])) / data_sra\n",
    "        data_cf = np.max(np.abs(df[column])) / data_rms\n",
    "\n",
    "        feature_list = [data_mean, data_median, data_quartile_025, data_quartile_075, data_Maximum, data_Minimum, data_quartile, data_std, data_rms, data_sra, data_ff, data_clf, data_cf , data_kurtosis, data_skew]\n",
    "        feature_list = pd.DataFrame(data=feature_list).T #,\n",
    "        feature_list.columns = column_name\n",
    "\n",
    "        df_features = pd.concat([df_features,feature_list])\n",
    "\n",
    "    if label == \"Cavitation\":\n",
    "        df_features[\"Cavitation\"] = 1\n",
    "\n",
    "    if label == \"No Cavitation\":\n",
    "        df_features[\"Cavitation\"] = 0\n",
    "\n",
    "    if label != \"No Cavitation\" and label != \"Cavitation\":\n",
    "        df_features[\"Cavitation\"] = label\n",
    "    return df_features\n",
    "\n",
    "\n",
    "\n",
    "\n",
    "\n",
    "\n",
    "\n",
    "\n",
    "\n"
   ],
   "metadata": {
    "collapsed": false,
    "pycharm": {
     "name": "#%%\n"
    }
   }
  },
  {
   "cell_type": "code",
   "execution_count": 254,
   "outputs": [],
   "source": [
    "data_std = np.std(df_fft[0])\n",
    "\n",
    "data_rms = np.sqrt((np.mean(df_fft[0]**2)))\n",
    "data_sra = (np.sum(np.sqrt(np.abs(df_fft[0])))/len(df_fft[0]))**2"
   ],
   "metadata": {
    "collapsed": false,
    "pycharm": {
     "name": "#%%\n"
    }
   }
  },
  {
   "cell_type": "code",
   "execution_count": 255,
   "outputs": [],
   "source": [
    "h_c_df = feature_extraction(df_fft, \"Cavitation\")"
   ],
   "metadata": {
    "collapsed": false,
    "pycharm": {
     "name": "#%%\n"
    }
   }
  },
  {
   "cell_type": "code",
   "execution_count": 256,
   "outputs": [
    {
     "data": {
      "text/plain": "         mean      median   quartile_25   quartile_75         Max         Min  \\\n0  189.000026  285.617188 -47249.166992  47166.263672  3911730.00 -3661461.75   \n0  338.999902  442.606445 -50010.841797  50798.194336  3785041.25 -3834865.00   \n0  130.000005  116.105469 -49651.808594  50475.595703  3968321.25 -4272759.00   \n0 -107.999962 -422.437500 -44462.881836  44095.830078  3280548.50 -3466732.00   \n0 -485.999991  778.201172 -56428.169922  54220.079102  5136561.50 -4814440.00   \n0 -243.000062 -893.906250 -54796.658203  55363.051758  4646875.00 -5107823.00   \n0  141.999964  265.414062 -52241.909180  51704.750977  4342194.00 -4544057.50   \n0 -116.000026  736.753906 -53944.679688  54024.585938  4522007.50 -4376049.50   \n0 -369.999884 -646.807617 -45643.958008  44771.317383  4009059.25 -4061546.25   \n0 -294.000127 -497.063477 -51091.940430  50301.433594  4094237.00 -4902808.00   \n\n        quartile            std            rms            sra        ff  \\\n0   94415.430664  344376.277882  344376.329745  100944.560900  1.880099   \n0  100809.036133  378136.144055  378136.296012  108410.938945  1.900190   \n0  100127.404297  380878.386124  380878.408309  108591.516007  1.908601   \n0   88558.711914  325822.902481  325822.920381   93577.191485  1.908470   \n0  110648.249023  444945.644571  444945.909992  125406.346627  1.921647   \n0  110159.709961  411703.871287  411703.943000  120629.240819  1.897077   \n0  103946.660156  403278.585407  403278.610407  113999.599917  1.907324   \n0  107969.265625  395293.188156  395293.205176  114491.289983  1.894048   \n0   90415.275391  347869.319699  347869.516468   98666.052899  1.914247   \n0  101393.374023  385875.112803  385875.224803  111082.368294  1.893864   \n\n         clf         cf   kurtosis      skew  Cavitation  \n0  38.751271  11.358882   8.673350  0.024364           1  \n0  35.373414  10.141489   9.288335  0.000133           1  \n0  39.347079  11.218171   9.769570 -0.027308           1  \n0  37.046763  10.639927   9.994117 -0.015095           1  \n0  40.959342  11.544238  10.128424  0.016174           1  \n0  42.343158  12.406544  10.025001  0.029561           1  \n0  39.860293  11.267787   9.478148  0.014520           1  \n0  39.496520  11.439629   9.425840  0.005057           1  \n0  41.164576  11.675488   9.878924 -0.009392           1  \n0  44.136690  12.705682   9.115137  0.015858           1  ",
      "text/html": "<div>\n<style scoped>\n    .dataframe tbody tr th:only-of-type {\n        vertical-align: middle;\n    }\n\n    .dataframe tbody tr th {\n        vertical-align: top;\n    }\n\n    .dataframe thead th {\n        text-align: right;\n    }\n</style>\n<table border=\"1\" class=\"dataframe\">\n  <thead>\n    <tr style=\"text-align: right;\">\n      <th></th>\n      <th>mean</th>\n      <th>median</th>\n      <th>quartile_25</th>\n      <th>quartile_75</th>\n      <th>Max</th>\n      <th>Min</th>\n      <th>quartile</th>\n      <th>std</th>\n      <th>rms</th>\n      <th>sra</th>\n      <th>ff</th>\n      <th>clf</th>\n      <th>cf</th>\n      <th>kurtosis</th>\n      <th>skew</th>\n      <th>Cavitation</th>\n    </tr>\n  </thead>\n  <tbody>\n    <tr>\n      <th>0</th>\n      <td>189.000026</td>\n      <td>285.617188</td>\n      <td>-47249.166992</td>\n      <td>47166.263672</td>\n      <td>3911730.00</td>\n      <td>-3661461.75</td>\n      <td>94415.430664</td>\n      <td>344376.277882</td>\n      <td>344376.329745</td>\n      <td>100944.560900</td>\n      <td>1.880099</td>\n      <td>38.751271</td>\n      <td>11.358882</td>\n      <td>8.673350</td>\n      <td>0.024364</td>\n      <td>1</td>\n    </tr>\n    <tr>\n      <th>0</th>\n      <td>338.999902</td>\n      <td>442.606445</td>\n      <td>-50010.841797</td>\n      <td>50798.194336</td>\n      <td>3785041.25</td>\n      <td>-3834865.00</td>\n      <td>100809.036133</td>\n      <td>378136.144055</td>\n      <td>378136.296012</td>\n      <td>108410.938945</td>\n      <td>1.900190</td>\n      <td>35.373414</td>\n      <td>10.141489</td>\n      <td>9.288335</td>\n      <td>0.000133</td>\n      <td>1</td>\n    </tr>\n    <tr>\n      <th>0</th>\n      <td>130.000005</td>\n      <td>116.105469</td>\n      <td>-49651.808594</td>\n      <td>50475.595703</td>\n      <td>3968321.25</td>\n      <td>-4272759.00</td>\n      <td>100127.404297</td>\n      <td>380878.386124</td>\n      <td>380878.408309</td>\n      <td>108591.516007</td>\n      <td>1.908601</td>\n      <td>39.347079</td>\n      <td>11.218171</td>\n      <td>9.769570</td>\n      <td>-0.027308</td>\n      <td>1</td>\n    </tr>\n    <tr>\n      <th>0</th>\n      <td>-107.999962</td>\n      <td>-422.437500</td>\n      <td>-44462.881836</td>\n      <td>44095.830078</td>\n      <td>3280548.50</td>\n      <td>-3466732.00</td>\n      <td>88558.711914</td>\n      <td>325822.902481</td>\n      <td>325822.920381</td>\n      <td>93577.191485</td>\n      <td>1.908470</td>\n      <td>37.046763</td>\n      <td>10.639927</td>\n      <td>9.994117</td>\n      <td>-0.015095</td>\n      <td>1</td>\n    </tr>\n    <tr>\n      <th>0</th>\n      <td>-485.999991</td>\n      <td>778.201172</td>\n      <td>-56428.169922</td>\n      <td>54220.079102</td>\n      <td>5136561.50</td>\n      <td>-4814440.00</td>\n      <td>110648.249023</td>\n      <td>444945.644571</td>\n      <td>444945.909992</td>\n      <td>125406.346627</td>\n      <td>1.921647</td>\n      <td>40.959342</td>\n      <td>11.544238</td>\n      <td>10.128424</td>\n      <td>0.016174</td>\n      <td>1</td>\n    </tr>\n    <tr>\n      <th>0</th>\n      <td>-243.000062</td>\n      <td>-893.906250</td>\n      <td>-54796.658203</td>\n      <td>55363.051758</td>\n      <td>4646875.00</td>\n      <td>-5107823.00</td>\n      <td>110159.709961</td>\n      <td>411703.871287</td>\n      <td>411703.943000</td>\n      <td>120629.240819</td>\n      <td>1.897077</td>\n      <td>42.343158</td>\n      <td>12.406544</td>\n      <td>10.025001</td>\n      <td>0.029561</td>\n      <td>1</td>\n    </tr>\n    <tr>\n      <th>0</th>\n      <td>141.999964</td>\n      <td>265.414062</td>\n      <td>-52241.909180</td>\n      <td>51704.750977</td>\n      <td>4342194.00</td>\n      <td>-4544057.50</td>\n      <td>103946.660156</td>\n      <td>403278.585407</td>\n      <td>403278.610407</td>\n      <td>113999.599917</td>\n      <td>1.907324</td>\n      <td>39.860293</td>\n      <td>11.267787</td>\n      <td>9.478148</td>\n      <td>0.014520</td>\n      <td>1</td>\n    </tr>\n    <tr>\n      <th>0</th>\n      <td>-116.000026</td>\n      <td>736.753906</td>\n      <td>-53944.679688</td>\n      <td>54024.585938</td>\n      <td>4522007.50</td>\n      <td>-4376049.50</td>\n      <td>107969.265625</td>\n      <td>395293.188156</td>\n      <td>395293.205176</td>\n      <td>114491.289983</td>\n      <td>1.894048</td>\n      <td>39.496520</td>\n      <td>11.439629</td>\n      <td>9.425840</td>\n      <td>0.005057</td>\n      <td>1</td>\n    </tr>\n    <tr>\n      <th>0</th>\n      <td>-369.999884</td>\n      <td>-646.807617</td>\n      <td>-45643.958008</td>\n      <td>44771.317383</td>\n      <td>4009059.25</td>\n      <td>-4061546.25</td>\n      <td>90415.275391</td>\n      <td>347869.319699</td>\n      <td>347869.516468</td>\n      <td>98666.052899</td>\n      <td>1.914247</td>\n      <td>41.164576</td>\n      <td>11.675488</td>\n      <td>9.878924</td>\n      <td>-0.009392</td>\n      <td>1</td>\n    </tr>\n    <tr>\n      <th>0</th>\n      <td>-294.000127</td>\n      <td>-497.063477</td>\n      <td>-51091.940430</td>\n      <td>50301.433594</td>\n      <td>4094237.00</td>\n      <td>-4902808.00</td>\n      <td>101393.374023</td>\n      <td>385875.112803</td>\n      <td>385875.224803</td>\n      <td>111082.368294</td>\n      <td>1.893864</td>\n      <td>44.136690</td>\n      <td>12.705682</td>\n      <td>9.115137</td>\n      <td>0.015858</td>\n      <td>1</td>\n    </tr>\n  </tbody>\n</table>\n</div>"
     },
     "execution_count": 256,
     "metadata": {},
     "output_type": "execute_result"
    }
   ],
   "source": [
    "h_c_df"
   ],
   "metadata": {
    "collapsed": false,
    "pycharm": {
     "name": "#%%\n"
    }
   }
  },
  {
   "cell_type": "markdown",
   "source": [
    "## Same procedure for non-cavitation data."
   ],
   "metadata": {
    "collapsed": false
   }
  },
  {
   "cell_type": "markdown",
   "source": [
    "Load file"
   ],
   "metadata": {
    "collapsed": false
   }
  },
  {
   "cell_type": "code",
   "execution_count": 15,
   "outputs": [
    {
     "name": "stderr",
     "output_type": "stream",
     "text": [
      "C:\\Users\\kinos\\AppData\\Local\\Temp\\ipykernel_2044\\3207606025.py:6: WavFileWarning: Chunk (non-data) not understood, skipping it.\n",
      "  sf, d = wavfile.read(path/data)\n"
     ]
    }
   ],
   "source": [
    "datasets = [\"sxmany_200206_007_HKMNetzpumpe04_004_RP1_FC_01_C06_SB1_L0_XX_XXXX_YY_YYYY_ZZZZZZ_10.wav\"]\n",
    "\n",
    "sr, df = read_wav(datasets)"
   ],
   "metadata": {
    "collapsed": false,
    "pycharm": {
     "name": "#%%\n"
    }
   }
  },
  {
   "cell_type": "markdown",
   "source": [
    "### Split file"
   ],
   "metadata": {
    "collapsed": false
   }
  },
  {
   "cell_type": "code",
   "execution_count": 16,
   "outputs": [],
   "source": [
    "df_split = splitting(sr[0],df, 2)"
   ],
   "metadata": {
    "collapsed": false,
    "pycharm": {
     "name": "#%%\n"
    }
   }
  },
  {
   "cell_type": "markdown",
   "source": [
    "### Fourier transformation"
   ],
   "metadata": {
    "collapsed": false
   }
  },
  {
   "cell_type": "code",
   "execution_count": 17,
   "outputs": [],
   "source": [
    "freq, df_ftt = fourier_trans(sr[0],df_split)"
   ],
   "metadata": {
    "collapsed": false,
    "pycharm": {
     "name": "#%%\n"
    }
   }
  },
  {
   "cell_type": "markdown",
   "source": [
    "### Feature extraction and add labels"
   ],
   "metadata": {
    "collapsed": false
   }
  },
  {
   "cell_type": "code",
   "execution_count": 18,
   "outputs": [],
   "source": [
    "n_c_df = feature_extraction(df_ftt, \"No_cavitation\")"
   ],
   "metadata": {
    "collapsed": false,
    "pycharm": {
     "name": "#%%\n"
    }
   }
  },
  {
   "cell_type": "code",
   "execution_count": 19,
   "outputs": [
    {
     "data": {
      "text/plain": "                   mean                   median                  quartile_25  \\\n0  189.000031-0.000026j   285.6171808+0.0000000j  -47249.166992-23157.303711j   \n0  338.999939+0.000046j   442.6064405-1.6757810j  -50010.841797-14338.849609j   \n0  130.000046+0.000005j   116.105469-872.466797j -49651.8085940-6787.7763670j   \n0 -108.000008-0.000011j  -422.4370005+0.0000000j  -44462.8818306+580.0703120j   \n0 -486.000000-0.000112j  778.2011720+34.4609380j  -56428.169922-23419.488281j   \n0 -243.000092+0.000096j -893.9062500+66.1416020j  -54796.658203-56730.414062j   \n0  141.999954-0.000066j  265.414062-6783.554688j  -52241.909180+83787.273438j   \n0 -116.000031+0.000034j  736.7539060-78.3984380j -53944.679688+177818.156250j   \n0 -369.999878+0.000112j  -646.8076107+0.0000000j  -45643.958008-10078.812500j   \n0 -294.000092-0.000053j -497.0634770-67.2490230j  -51091.940430-30785.869141j   \n\n                   quartile_75                         Max  \\\n0   47166.263672+38939.902344j  3.911730e+06+3.376144e+05j   \n0  50798.1943360+9380.1406250j  3.785041e+06+2.757947e+06j   \n0   50475.595703+18213.832031j  3.968321e+06+4.189253e+05j   \n0  44095.830078-252996.437500j  3.280548e+06+1.183303e+06j   \n0   54220.079102+78690.031250j  5.136562e+06+1.732015e+06j   \n0   55363.051758-47339.570312j  4.646875e+06+1.764615e+06j   \n0   51704.750977+21008.066406j  4.342194e+06+4.057747e+05j   \n0  54024.5859380-7816.3984380j  4.522008e+06+4.689853e+05j   \n0  44771.3173830+8318.4277340j  4.009059e+06+2.567968e+05j   \n0   50301.433594+10756.394531j  4.094237e+06+1.327382e+06j   \n\n                          Min                      quartile  \\\n0 -3.661462e+06-9.321004e+05j  94415.4306640+62097.2060550j   \n0 -3.834865e+06-2.318076e+05j   100809.036133+23718.990234j   \n0 -4.272759e+06-5.266678e+04j   100127.404297+25001.608398j   \n0 -3.466732e+06-7.951549e+05j   88558.711914-253576.507812j   \n0 -4.814440e+06-2.671949e+05j  110648.249023+102109.519531j   \n0 -5.107823e+06-2.856950e+05j  110159.7099601+9390.8437500j   \n0 -4.544058e+06-2.042053e+04j   103946.660156-62779.207031j   \n0 -4.376050e+06-1.115578e+06j  107969.265625-185634.554688j   \n0 -4.061546e+06-2.280218e+06j  90415.2753910+18397.2402340j   \n0 -4.902808e+06-1.658629e+06j   101393.374023+41542.263672j   \n\n                     std                     rms                      sra  \\\n0  488590.65625+0.00000j  0.000303-39125.550781j  173445.881346+0.000000j   \n0  534752.30075+0.00000j   3735.512939+0.045839j  186286.328881+0.000000j   \n0  5387140000.5+0.00000j   0.005976-8752.074219j  186719.025093+0.000000j   \n0  461055.56025+0.00000j  0.003064-15845.906250j  160745.265083+0.000000j   \n0  628457.00075+0.00000j  31533.066406-0.001130j  214693.541053+0.000000j   \n0  577104.80075+0.00000j  77137.242188+0.000657j  205354.467083+0.000000j   \n0  570660.93075+0.00000j  0.003618+19663.138672j  195369.663166+0.000000j   \n0  559219.80075+0.00000j  0.003584+14613.500000j  196387.101085+0.000000j   \n0  491752.65625+0.00000j  14337.999023+0.000654j  169149.798923+0.000000j   \n0  546348.43075+0.00000j  0.002014-26406.824219j  190932.976511+0.000000j   \n\n                   ff                  clf                     cf  \\\n0  0.000000-0.135776j  23.184109+0.000000j   0.000001+102.776527j   \n0  0.011946+0.000000j  25.140049+0.000000j  1253.709351-0.015384j   \n0  0.000000-0.027893j  23.373341+0.000000j   0.000340+498.652924j   \n0  0.000000-0.059037j  26.382631+0.000000j   0.000052+267.632721j   \n0  0.086848-0.000000j  25.248612+0.000000j   171.905701+0.000006j   \n0  0.228135+0.000000j  24.912078+0.000000j  66.3208390-0.0000010j   \n0  0.000000+0.059276j  23.721198+0.000000j   0.000043-235.689850j   \n0  0.000000+0.044580j  23.149494+0.000000j   0.000076-311.100159j   \n0  0.050280+0.000000j  28.887049+0.000000j   340.789429-0.000016j   \n0  0.000000-0.082408j  27.107774+0.000000j   0.000015+196.001144j   \n\n      Cavitation  \n0  No_cavitation  \n0  No_cavitation  \n0  No_cavitation  \n0  No_cavitation  \n0  No_cavitation  \n0  No_cavitation  \n0  No_cavitation  \n0  No_cavitation  \n0  No_cavitation  \n0  No_cavitation  ",
      "text/html": "<div>\n<style scoped>\n    .dataframe tbody tr th:only-of-type {\n        vertical-align: middle;\n    }\n\n    .dataframe tbody tr th {\n        vertical-align: top;\n    }\n\n    .dataframe thead th {\n        text-align: right;\n    }\n</style>\n<table border=\"1\" class=\"dataframe\">\n  <thead>\n    <tr style=\"text-align: right;\">\n      <th></th>\n      <th>mean</th>\n      <th>median</th>\n      <th>quartile_25</th>\n      <th>quartile_75</th>\n      <th>Max</th>\n      <th>Min</th>\n      <th>quartile</th>\n      <th>std</th>\n      <th>rms</th>\n      <th>sra</th>\n      <th>ff</th>\n      <th>clf</th>\n      <th>cf</th>\n      <th>Cavitation</th>\n    </tr>\n  </thead>\n  <tbody>\n    <tr>\n      <th>0</th>\n      <td>189.000031-0.000026j</td>\n      <td>285.6171808+0.0000000j</td>\n      <td>-47249.166992-23157.303711j</td>\n      <td>47166.263672+38939.902344j</td>\n      <td>3.911730e+06+3.376144e+05j</td>\n      <td>-3.661462e+06-9.321004e+05j</td>\n      <td>94415.4306640+62097.2060550j</td>\n      <td>488590.65625+0.00000j</td>\n      <td>0.000303-39125.550781j</td>\n      <td>173445.881346+0.000000j</td>\n      <td>0.000000-0.135776j</td>\n      <td>23.184109+0.000000j</td>\n      <td>0.000001+102.776527j</td>\n      <td>No_cavitation</td>\n    </tr>\n    <tr>\n      <th>0</th>\n      <td>338.999939+0.000046j</td>\n      <td>442.6064405-1.6757810j</td>\n      <td>-50010.841797-14338.849609j</td>\n      <td>50798.1943360+9380.1406250j</td>\n      <td>3.785041e+06+2.757947e+06j</td>\n      <td>-3.834865e+06-2.318076e+05j</td>\n      <td>100809.036133+23718.990234j</td>\n      <td>534752.30075+0.00000j</td>\n      <td>3735.512939+0.045839j</td>\n      <td>186286.328881+0.000000j</td>\n      <td>0.011946+0.000000j</td>\n      <td>25.140049+0.000000j</td>\n      <td>1253.709351-0.015384j</td>\n      <td>No_cavitation</td>\n    </tr>\n    <tr>\n      <th>0</th>\n      <td>130.000046+0.000005j</td>\n      <td>116.105469-872.466797j</td>\n      <td>-49651.8085940-6787.7763670j</td>\n      <td>50475.595703+18213.832031j</td>\n      <td>3.968321e+06+4.189253e+05j</td>\n      <td>-4.272759e+06-5.266678e+04j</td>\n      <td>100127.404297+25001.608398j</td>\n      <td>5387140000.5+0.00000j</td>\n      <td>0.005976-8752.074219j</td>\n      <td>186719.025093+0.000000j</td>\n      <td>0.000000-0.027893j</td>\n      <td>23.373341+0.000000j</td>\n      <td>0.000340+498.652924j</td>\n      <td>No_cavitation</td>\n    </tr>\n    <tr>\n      <th>0</th>\n      <td>-108.000008-0.000011j</td>\n      <td>-422.4370005+0.0000000j</td>\n      <td>-44462.8818306+580.0703120j</td>\n      <td>44095.830078-252996.437500j</td>\n      <td>3.280548e+06+1.183303e+06j</td>\n      <td>-3.466732e+06-7.951549e+05j</td>\n      <td>88558.711914-253576.507812j</td>\n      <td>461055.56025+0.00000j</td>\n      <td>0.003064-15845.906250j</td>\n      <td>160745.265083+0.000000j</td>\n      <td>0.000000-0.059037j</td>\n      <td>26.382631+0.000000j</td>\n      <td>0.000052+267.632721j</td>\n      <td>No_cavitation</td>\n    </tr>\n    <tr>\n      <th>0</th>\n      <td>-486.000000-0.000112j</td>\n      <td>778.2011720+34.4609380j</td>\n      <td>-56428.169922-23419.488281j</td>\n      <td>54220.079102+78690.031250j</td>\n      <td>5.136562e+06+1.732015e+06j</td>\n      <td>-4.814440e+06-2.671949e+05j</td>\n      <td>110648.249023+102109.519531j</td>\n      <td>628457.00075+0.00000j</td>\n      <td>31533.066406-0.001130j</td>\n      <td>214693.541053+0.000000j</td>\n      <td>0.086848-0.000000j</td>\n      <td>25.248612+0.000000j</td>\n      <td>171.905701+0.000006j</td>\n      <td>No_cavitation</td>\n    </tr>\n    <tr>\n      <th>0</th>\n      <td>-243.000092+0.000096j</td>\n      <td>-893.9062500+66.1416020j</td>\n      <td>-54796.658203-56730.414062j</td>\n      <td>55363.051758-47339.570312j</td>\n      <td>4.646875e+06+1.764615e+06j</td>\n      <td>-5.107823e+06-2.856950e+05j</td>\n      <td>110159.7099601+9390.8437500j</td>\n      <td>577104.80075+0.00000j</td>\n      <td>77137.242188+0.000657j</td>\n      <td>205354.467083+0.000000j</td>\n      <td>0.228135+0.000000j</td>\n      <td>24.912078+0.000000j</td>\n      <td>66.3208390-0.0000010j</td>\n      <td>No_cavitation</td>\n    </tr>\n    <tr>\n      <th>0</th>\n      <td>141.999954-0.000066j</td>\n      <td>265.414062-6783.554688j</td>\n      <td>-52241.909180+83787.273438j</td>\n      <td>51704.750977+21008.066406j</td>\n      <td>4.342194e+06+4.057747e+05j</td>\n      <td>-4.544058e+06-2.042053e+04j</td>\n      <td>103946.660156-62779.207031j</td>\n      <td>570660.93075+0.00000j</td>\n      <td>0.003618+19663.138672j</td>\n      <td>195369.663166+0.000000j</td>\n      <td>0.000000+0.059276j</td>\n      <td>23.721198+0.000000j</td>\n      <td>0.000043-235.689850j</td>\n      <td>No_cavitation</td>\n    </tr>\n    <tr>\n      <th>0</th>\n      <td>-116.000031+0.000034j</td>\n      <td>736.7539060-78.3984380j</td>\n      <td>-53944.679688+177818.156250j</td>\n      <td>54024.5859380-7816.3984380j</td>\n      <td>4.522008e+06+4.689853e+05j</td>\n      <td>-4.376050e+06-1.115578e+06j</td>\n      <td>107969.265625-185634.554688j</td>\n      <td>559219.80075+0.00000j</td>\n      <td>0.003584+14613.500000j</td>\n      <td>196387.101085+0.000000j</td>\n      <td>0.000000+0.044580j</td>\n      <td>23.149494+0.000000j</td>\n      <td>0.000076-311.100159j</td>\n      <td>No_cavitation</td>\n    </tr>\n    <tr>\n      <th>0</th>\n      <td>-369.999878+0.000112j</td>\n      <td>-646.8076107+0.0000000j</td>\n      <td>-45643.958008-10078.812500j</td>\n      <td>44771.3173830+8318.4277340j</td>\n      <td>4.009059e+06+2.567968e+05j</td>\n      <td>-4.061546e+06-2.280218e+06j</td>\n      <td>90415.2753910+18397.2402340j</td>\n      <td>491752.65625+0.00000j</td>\n      <td>14337.999023+0.000654j</td>\n      <td>169149.798923+0.000000j</td>\n      <td>0.050280+0.000000j</td>\n      <td>28.887049+0.000000j</td>\n      <td>340.789429-0.000016j</td>\n      <td>No_cavitation</td>\n    </tr>\n    <tr>\n      <th>0</th>\n      <td>-294.000092-0.000053j</td>\n      <td>-497.0634770-67.2490230j</td>\n      <td>-51091.940430-30785.869141j</td>\n      <td>50301.433594+10756.394531j</td>\n      <td>4.094237e+06+1.327382e+06j</td>\n      <td>-4.902808e+06-1.658629e+06j</td>\n      <td>101393.374023+41542.263672j</td>\n      <td>546348.43075+0.00000j</td>\n      <td>0.002014-26406.824219j</td>\n      <td>190932.976511+0.000000j</td>\n      <td>0.000000-0.082408j</td>\n      <td>27.107774+0.000000j</td>\n      <td>0.000015+196.001144j</td>\n      <td>No_cavitation</td>\n    </tr>\n  </tbody>\n</table>\n</div>"
     },
     "execution_count": 19,
     "metadata": {},
     "output_type": "execute_result"
    }
   ],
   "source": [
    "n_c_df"
   ],
   "metadata": {
    "collapsed": false,
    "pycharm": {
     "name": "#%%\n"
    }
   }
  },
  {
   "cell_type": "markdown",
   "source": [
    "### Combine both datasets"
   ],
   "metadata": {
    "collapsed": false
   }
  },
  {
   "cell_type": "code",
   "execution_count": 20,
   "outputs": [],
   "source": [
    "final_df = pd.concat([h_c_df, n_c_df])"
   ],
   "metadata": {
    "collapsed": false,
    "pycharm": {
     "name": "#%%\n"
    }
   }
  },
  {
   "cell_type": "code",
   "execution_count": 21,
   "outputs": [
    {
     "data": {
      "text/plain": "                    mean                    median  \\\n0   132.999557-0.001403j -8402.701172+2022.086426j   \n0  7773.000000+0.000042j  9234.220703+2076.793457j   \n0 -3872.999268+0.000179j  -1392.1552703+0.0000000j   \n0 -6543.000000-0.000018j  -7365.1035106+0.0000000j   \n0  3593.999756+0.000669j   6415.8554609+0.0000000j   \n0 -5400.000977-0.000492j  -6235.2343705+0.0000000j   \n0  5450.999023+0.000378j   7383.1171808+0.0000000j   \n0   189.000031-0.000026j  285.61718008+0.00000000j   \n0   338.999939+0.000046j  442.60644005-1.67578100j   \n0   130.000046+0.000005j  116.1054690-872.4667970j   \n0  -108.000008-0.000011j -422.43700005+0.00000000j   \n0  -486.000000-0.000112j   778.2011720+34.4609380j   \n0  -243.000092+0.000096j  -893.9062500+66.1416020j   \n0   141.999954-0.000066j   265.414062-6783.554688j   \n0  -116.000031+0.000034j   736.7539060-78.3984380j   \n0  -369.999878+0.000112j -646.80761007+0.00000000j   \n0  -294.000092-0.000053j  -497.0634770-67.2490230j   \n\n                  quartile_25                   quartile_75  \\\n0 -3.316557e+05-7.097342e+05j   324030.585938-92091.468750j   \n0 -3.373612e+05-1.879962e+06j  349140.2734308-5015.0156250j   \n0 -3.580012e+05-3.196015e+05j   359122.953125+64002.375000j   \n0 -3.631528e+05+5.584581e+04j  357423.125000-121367.914062j   \n0 -3.574148e+05-9.789201e+05j   362113.507812+16311.562500j   \n0 -3.669967e+05-2.734716e+05j  358989.039062+281348.031250j   \n0 -2.819249e+05-7.612922e+05j  292544.578125+156431.476562j   \n0 -4.724917e+04-2.315730e+04j  47166.2636720+38939.9023440j   \n0 -5.001084e+04-1.433885e+04j   50798.1943360+9380.1406250j   \n0 -4.965181e+04-6.787776e+03j  50475.5957030+18213.8320310j   \n0 -4.446288e+04+5.800703e+02j   44095.830078-252996.437500j   \n0 -5.642817e+04-2.341949e+04j  54220.0791020+78690.0312500j   \n0 -5.479666e+04-5.673041e+04j  55363.0517580-47339.5703120j   \n0 -5.224191e+04+8.378727e+04j  51704.7509770+21008.0664060j   \n0 -5.394468e+04+1.778182e+05j   54024.5859380-7816.3984380j   \n0 -4.564396e+04-1.007881e+04j   44771.3173830+8318.4277340j   \n0 -5.109194e+04-3.078587e+04j  50301.4335940+10756.3945310j   \n\n                          Max                         Min  \\\n0  2.959309e+07+1.098878e+07j -3.184295e+07-4.022216e+05j   \n0  3.931353e+07+1.065752e+07j -4.316405e+07-2.777042e+06j   \n0  5.253647e+07+2.529366e+07j -3.942198e+07-9.195399e+05j   \n0  3.896221e+07+7.579948e+06j -4.352423e+07-3.949310e+06j   \n0  4.536585e+07+1.346066e+07j -4.304962e+07-1.993961e+06j   \n0  4.640448e+07+1.731127e+07j -4.430170e+07-9.937717e+06j   \n0  2.860768e+07+5.291486e+06j -3.816049e+07-1.154219e+06j   \n0  3.911730e+06+3.376144e+05j -3.661462e+06-9.321004e+05j   \n0  3.785041e+06+2.757947e+06j -3.834865e+06-2.318076e+05j   \n0  3.968321e+06+4.189253e+05j -4.272759e+06-5.266678e+04j   \n0  3.280548e+06+1.183303e+06j -3.466732e+06-7.951549e+05j   \n0  5.136562e+06+1.732015e+06j -4.814440e+06-2.671949e+05j   \n0  4.646875e+06+1.764615e+06j -5.107823e+06-2.856950e+05j   \n0  4.342194e+06+4.057747e+05j -4.544058e+06-2.042053e+04j   \n0  4.522008e+06+4.689853e+05j -4.376050e+06-1.115578e+06j   \n0  4.009059e+06+2.567968e+05j -4.061546e+06-2.280218e+06j   \n0  4.094237e+06+1.327382e+06j -4.902808e+06-1.658629e+06j   \n\n                     quartile                         std  \\\n0  6.556863e+05+6.176428e+05j  3.347851e+06+0.000000e+00j   \n0  6.865014e+05+1.874947e+06j  3.600573e+06+0.000000e+00j   \n0  7.171242e+05+3.836039e+05j  3.896460e+06+0.000000e+00j   \n0  7.205759e+05-1.772137e+05j  3.881908e+06+0.000000e+00j   \n0  7.195283e+05+9.952317e+05j  3.853041e+06+0.000000e+00j   \n0  7.259858e+05+5.548196e+05j  3.878200e+06+0.000000e+00j   \n0  5.744695e+05+9.177236e+05j  3.004322e+06+0.000000e+00j   \n0  9.441543e+04+6.209721e+04j  4.885907e+05+0.000000e+00j   \n0  1.008090e+05+2.371899e+04j  5.347524e+05+0.000000e+00j   \n0  1.001274e+05+2.500161e+04j  5.387145e+05+0.000000e+00j   \n0  8.855871e+04-2.535765e+05j  4.610556e+05+0.000000e+00j   \n0  1.106482e+05+1.021095e+05j  6.284578e+05+0.000000e+00j   \n0  1.101597e+05+9.390844e+03j  5.771049e+05+0.000000e+00j   \n0  1.039467e+05-6.277921e+04j  5.706609e+05+0.000000e+00j   \n0  1.079693e+05-1.856346e+05j  5.592199e+05+0.000000e+00j   \n0  9.041528e+04+1.839724e+04j  4.917527e+05+0.000000e+00j   \n0  1.013934e+05+4.154226e+04j  5.463484e+05+0.000000e+00j   \n\n                       rms                         sra                  ff  \\\n0  178311.265625+0.003113j  9.835843e+05+0.000000e+00j  0.103426+0.000000j   \n0   63768.699219-0.059338j  1.035276e+06+0.000000e+00j  0.035049-0.000000j   \n0   97768.882812+0.017005j  1.071007e+06+0.000000e+00j  0.050679+0.000000j   \n0  0.009449+197390.656250j  1.075551e+06+0.000000e+00j  0.000000+0.102482j   \n0  0.033212-119697.140625j  1.084553e+06+0.000000e+00j  0.000000-0.062219j   \n0  293643.656250+0.010175j  1.084086e+06+0.000000e+00j  0.151845+0.000000j   \n0  172298.031250+0.005595j  8.547183e+05+0.000000e+00j  0.113651+0.000000j   \n0   0.000303-39125.550781j  1.734459e+05+0.000000e+00j  0.000000-0.135776j   \n0  3735.5129309+0.0458390j  1.862863e+05+0.000000e+00j  0.011946+0.000000j   \n0  0.005976-80752.0742190j  1.867190e+05+0.000000e+00j  0.000000-0.027893j   \n0   0.003064-15845.906250j  1.607453e+05+0.000000e+00j  0.000000-0.059037j   \n0   31533.066406-0.001130j  2.146935e+05+0.000000e+00j  0.086848-0.000000j   \n0   77137.242188+0.000657j  2.053545e+05+0.000000e+00j  0.228135+0.000000j   \n0   0.003618+19663.138672j  1.953697e+05+0.000000e+00j  0.000000+0.059276j   \n0   0.003584+14613.500000j  1.963871e+05+0.000000e+00j  0.000000+0.044580j   \n0   14337.999023+0.000654j  1.691498e+05+0.000000e+00j  0.050280+0.000000j   \n0   0.002014-26406.824219j  1.909330e+05+0.000000e+00j  0.000000-0.082408j   \n\n                   clf                     cf     Cavitation  \n0  38.850296+0.000000j   214.302444-0.000004j              1  \n0  41.779479+0.000000j   678.283997+0.000631j              1  \n0  54.442417+0.000000j   596.388489-0.000104j              1  \n0  48.104516+0.000000j   0.000013-262.113983j              1  \n0  43.631527+0.000000j   0.000110+395.337006j              1  \n0  45.686723+0.000000j   168.668152-0.000006j              1  \n0  44.667279+0.000000j   221.580826-0.000007j              1  \n0  23.184109+0.000000j   0.000001+102.776527j  No_cavitation  \n0  25.140049+0.000000j  1253.709351-0.015384j  No_cavitation  \n0  23.373341+0.000000j   0.000340+498.652924j  No_cavitation  \n0  26.382631+0.000000j   0.000052+267.632721j  No_cavitation  \n0  25.248612+0.000000j   171.905701+0.000006j  No_cavitation  \n0  24.912078+0.000000j  66.3208390-0.0000010j  No_cavitation  \n0  23.721198+0.000000j   0.000043-235.689850j  No_cavitation  \n0  23.149494+0.000000j   0.000076-311.100159j  No_cavitation  \n0  28.887049+0.000000j   340.789429-0.000016j  No_cavitation  \n0  27.107774+0.000000j   0.000015+196.001144j  No_cavitation  ",
      "text/html": "<div>\n<style scoped>\n    .dataframe tbody tr th:only-of-type {\n        vertical-align: middle;\n    }\n\n    .dataframe tbody tr th {\n        vertical-align: top;\n    }\n\n    .dataframe thead th {\n        text-align: right;\n    }\n</style>\n<table border=\"1\" class=\"dataframe\">\n  <thead>\n    <tr style=\"text-align: right;\">\n      <th></th>\n      <th>mean</th>\n      <th>median</th>\n      <th>quartile_25</th>\n      <th>quartile_75</th>\n      <th>Max</th>\n      <th>Min</th>\n      <th>quartile</th>\n      <th>std</th>\n      <th>rms</th>\n      <th>sra</th>\n      <th>ff</th>\n      <th>clf</th>\n      <th>cf</th>\n      <th>Cavitation</th>\n    </tr>\n  </thead>\n  <tbody>\n    <tr>\n      <th>0</th>\n      <td>132.999557-0.001403j</td>\n      <td>-8402.701172+2022.086426j</td>\n      <td>-3.316557e+05-7.097342e+05j</td>\n      <td>324030.585938-92091.468750j</td>\n      <td>2.959309e+07+1.098878e+07j</td>\n      <td>-3.184295e+07-4.022216e+05j</td>\n      <td>6.556863e+05+6.176428e+05j</td>\n      <td>3.347851e+06+0.000000e+00j</td>\n      <td>178311.265625+0.003113j</td>\n      <td>9.835843e+05+0.000000e+00j</td>\n      <td>0.103426+0.000000j</td>\n      <td>38.850296+0.000000j</td>\n      <td>214.302444-0.000004j</td>\n      <td>1</td>\n    </tr>\n    <tr>\n      <th>0</th>\n      <td>7773.000000+0.000042j</td>\n      <td>9234.220703+2076.793457j</td>\n      <td>-3.373612e+05-1.879962e+06j</td>\n      <td>349140.2734308-5015.0156250j</td>\n      <td>3.931353e+07+1.065752e+07j</td>\n      <td>-4.316405e+07-2.777042e+06j</td>\n      <td>6.865014e+05+1.874947e+06j</td>\n      <td>3.600573e+06+0.000000e+00j</td>\n      <td>63768.699219-0.059338j</td>\n      <td>1.035276e+06+0.000000e+00j</td>\n      <td>0.035049-0.000000j</td>\n      <td>41.779479+0.000000j</td>\n      <td>678.283997+0.000631j</td>\n      <td>1</td>\n    </tr>\n    <tr>\n      <th>0</th>\n      <td>-3872.999268+0.000179j</td>\n      <td>-1392.1552703+0.0000000j</td>\n      <td>-3.580012e+05-3.196015e+05j</td>\n      <td>359122.953125+64002.375000j</td>\n      <td>5.253647e+07+2.529366e+07j</td>\n      <td>-3.942198e+07-9.195399e+05j</td>\n      <td>7.171242e+05+3.836039e+05j</td>\n      <td>3.896460e+06+0.000000e+00j</td>\n      <td>97768.882812+0.017005j</td>\n      <td>1.071007e+06+0.000000e+00j</td>\n      <td>0.050679+0.000000j</td>\n      <td>54.442417+0.000000j</td>\n      <td>596.388489-0.000104j</td>\n      <td>1</td>\n    </tr>\n    <tr>\n      <th>0</th>\n      <td>-6543.000000-0.000018j</td>\n      <td>-7365.1035106+0.0000000j</td>\n      <td>-3.631528e+05+5.584581e+04j</td>\n      <td>357423.125000-121367.914062j</td>\n      <td>3.896221e+07+7.579948e+06j</td>\n      <td>-4.352423e+07-3.949310e+06j</td>\n      <td>7.205759e+05-1.772137e+05j</td>\n      <td>3.881908e+06+0.000000e+00j</td>\n      <td>0.009449+197390.656250j</td>\n      <td>1.075551e+06+0.000000e+00j</td>\n      <td>0.000000+0.102482j</td>\n      <td>48.104516+0.000000j</td>\n      <td>0.000013-262.113983j</td>\n      <td>1</td>\n    </tr>\n    <tr>\n      <th>0</th>\n      <td>3593.999756+0.000669j</td>\n      <td>6415.8554609+0.0000000j</td>\n      <td>-3.574148e+05-9.789201e+05j</td>\n      <td>362113.507812+16311.562500j</td>\n      <td>4.536585e+07+1.346066e+07j</td>\n      <td>-4.304962e+07-1.993961e+06j</td>\n      <td>7.195283e+05+9.952317e+05j</td>\n      <td>3.853041e+06+0.000000e+00j</td>\n      <td>0.033212-119697.140625j</td>\n      <td>1.084553e+06+0.000000e+00j</td>\n      <td>0.000000-0.062219j</td>\n      <td>43.631527+0.000000j</td>\n      <td>0.000110+395.337006j</td>\n      <td>1</td>\n    </tr>\n    <tr>\n      <th>0</th>\n      <td>-5400.000977-0.000492j</td>\n      <td>-6235.2343705+0.0000000j</td>\n      <td>-3.669967e+05-2.734716e+05j</td>\n      <td>358989.039062+281348.031250j</td>\n      <td>4.640448e+07+1.731127e+07j</td>\n      <td>-4.430170e+07-9.937717e+06j</td>\n      <td>7.259858e+05+5.548196e+05j</td>\n      <td>3.878200e+06+0.000000e+00j</td>\n      <td>293643.656250+0.010175j</td>\n      <td>1.084086e+06+0.000000e+00j</td>\n      <td>0.151845+0.000000j</td>\n      <td>45.686723+0.000000j</td>\n      <td>168.668152-0.000006j</td>\n      <td>1</td>\n    </tr>\n    <tr>\n      <th>0</th>\n      <td>5450.999023+0.000378j</td>\n      <td>7383.1171808+0.0000000j</td>\n      <td>-2.819249e+05-7.612922e+05j</td>\n      <td>292544.578125+156431.476562j</td>\n      <td>2.860768e+07+5.291486e+06j</td>\n      <td>-3.816049e+07-1.154219e+06j</td>\n      <td>5.744695e+05+9.177236e+05j</td>\n      <td>3.004322e+06+0.000000e+00j</td>\n      <td>172298.031250+0.005595j</td>\n      <td>8.547183e+05+0.000000e+00j</td>\n      <td>0.113651+0.000000j</td>\n      <td>44.667279+0.000000j</td>\n      <td>221.580826-0.000007j</td>\n      <td>1</td>\n    </tr>\n    <tr>\n      <th>0</th>\n      <td>189.000031-0.000026j</td>\n      <td>285.61718008+0.00000000j</td>\n      <td>-4.724917e+04-2.315730e+04j</td>\n      <td>47166.2636720+38939.9023440j</td>\n      <td>3.911730e+06+3.376144e+05j</td>\n      <td>-3.661462e+06-9.321004e+05j</td>\n      <td>9.441543e+04+6.209721e+04j</td>\n      <td>4.885907e+05+0.000000e+00j</td>\n      <td>0.000303-39125.550781j</td>\n      <td>1.734459e+05+0.000000e+00j</td>\n      <td>0.000000-0.135776j</td>\n      <td>23.184109+0.000000j</td>\n      <td>0.000001+102.776527j</td>\n      <td>No_cavitation</td>\n    </tr>\n    <tr>\n      <th>0</th>\n      <td>338.999939+0.000046j</td>\n      <td>442.60644005-1.67578100j</td>\n      <td>-5.001084e+04-1.433885e+04j</td>\n      <td>50798.1943360+9380.1406250j</td>\n      <td>3.785041e+06+2.757947e+06j</td>\n      <td>-3.834865e+06-2.318076e+05j</td>\n      <td>1.008090e+05+2.371899e+04j</td>\n      <td>5.347524e+05+0.000000e+00j</td>\n      <td>3735.5129309+0.0458390j</td>\n      <td>1.862863e+05+0.000000e+00j</td>\n      <td>0.011946+0.000000j</td>\n      <td>25.140049+0.000000j</td>\n      <td>1253.709351-0.015384j</td>\n      <td>No_cavitation</td>\n    </tr>\n    <tr>\n      <th>0</th>\n      <td>130.000046+0.000005j</td>\n      <td>116.1054690-872.4667970j</td>\n      <td>-4.965181e+04-6.787776e+03j</td>\n      <td>50475.5957030+18213.8320310j</td>\n      <td>3.968321e+06+4.189253e+05j</td>\n      <td>-4.272759e+06-5.266678e+04j</td>\n      <td>1.001274e+05+2.500161e+04j</td>\n      <td>5.387145e+05+0.000000e+00j</td>\n      <td>0.005976-80752.0742190j</td>\n      <td>1.867190e+05+0.000000e+00j</td>\n      <td>0.000000-0.027893j</td>\n      <td>23.373341+0.000000j</td>\n      <td>0.000340+498.652924j</td>\n      <td>No_cavitation</td>\n    </tr>\n    <tr>\n      <th>0</th>\n      <td>-108.000008-0.000011j</td>\n      <td>-422.43700005+0.00000000j</td>\n      <td>-4.446288e+04+5.800703e+02j</td>\n      <td>44095.830078-252996.437500j</td>\n      <td>3.280548e+06+1.183303e+06j</td>\n      <td>-3.466732e+06-7.951549e+05j</td>\n      <td>8.855871e+04-2.535765e+05j</td>\n      <td>4.610556e+05+0.000000e+00j</td>\n      <td>0.003064-15845.906250j</td>\n      <td>1.607453e+05+0.000000e+00j</td>\n      <td>0.000000-0.059037j</td>\n      <td>26.382631+0.000000j</td>\n      <td>0.000052+267.632721j</td>\n      <td>No_cavitation</td>\n    </tr>\n    <tr>\n      <th>0</th>\n      <td>-486.000000-0.000112j</td>\n      <td>778.2011720+34.4609380j</td>\n      <td>-5.642817e+04-2.341949e+04j</td>\n      <td>54220.0791020+78690.0312500j</td>\n      <td>5.136562e+06+1.732015e+06j</td>\n      <td>-4.814440e+06-2.671949e+05j</td>\n      <td>1.106482e+05+1.021095e+05j</td>\n      <td>6.284578e+05+0.000000e+00j</td>\n      <td>31533.066406-0.001130j</td>\n      <td>2.146935e+05+0.000000e+00j</td>\n      <td>0.086848-0.000000j</td>\n      <td>25.248612+0.000000j</td>\n      <td>171.905701+0.000006j</td>\n      <td>No_cavitation</td>\n    </tr>\n    <tr>\n      <th>0</th>\n      <td>-243.000092+0.000096j</td>\n      <td>-893.9062500+66.1416020j</td>\n      <td>-5.479666e+04-5.673041e+04j</td>\n      <td>55363.0517580-47339.5703120j</td>\n      <td>4.646875e+06+1.764615e+06j</td>\n      <td>-5.107823e+06-2.856950e+05j</td>\n      <td>1.101597e+05+9.390844e+03j</td>\n      <td>5.771049e+05+0.000000e+00j</td>\n      <td>77137.242188+0.000657j</td>\n      <td>2.053545e+05+0.000000e+00j</td>\n      <td>0.228135+0.000000j</td>\n      <td>24.912078+0.000000j</td>\n      <td>66.3208390-0.0000010j</td>\n      <td>No_cavitation</td>\n    </tr>\n    <tr>\n      <th>0</th>\n      <td>141.999954-0.000066j</td>\n      <td>265.414062-6783.554688j</td>\n      <td>-5.224191e+04+8.378727e+04j</td>\n      <td>51704.7509770+21008.0664060j</td>\n      <td>4.342194e+06+4.057747e+05j</td>\n      <td>-4.544058e+06-2.042053e+04j</td>\n      <td>1.039467e+05-6.277921e+04j</td>\n      <td>5.706609e+05+0.000000e+00j</td>\n      <td>0.003618+19663.138672j</td>\n      <td>1.953697e+05+0.000000e+00j</td>\n      <td>0.000000+0.059276j</td>\n      <td>23.721198+0.000000j</td>\n      <td>0.000043-235.689850j</td>\n      <td>No_cavitation</td>\n    </tr>\n    <tr>\n      <th>0</th>\n      <td>-116.000031+0.000034j</td>\n      <td>736.7539060-78.3984380j</td>\n      <td>-5.394468e+04+1.778182e+05j</td>\n      <td>54024.5859380-7816.3984380j</td>\n      <td>4.522008e+06+4.689853e+05j</td>\n      <td>-4.376050e+06-1.115578e+06j</td>\n      <td>1.079693e+05-1.856346e+05j</td>\n      <td>5.592199e+05+0.000000e+00j</td>\n      <td>0.003584+14613.500000j</td>\n      <td>1.963871e+05+0.000000e+00j</td>\n      <td>0.000000+0.044580j</td>\n      <td>23.149494+0.000000j</td>\n      <td>0.000076-311.100159j</td>\n      <td>No_cavitation</td>\n    </tr>\n    <tr>\n      <th>0</th>\n      <td>-369.999878+0.000112j</td>\n      <td>-646.80761007+0.00000000j</td>\n      <td>-4.564396e+04-1.007881e+04j</td>\n      <td>44771.3173830+8318.4277340j</td>\n      <td>4.009059e+06+2.567968e+05j</td>\n      <td>-4.061546e+06-2.280218e+06j</td>\n      <td>9.041528e+04+1.839724e+04j</td>\n      <td>4.917527e+05+0.000000e+00j</td>\n      <td>14337.999023+0.000654j</td>\n      <td>1.691498e+05+0.000000e+00j</td>\n      <td>0.050280+0.000000j</td>\n      <td>28.887049+0.000000j</td>\n      <td>340.789429-0.000016j</td>\n      <td>No_cavitation</td>\n    </tr>\n    <tr>\n      <th>0</th>\n      <td>-294.000092-0.000053j</td>\n      <td>-497.0634770-67.2490230j</td>\n      <td>-5.109194e+04-3.078587e+04j</td>\n      <td>50301.4335940+10756.3945310j</td>\n      <td>4.094237e+06+1.327382e+06j</td>\n      <td>-4.902808e+06-1.658629e+06j</td>\n      <td>1.013934e+05+4.154226e+04j</td>\n      <td>5.463484e+05+0.000000e+00j</td>\n      <td>0.002014-26406.824219j</td>\n      <td>1.909330e+05+0.000000e+00j</td>\n      <td>0.000000-0.082408j</td>\n      <td>27.107774+0.000000j</td>\n      <td>0.000015+196.001144j</td>\n      <td>No_cavitation</td>\n    </tr>\n  </tbody>\n</table>\n</div>"
     },
     "execution_count": 21,
     "metadata": {},
     "output_type": "execute_result"
    }
   ],
   "source": [
    "final_df"
   ],
   "metadata": {
    "collapsed": false,
    "pycharm": {
     "name": "#%%\n"
    }
   }
  },
  {
   "cell_type": "code",
   "execution_count": 21,
   "outputs": [],
   "source": [],
   "metadata": {
    "collapsed": false,
    "pycharm": {
     "name": "#%%\n"
    }
   }
  },
  {
   "cell_type": "code",
   "execution_count": 22,
   "outputs": [],
   "source": [
    "\n",
    "def feature_pipe (datasets, splits_in_sec, label):\n",
    "    sr, df = read_wav(datasets)\n",
    "    df_split = splitting(sr[0],df, splits_in_sec)\n",
    "    freq, df_ftt = fourier_trans(sr[0],df_split)\n",
    "    output_df = feature_extraction(df_ftt, label)\n",
    "    return len(df_split), output_df"
   ],
   "metadata": {
    "collapsed": false,
    "pycharm": {
     "name": "#%%\n"
    }
   }
  },
  {
   "cell_type": "code",
   "execution_count": 23,
   "outputs": [
    {
     "name": "stderr",
     "output_type": "stream",
     "text": [
      "C:\\Users\\kinos\\AppData\\Local\\Temp\\ipykernel_2044\\3207606025.py:6: WavFileWarning: Chunk (non-data) not understood, skipping it.\n",
      "  sf, d = wavfile.read(path/data)\n",
      "C:\\Users\\kinos\\AppData\\Local\\Temp\\ipykernel_2044\\3207606025.py:6: WavFileWarning: Chunk (non-data) not understood, skipping it.\n",
      "  sf, d = wavfile.read(path/data)\n",
      "C:\\Users\\kinos\\TU_Wien\\Interdis_project\\Code\\venv\\lib\\site-packages\\pandas\\core\\dtypes\\astype.py:170: ComplexWarning: Casting complex values to real discards the imaginary part\n",
      "  return arr.astype(dtype, copy=True)\n"
     ]
    },
    {
     "data": {
      "text/plain": "           mean       median   quartile_25   quartile_75          Max  \\\n0    188.999985  -346.398438 -10175.405273   9655.065430   636732.250   \n0    857.999939   676.756958  -9252.479492   9865.675293   579818.125   \n0   -214.999878  -413.046875 -15554.760986  14128.928711  1108530.375   \n0   -312.000031   -44.036133  -8508.910645   8332.677002   546172.000   \n0    -52.999954   410.257080  -6458.427734   7189.333984   369466.750   \n..          ...          ...           ...           ...          ...   \n0   1110.999268  2798.148438 -61784.951172  69072.613281  4297929.000   \n0  -3284.000000 -5751.750000 -70404.218750  57803.674805  4430649.000   \n0   4189.000488  3295.250977 -60473.977539  65948.023438  4125214.000   \n0   4286.999512   994.078125 -56394.882812  67361.906250  4518601.000   \n0  -2134.000244  1471.269531 -60670.568359  56685.204102  3558102.250   \n\n             Min       quartile            std           rms            sra  \\\n0  -5.432184e+05   19830.470703   97756.429688   1998.384766   33490.408257   \n0  -4.631204e+05   19118.154785   93044.656250  11605.215820   32991.720219   \n0  -1.028691e+06   29683.689697  189870.781250   9746.165039   62127.772666   \n0  -5.955421e+05   16841.587646   88768.648438   5044.041016   28706.564610   \n0  -2.471501e+05   13647.761719   44837.882812   6603.390137   17882.190187   \n..           ...            ...            ...           ...            ...   \n0  -3.934186e+06  130857.564453  640163.312500  93960.445312  194297.649250   \n0  -5.511242e+06  128207.893555  648224.062500      0.009218  194780.823202   \n0  -4.619242e+06  126422.000977  617776.750000  82554.875000  186831.620213   \n0  -4.024674e+06  123756.789062  585920.437500      0.002589  182160.340662   \n0  -3.838522e+06  117355.772461  573146.625000      0.002006  179201.046061   \n\n              ff        clf          cf  Cavitation  \n0   3.502536e-02  19.181160  321.452057         0.0  \n0   2.109103e-01  20.142217   57.261013         0.0  \n0   8.944551e-02  22.862561  145.739380         0.0  \n0   1.010708e-01  22.325745  127.059914         0.0  \n0   2.390725e-01  20.681046   56.004929         0.0  \n..           ...        ...         ...         ...  \n0   2.839211e-01  26.679180   55.168980         1.0  \n0   2.783027e-08  28.906868    0.000030         1.0  \n0   2.605528e-01  31.661161   71.653023         1.0  \n0   8.334363e-09  26.033057    0.000003         1.0  \n0   6.584957e-09  24.765997    0.000002         1.0  \n\n[400 rows x 14 columns]",
      "text/html": "<div>\n<style scoped>\n    .dataframe tbody tr th:only-of-type {\n        vertical-align: middle;\n    }\n\n    .dataframe tbody tr th {\n        vertical-align: top;\n    }\n\n    .dataframe thead th {\n        text-align: right;\n    }\n</style>\n<table border=\"1\" class=\"dataframe\">\n  <thead>\n    <tr style=\"text-align: right;\">\n      <th></th>\n      <th>mean</th>\n      <th>median</th>\n      <th>quartile_25</th>\n      <th>quartile_75</th>\n      <th>Max</th>\n      <th>Min</th>\n      <th>quartile</th>\n      <th>std</th>\n      <th>rms</th>\n      <th>sra</th>\n      <th>ff</th>\n      <th>clf</th>\n      <th>cf</th>\n      <th>Cavitation</th>\n    </tr>\n  </thead>\n  <tbody>\n    <tr>\n      <th>0</th>\n      <td>188.999985</td>\n      <td>-346.398438</td>\n      <td>-10175.405273</td>\n      <td>9655.065430</td>\n      <td>636732.250</td>\n      <td>-5.432184e+05</td>\n      <td>19830.470703</td>\n      <td>97756.429688</td>\n      <td>1998.384766</td>\n      <td>33490.408257</td>\n      <td>3.502536e-02</td>\n      <td>19.181160</td>\n      <td>321.452057</td>\n      <td>0.0</td>\n    </tr>\n    <tr>\n      <th>0</th>\n      <td>857.999939</td>\n      <td>676.756958</td>\n      <td>-9252.479492</td>\n      <td>9865.675293</td>\n      <td>579818.125</td>\n      <td>-4.631204e+05</td>\n      <td>19118.154785</td>\n      <td>93044.656250</td>\n      <td>11605.215820</td>\n      <td>32991.720219</td>\n      <td>2.109103e-01</td>\n      <td>20.142217</td>\n      <td>57.261013</td>\n      <td>0.0</td>\n    </tr>\n    <tr>\n      <th>0</th>\n      <td>-214.999878</td>\n      <td>-413.046875</td>\n      <td>-15554.760986</td>\n      <td>14128.928711</td>\n      <td>1108530.375</td>\n      <td>-1.028691e+06</td>\n      <td>29683.689697</td>\n      <td>189870.781250</td>\n      <td>9746.165039</td>\n      <td>62127.772666</td>\n      <td>8.944551e-02</td>\n      <td>22.862561</td>\n      <td>145.739380</td>\n      <td>0.0</td>\n    </tr>\n    <tr>\n      <th>0</th>\n      <td>-312.000031</td>\n      <td>-44.036133</td>\n      <td>-8508.910645</td>\n      <td>8332.677002</td>\n      <td>546172.000</td>\n      <td>-5.955421e+05</td>\n      <td>16841.587646</td>\n      <td>88768.648438</td>\n      <td>5044.041016</td>\n      <td>28706.564610</td>\n      <td>1.010708e-01</td>\n      <td>22.325745</td>\n      <td>127.059914</td>\n      <td>0.0</td>\n    </tr>\n    <tr>\n      <th>0</th>\n      <td>-52.999954</td>\n      <td>410.257080</td>\n      <td>-6458.427734</td>\n      <td>7189.333984</td>\n      <td>369466.750</td>\n      <td>-2.471501e+05</td>\n      <td>13647.761719</td>\n      <td>44837.882812</td>\n      <td>6603.390137</td>\n      <td>17882.190187</td>\n      <td>2.390725e-01</td>\n      <td>20.681046</td>\n      <td>56.004929</td>\n      <td>0.0</td>\n    </tr>\n    <tr>\n      <th>...</th>\n      <td>...</td>\n      <td>...</td>\n      <td>...</td>\n      <td>...</td>\n      <td>...</td>\n      <td>...</td>\n      <td>...</td>\n      <td>...</td>\n      <td>...</td>\n      <td>...</td>\n      <td>...</td>\n      <td>...</td>\n      <td>...</td>\n      <td>...</td>\n    </tr>\n    <tr>\n      <th>0</th>\n      <td>1110.999268</td>\n      <td>2798.148438</td>\n      <td>-61784.951172</td>\n      <td>69072.613281</td>\n      <td>4297929.000</td>\n      <td>-3.934186e+06</td>\n      <td>130857.564453</td>\n      <td>640163.312500</td>\n      <td>93960.445312</td>\n      <td>194297.649250</td>\n      <td>2.839211e-01</td>\n      <td>26.679180</td>\n      <td>55.168980</td>\n      <td>1.0</td>\n    </tr>\n    <tr>\n      <th>0</th>\n      <td>-3284.000000</td>\n      <td>-5751.750000</td>\n      <td>-70404.218750</td>\n      <td>57803.674805</td>\n      <td>4430649.000</td>\n      <td>-5.511242e+06</td>\n      <td>128207.893555</td>\n      <td>648224.062500</td>\n      <td>0.009218</td>\n      <td>194780.823202</td>\n      <td>2.783027e-08</td>\n      <td>28.906868</td>\n      <td>0.000030</td>\n      <td>1.0</td>\n    </tr>\n    <tr>\n      <th>0</th>\n      <td>4189.000488</td>\n      <td>3295.250977</td>\n      <td>-60473.977539</td>\n      <td>65948.023438</td>\n      <td>4125214.000</td>\n      <td>-4.619242e+06</td>\n      <td>126422.000977</td>\n      <td>617776.750000</td>\n      <td>82554.875000</td>\n      <td>186831.620213</td>\n      <td>2.605528e-01</td>\n      <td>31.661161</td>\n      <td>71.653023</td>\n      <td>1.0</td>\n    </tr>\n    <tr>\n      <th>0</th>\n      <td>4286.999512</td>\n      <td>994.078125</td>\n      <td>-56394.882812</td>\n      <td>67361.906250</td>\n      <td>4518601.000</td>\n      <td>-4.024674e+06</td>\n      <td>123756.789062</td>\n      <td>585920.437500</td>\n      <td>0.002589</td>\n      <td>182160.340662</td>\n      <td>8.334363e-09</td>\n      <td>26.033057</td>\n      <td>0.000003</td>\n      <td>1.0</td>\n    </tr>\n    <tr>\n      <th>0</th>\n      <td>-2134.000244</td>\n      <td>1471.269531</td>\n      <td>-60670.568359</td>\n      <td>56685.204102</td>\n      <td>3558102.250</td>\n      <td>-3.838522e+06</td>\n      <td>117355.772461</td>\n      <td>573146.625000</td>\n      <td>0.002006</td>\n      <td>179201.046061</td>\n      <td>6.584957e-09</td>\n      <td>24.765997</td>\n      <td>0.000002</td>\n      <td>1.0</td>\n    </tr>\n  </tbody>\n</table>\n<p>400 rows × 14 columns</p>\n</div>"
     },
     "execution_count": 23,
     "metadata": {},
     "output_type": "execute_result"
    }
   ],
   "source": [
    "No_cav_files = [\"sxmany_200206_007_HKMNetzpumpe04_004_RP1_FC_01_C06_SB1_L0_XX_XXXX_YY_YYYY_ZZZZZZ_10.wav\"]\n",
    "cav_files = [\"s00000_191115_007_KesselpumpHD02_002_RP1_FC_01_P06_SB1_L0_KS_XXXX_YY_YYYY_ZZZZZZ_16.wav\"]\n",
    "\n",
    "\n",
    "no_cav_df = feature_pipe(No_cav_files,0.1,\"No Cavitation\")[1]\n",
    "cav_df = feature_pipe(cav_files,0.1,\"Cavitation\")[1]\n",
    "final_df = pd.concat([no_cav_df, cav_df])\n",
    "final_df.astype('float')"
   ],
   "metadata": {
    "collapsed": false,
    "pycharm": {
     "name": "#%%\n"
    }
   }
  },
  {
   "cell_type": "markdown",
   "source": [
    "XGBOOST\n"
   ],
   "metadata": {
    "collapsed": false
   }
  },
  {
   "cell_type": "code",
   "execution_count": 24,
   "outputs": [
    {
     "name": "stderr",
     "output_type": "stream",
     "text": [
      "C:\\Users\\kinos\\TU_Wien\\Interdis_project\\Code\\venv\\lib\\site-packages\\pandas\\core\\dtypes\\astype.py:170: ComplexWarning: Casting complex values to real discards the imaginary part\n",
      "  return arr.astype(dtype, copy=True)\n"
     ]
    },
    {
     "name": "stdout",
     "output_type": "stream",
     "text": [
      "[11:38:17] WARNING: C:/Users/administrator/workspace/xgboost-win64_release_1.6.0/src/learner.cc:627: \n",
      "Parameters: { \"silent\" } might not be used.\n",
      "\n",
      "  This could be a false alarm, with some parameters getting used by language bindings but\n",
      "  then being mistakenly passed down to XGBoost core, or some parameter actually being used\n",
      "  but getting flagged wrongly here. Please open an issue if you find any such cases.\n",
      "\n",
      "\n",
      "XGBClassifier(base_score=0.5, booster='gbtree', callbacks=None,\n",
      "              colsample_bylevel=1, colsample_bynode=1, colsample_bytree=0.4,\n",
      "              early_stopping_rounds=None, enable_categorical=False,\n",
      "              eval_metric=None, gamma=10, gpu_id=-1, grow_policy='depthwise',\n",
      "              importance_type=None, interaction_constraints='',\n",
      "              learning_rate=0.01, max_bin=256, max_cat_to_onehot=4,\n",
      "              max_delta_step=0, max_depth=4, max_leaves=0, min_child_weight=1,\n",
      "              missing=nan, monotone_constraints='()', n_estimators=1000,\n",
      "              n_jobs=0, num_parallel_tree=1, predictor='auto', random_state=0,\n",
      "              reg_alpha=0.3, reg_lambda=1, ...)\n"
     ]
    }
   ],
   "source": [
    "import xgboost as xgb\n",
    "from sklearn.model_selection import train_test_split\n",
    "\n",
    "y = final_df[\"Cavitation\"]\n",
    "X = final_df.loc[:, final_df.columns != 'Cavitation'].astype('float')\n",
    "\n",
    "X_train,X_test,y_train,y_test= train_test_split(X, y, test_size=0.3, random_state=1623806)\n",
    "\n",
    "\n",
    "\n",
    "gbm_param_grid = {\n",
    "    'clf__learning_rate': np.arange(.05, 1, .05),\n",
    "    'clf__max_depth': np.arange(3,10, 1),\n",
    "    'clf__n_estimators': np.arange(50, 200, 50)\n",
    "}\n",
    "#model = xgb.XGBClassifier()\n",
    "\n",
    "model = xgb.XGBClassifier(silent=False,\n",
    "                      scale_pos_weight=1,\n",
    "                      learning_rate=0.01,\n",
    "                      colsample_bytree = 0.4,\n",
    "                      subsample = 0.8,\n",
    "                      objective='binary:logistic',\n",
    "                      n_estimators=1000,\n",
    "                      reg_alpha = 0.3,\n",
    "                      max_depth=4,\n",
    "                      gamma=10)\n",
    "model.fit(X_train, y_train)\n",
    "print(model)\n",
    "predicted_y = model.predict(X_test)"
   ],
   "metadata": {
    "collapsed": false,
    "pycharm": {
     "name": "#%%\n"
    }
   }
  },
  {
   "cell_type": "code",
   "execution_count": 25,
   "outputs": [
    {
     "data": {
      "text/plain": "       Variable  Importance\n11          clf    0.199951\n2   quartile_25    0.132305\n4           Max    0.130893\n3   quartile_75    0.122323\n5           Min    0.121713\n7           std    0.110953\n6      quartile    0.104797\n9           sra    0.077065\n0          mean    0.000000\n1        median    0.000000\n8           rms    0.000000\n10           ff    0.000000\n12           cf    0.000000",
      "text/html": "<div>\n<style scoped>\n    .dataframe tbody tr th:only-of-type {\n        vertical-align: middle;\n    }\n\n    .dataframe tbody tr th {\n        vertical-align: top;\n    }\n\n    .dataframe thead th {\n        text-align: right;\n    }\n</style>\n<table border=\"1\" class=\"dataframe\">\n  <thead>\n    <tr style=\"text-align: right;\">\n      <th></th>\n      <th>Variable</th>\n      <th>Importance</th>\n    </tr>\n  </thead>\n  <tbody>\n    <tr>\n      <th>11</th>\n      <td>clf</td>\n      <td>0.199951</td>\n    </tr>\n    <tr>\n      <th>2</th>\n      <td>quartile_25</td>\n      <td>0.132305</td>\n    </tr>\n    <tr>\n      <th>4</th>\n      <td>Max</td>\n      <td>0.130893</td>\n    </tr>\n    <tr>\n      <th>3</th>\n      <td>quartile_75</td>\n      <td>0.122323</td>\n    </tr>\n    <tr>\n      <th>5</th>\n      <td>Min</td>\n      <td>0.121713</td>\n    </tr>\n    <tr>\n      <th>7</th>\n      <td>std</td>\n      <td>0.110953</td>\n    </tr>\n    <tr>\n      <th>6</th>\n      <td>quartile</td>\n      <td>0.104797</td>\n    </tr>\n    <tr>\n      <th>9</th>\n      <td>sra</td>\n      <td>0.077065</td>\n    </tr>\n    <tr>\n      <th>0</th>\n      <td>mean</td>\n      <td>0.000000</td>\n    </tr>\n    <tr>\n      <th>1</th>\n      <td>median</td>\n      <td>0.000000</td>\n    </tr>\n    <tr>\n      <th>8</th>\n      <td>rms</td>\n      <td>0.000000</td>\n    </tr>\n    <tr>\n      <th>10</th>\n      <td>ff</td>\n      <td>0.000000</td>\n    </tr>\n    <tr>\n      <th>12</th>\n      <td>cf</td>\n      <td>0.000000</td>\n    </tr>\n  </tbody>\n</table>\n</div>"
     },
     "execution_count": 25,
     "metadata": {},
     "output_type": "execute_result"
    }
   ],
   "source": [
    "pd.DataFrame({'Variable':X.columns,\n",
    "              'Importance':model.feature_importances_}).sort_values('Importance', ascending=False)"
   ],
   "metadata": {
    "collapsed": false,
    "pycharm": {
     "name": "#%%\n"
    }
   }
  },
  {
   "cell_type": "code",
   "execution_count": 55,
   "outputs": [
    {
     "name": "stdout",
     "output_type": "stream",
     "text": [
      "              precision    recall  f1-score   support\n",
      "\n",
      "           0       1.00      1.00      1.00        57\n",
      "           1       1.00      1.00      1.00        63\n",
      "\n",
      "    accuracy                           1.00       120\n",
      "   macro avg       1.00      1.00      1.00       120\n",
      "weighted avg       1.00      1.00      1.00       120\n",
      "\n",
      "[[57  0]\n",
      " [ 0 63]]\n"
     ]
    },
    {
     "data": {
      "text/plain": "1.0"
     },
     "execution_count": 55,
     "metadata": {},
     "output_type": "execute_result"
    }
   ],
   "source": [
    "from sklearn import metrics\n",
    "from sklearn.metrics import precision_recall_fscore_support as score\n",
    "print(metrics.classification_report(y_test, predicted_y))\n",
    "print(metrics.confusion_matrix(y_test, predicted_y))\n",
    "precision,recall,fscore,support=score(y_test,predicted_y,average='macro')\n",
    "eval= metrics.classification_report(y_test, predicted_y, output_dict=True)\n",
    "eval['macro avg']['f1-score']"
   ],
   "metadata": {
    "collapsed": false,
    "pycharm": {
     "name": "#%%\n"
    }
   }
  },
  {
   "cell_type": "code",
   "execution_count": 27,
   "outputs": [],
   "source": [
    "\n",
    "def Classification_pipe (splits_in_sec, cavitation_data, no_cavitation_data,test_split_ratio ):\n",
    "\n",
    "    non_cav_len, no_cav_df = feature_pipe(no_cavitation_data,splits_in_sec,\"No Cavitation\")\n",
    "    cav_len, cav_df = feature_pipe(cavitation_data,splits_in_sec,\"Cavitation\")\n",
    "    final_df = pd.concat([no_cav_df, cav_df])\n",
    "\n",
    "    y = final_df[\"Cavitation\"]\n",
    "    X = final_df.loc[:, final_df.columns != 'Cavitation'].astype('float')\n",
    "\n",
    "\n",
    "    X_train,X_test,y_train,y_test = train_test_split(X, y, test_size = test_split_ratio, random_state = 1623806)\n",
    "\n",
    "    model = xgb.XGBClassifier()\n",
    "    model.fit(X_train, y_train)\n",
    "    print(model)\n",
    "\n",
    "    predicted_y = model.predict(X_test)\n",
    "    print(metrics.classification_report(y_test, predicted_y))\n",
    "    print(metrics.confusion_matrix(y_test, predicted_y))\n",
    "    return metrics.confusion_matrix(y_test, predicted_y)"
   ],
   "metadata": {
    "collapsed": false,
    "pycharm": {
     "name": "#%%\n"
    }
   }
  },
  {
   "cell_type": "code",
   "execution_count": 28,
   "outputs": [
    {
     "name": "stderr",
     "output_type": "stream",
     "text": [
      "C:\\Users\\kinos\\AppData\\Local\\Temp\\ipykernel_2044\\3207606025.py:6: WavFileWarning: Chunk (non-data) not understood, skipping it.\n",
      "  sf, d = wavfile.read(path/data)\n",
      "C:\\Users\\kinos\\AppData\\Local\\Temp\\ipykernel_2044\\3207606025.py:6: WavFileWarning: Chunk (non-data) not understood, skipping it.\n",
      "  sf, d = wavfile.read(path/data)\n"
     ]
    },
    {
     "name": "stdout",
     "output_type": "stream",
     "text": [
      "XGBClassifier(base_score=0.5, booster='gbtree', callbacks=None,\n",
      "              colsample_bylevel=1, colsample_bynode=1, colsample_bytree=1,\n",
      "              early_stopping_rounds=None, enable_categorical=False,\n",
      "              eval_metric=None, gamma=0, gpu_id=-1, grow_policy='depthwise',\n",
      "              importance_type=None, interaction_constraints='',\n",
      "              learning_rate=0.300000012, max_bin=256, max_cat_to_onehot=4,\n",
      "              max_delta_step=0, max_depth=6, max_leaves=0, min_child_weight=1,\n",
      "              missing=nan, monotone_constraints='()', n_estimators=100,\n",
      "              n_jobs=0, num_parallel_tree=1, predictor='auto', random_state=0,\n",
      "              reg_alpha=0, reg_lambda=1, ...)\n",
      "              precision    recall  f1-score   support\n",
      "\n",
      "           0       1.00      1.00      1.00         4\n",
      "           1       1.00      1.00      1.00         8\n",
      "\n",
      "    accuracy                           1.00        12\n",
      "   macro avg       1.00      1.00      1.00        12\n",
      "weighted avg       1.00      1.00      1.00        12\n",
      "\n",
      "[[4 0]\n",
      " [0 8]]\n"
     ]
    },
    {
     "name": "stderr",
     "output_type": "stream",
     "text": [
      "C:\\Users\\kinos\\TU_Wien\\Interdis_project\\Code\\venv\\lib\\site-packages\\pandas\\core\\dtypes\\astype.py:170: ComplexWarning: Casting complex values to real discards the imaginary part\n",
      "  return arr.astype(dtype, copy=True)\n"
     ]
    },
    {
     "data": {
      "text/plain": "array([[4, 0],\n       [0, 8]], dtype=int64)"
     },
     "execution_count": 28,
     "metadata": {},
     "output_type": "execute_result"
    }
   ],
   "source": [
    "No_cav_files = [\"sxmany_200206_007_HKMNetzpumpe04_004_RP1_FC_01_C06_SB1_L0_XX_XXXX_YY_YYYY_ZZZZZZ_10.wav\"]\n",
    "cav_files = [\"s00000_191115_007_KesselpumpHD02_002_RP1_FC_01_P06_SB1_L0_KS_XXXX_YY_YYYY_ZZZZZZ_16.wav\"]\n",
    "\n",
    "Classification_pipe(1, cav_files, No_cav_files, 0.3)"
   ],
   "metadata": {
    "collapsed": false,
    "pycharm": {
     "name": "#%%\n"
    }
   }
  },
  {
   "cell_type": "markdown",
   "source": [],
   "metadata": {
    "collapsed": false
   }
  },
  {
   "cell_type": "code",
   "execution_count": 277,
   "outputs": [],
   "source": [
    "from sklearn.model_selection import GridSearchCV, StratifiedKFold\n",
    "def Classification_pipe_Grid (splits_in_sec, cavitation_data, no_cavitation_data,test_split_ratio ):\n",
    "    #read in files\n",
    "    print(f'\\n Reading in files, splitting in {splits_in_sec} second samples, transforming and extracting features')\n",
    "    non_cav_len, no_cav_df = feature_pipe(no_cavitation_data,splits_in_sec,\"No Cavitation\")\n",
    "    cav_len, cav_df = feature_pipe(cavitation_data,splits_in_sec,\"Cavitation\")\n",
    "    final_df = pd.concat([no_cav_df, cav_df])\n",
    "    length = cav_len + non_cav_len\n",
    "    print(f'\\n Done! We have {length} samples!')\n",
    "    #y = final_df[\"Cavitation\"]\n",
    "    #X = final_df.loc[:, final_df.columns != 'Cavitation'].astype('float')\n",
    "    #split in train test, keep for output\n",
    "\n",
    "    train, test = train_test_split(final_df, test_size = test_split_ratio, random_state = 1623806)\n",
    "    X_train = train.loc[:, final_df.columns != 'Cavitation'].astype('float')\n",
    "    X_test = test.loc[:, final_df.columns != 'Cavitation'].astype('float')\n",
    "    y_train = train[\"Cavitation\"]\n",
    "    y_test = test[\"Cavitation\"]\n",
    "\n",
    "\n",
    "\n",
    "    print(f'\\n Train set: {len(train)} samples!')\n",
    "    print(f'\\n Test set: {len(test)} samples!')\n",
    "    print('\\n Starting Gridsearch, fine tuning parameters')\n",
    "    model = xgb.XGBClassifier()\n",
    "    #parameters for gridsearch\n",
    "    param = {\n",
    "    'max_depth': range (2, 10, 1),\n",
    "    'n_estimators': range(100, 1000, 100),\n",
    "    'learning_rate': [0.1, 0.01, 0.05]\n",
    "}\n",
    "    grid = GridSearchCV(model, param, n_jobs=5,\n",
    "                    cv = 10,\n",
    "                       #StratifiedKFold( n_splits=5, shuffle=True),\n",
    "                       scoring='roc_auc', verbose=True, refit=True)\n",
    "\n",
    "    grid.fit(X_train, y_train)\n",
    "    #Output\n",
    "    print('\\n Best estimator:')\n",
    "    print(grid.best_estimator_)\n",
    "    print('\\n  best_score_:')\n",
    "    print(grid.best_score_)\n",
    "    print('\\n Best parameters:')\n",
    "    print(grid.best_params_)\n",
    "\n",
    "    predicted_y = grid.predict(X_test)\n",
    "\n",
    "    print('\\n Classification report on unseen test set:')\n",
    "    print(metrics.classification_report(y_test, predicted_y))\n",
    "    print('\\n Confusion matrix on unseen test set')\n",
    "    print(metrics.confusion_matrix(y_test, predicted_y))\n",
    "    print(X_train.columns)\n",
    "    print(grid.best_estimator_.feature_importances_)\n",
    "    importance = pd.DataFrame({'Variable':X.columns,\n",
    "              'Importance':grid.best_estimator_.feature_importances_}).sort_values('Importance', ascending=False)\n",
    "    print('\\n Feature importance:')\n",
    "    print(importance)\n",
    "    return train, test, grid.best_estimator_, importance\n",
    "   # predicted_y = model.predict(X_test)\n",
    "   # print(metrics.classification_report(y_test, predicted_y))\n",
    "   # print(metrics.confusion_matrix(y_test, predicted_y))\n",
    "   # return metrics.confusion_matrix(y_test, predicted_y)"
   ],
   "metadata": {
    "collapsed": false,
    "pycharm": {
     "name": "#%%\n"
    }
   }
  },
  {
   "cell_type": "code",
   "execution_count": 278,
   "outputs": [
    {
     "name": "stderr",
     "output_type": "stream",
     "text": [
      "C:\\Users\\kinos\\AppData\\Local\\Temp\\ipykernel_2044\\3207606025.py:6: WavFileWarning: Chunk (non-data) not understood, skipping it.\n",
      "  sf, d = wavfile.read(path/data)\n"
     ]
    },
    {
     "name": "stdout",
     "output_type": "stream",
     "text": [
      "\n",
      " Reading in files, splitting in 1 second samples, transforming and extracting features\n"
     ]
    },
    {
     "name": "stderr",
     "output_type": "stream",
     "text": [
      "C:\\Users\\kinos\\AppData\\Local\\Temp\\ipykernel_2044\\3207606025.py:6: WavFileWarning: Chunk (non-data) not understood, skipping it.\n",
      "  sf, d = wavfile.read(path/data)\n"
     ]
    },
    {
     "name": "stdout",
     "output_type": "stream",
     "text": [
      "\n",
      " Done! We have 40 samples!\n",
      "Index(['mean', 'median', 'quartile_25', 'quartile_75', 'Max', 'Min',\n",
      "       'quartile', 'std', 'rms', 'sra', 'ff', 'clf', 'cf', 'kurtosis', 'skew'],\n",
      "      dtype='object')\n",
      "Index(['mean', 'median', 'quartile_25', 'quartile_75', 'Max', 'Min',\n",
      "       'quartile', 'std', 'rms', 'sra', 'ff', 'clf', 'cf', 'kurtosis', 'skew'],\n",
      "      dtype='object')\n",
      "\n",
      " Train set: 28 samples!\n",
      "\n",
      " Test set: 12 samples!\n",
      "\n",
      " Starting Gridsearch, fine tuning parameters\n",
      "Fitting 10 folds for each of 216 candidates, totalling 2160 fits\n"
     ]
    },
    {
     "ename": "KeyboardInterrupt",
     "evalue": "",
     "output_type": "error",
     "traceback": [
      "\u001B[1;31m---------------------------------------------------------------------------\u001B[0m",
      "\u001B[1;31mKeyboardInterrupt\u001B[0m                         Traceback (most recent call last)",
      "Cell \u001B[1;32mIn [278], line 1\u001B[0m\n\u001B[1;32m----> 1\u001B[0m train, test, best_model \u001B[38;5;241m=\u001B[39m Classification_pipe_Grid(\u001B[38;5;241m1\u001B[39m, cav_files, No_cav_files, \u001B[38;5;241m0.3\u001B[39m)\n",
      "Cell \u001B[1;32mIn [277], line 38\u001B[0m, in \u001B[0;36mClassification_pipe_Grid\u001B[1;34m(splits_in_sec, cavitation_data, no_cavitation_data, test_split_ratio)\u001B[0m\n\u001B[0;32m     28\u001B[0m     param \u001B[38;5;241m=\u001B[39m {\n\u001B[0;32m     29\u001B[0m     \u001B[38;5;124m'\u001B[39m\u001B[38;5;124mmax_depth\u001B[39m\u001B[38;5;124m'\u001B[39m: \u001B[38;5;28mrange\u001B[39m (\u001B[38;5;241m2\u001B[39m, \u001B[38;5;241m10\u001B[39m, \u001B[38;5;241m1\u001B[39m),\n\u001B[0;32m     30\u001B[0m     \u001B[38;5;124m'\u001B[39m\u001B[38;5;124mn_estimators\u001B[39m\u001B[38;5;124m'\u001B[39m: \u001B[38;5;28mrange\u001B[39m(\u001B[38;5;241m100\u001B[39m, \u001B[38;5;241m1000\u001B[39m, \u001B[38;5;241m100\u001B[39m),\n\u001B[0;32m     31\u001B[0m     \u001B[38;5;124m'\u001B[39m\u001B[38;5;124mlearning_rate\u001B[39m\u001B[38;5;124m'\u001B[39m: [\u001B[38;5;241m0.1\u001B[39m, \u001B[38;5;241m0.01\u001B[39m, \u001B[38;5;241m0.05\u001B[39m]\n\u001B[0;32m     32\u001B[0m }\n\u001B[0;32m     33\u001B[0m     grid \u001B[38;5;241m=\u001B[39m GridSearchCV(model, param, n_jobs\u001B[38;5;241m=\u001B[39m\u001B[38;5;241m5\u001B[39m,\n\u001B[0;32m     34\u001B[0m                     cv \u001B[38;5;241m=\u001B[39m \u001B[38;5;241m10\u001B[39m,\n\u001B[0;32m     35\u001B[0m                        \u001B[38;5;66;03m#StratifiedKFold( n_splits=5, shuffle=True),\u001B[39;00m\n\u001B[0;32m     36\u001B[0m                        scoring\u001B[38;5;241m=\u001B[39m\u001B[38;5;124m'\u001B[39m\u001B[38;5;124mroc_auc\u001B[39m\u001B[38;5;124m'\u001B[39m, verbose\u001B[38;5;241m=\u001B[39m\u001B[38;5;28;01mTrue\u001B[39;00m, refit\u001B[38;5;241m=\u001B[39m\u001B[38;5;28;01mTrue\u001B[39;00m)\n\u001B[1;32m---> 38\u001B[0m     \u001B[43mgrid\u001B[49m\u001B[38;5;241;43m.\u001B[39;49m\u001B[43mfit\u001B[49m\u001B[43m(\u001B[49m\u001B[43mX_train\u001B[49m\u001B[43m,\u001B[49m\u001B[43m \u001B[49m\u001B[43my_train\u001B[49m\u001B[43m)\u001B[49m\n\u001B[0;32m     39\u001B[0m     \u001B[38;5;66;03m#Output\u001B[39;00m\n\u001B[0;32m     40\u001B[0m     \u001B[38;5;28mprint\u001B[39m(\u001B[38;5;124m'\u001B[39m\u001B[38;5;130;01m\\n\u001B[39;00m\u001B[38;5;124m Best estimator:\u001B[39m\u001B[38;5;124m'\u001B[39m)\n",
      "File \u001B[1;32m~\\TU_Wien\\Interdis_project\\Code\\venv\\lib\\site-packages\\sklearn\\model_selection\\_search.py:875\u001B[0m, in \u001B[0;36mBaseSearchCV.fit\u001B[1;34m(self, X, y, groups, **fit_params)\u001B[0m\n\u001B[0;32m    869\u001B[0m     results \u001B[38;5;241m=\u001B[39m \u001B[38;5;28mself\u001B[39m\u001B[38;5;241m.\u001B[39m_format_results(\n\u001B[0;32m    870\u001B[0m         all_candidate_params, n_splits, all_out, all_more_results\n\u001B[0;32m    871\u001B[0m     )\n\u001B[0;32m    873\u001B[0m     \u001B[38;5;28;01mreturn\u001B[39;00m results\n\u001B[1;32m--> 875\u001B[0m \u001B[38;5;28;43mself\u001B[39;49m\u001B[38;5;241;43m.\u001B[39;49m\u001B[43m_run_search\u001B[49m\u001B[43m(\u001B[49m\u001B[43mevaluate_candidates\u001B[49m\u001B[43m)\u001B[49m\n\u001B[0;32m    877\u001B[0m \u001B[38;5;66;03m# multimetric is determined here because in the case of a callable\u001B[39;00m\n\u001B[0;32m    878\u001B[0m \u001B[38;5;66;03m# self.scoring the return type is only known after calling\u001B[39;00m\n\u001B[0;32m    879\u001B[0m first_test_score \u001B[38;5;241m=\u001B[39m all_out[\u001B[38;5;241m0\u001B[39m][\u001B[38;5;124m\"\u001B[39m\u001B[38;5;124mtest_scores\u001B[39m\u001B[38;5;124m\"\u001B[39m]\n",
      "File \u001B[1;32m~\\TU_Wien\\Interdis_project\\Code\\venv\\lib\\site-packages\\sklearn\\model_selection\\_search.py:1379\u001B[0m, in \u001B[0;36mGridSearchCV._run_search\u001B[1;34m(self, evaluate_candidates)\u001B[0m\n\u001B[0;32m   1377\u001B[0m \u001B[38;5;28;01mdef\u001B[39;00m \u001B[38;5;21m_run_search\u001B[39m(\u001B[38;5;28mself\u001B[39m, evaluate_candidates):\n\u001B[0;32m   1378\u001B[0m     \u001B[38;5;124;03m\"\"\"Search all candidates in param_grid\"\"\"\u001B[39;00m\n\u001B[1;32m-> 1379\u001B[0m     \u001B[43mevaluate_candidates\u001B[49m\u001B[43m(\u001B[49m\u001B[43mParameterGrid\u001B[49m\u001B[43m(\u001B[49m\u001B[38;5;28;43mself\u001B[39;49m\u001B[38;5;241;43m.\u001B[39;49m\u001B[43mparam_grid\u001B[49m\u001B[43m)\u001B[49m\u001B[43m)\u001B[49m\n",
      "File \u001B[1;32m~\\TU_Wien\\Interdis_project\\Code\\venv\\lib\\site-packages\\sklearn\\model_selection\\_search.py:822\u001B[0m, in \u001B[0;36mBaseSearchCV.fit.<locals>.evaluate_candidates\u001B[1;34m(candidate_params, cv, more_results)\u001B[0m\n\u001B[0;32m    814\u001B[0m \u001B[38;5;28;01mif\u001B[39;00m \u001B[38;5;28mself\u001B[39m\u001B[38;5;241m.\u001B[39mverbose \u001B[38;5;241m>\u001B[39m \u001B[38;5;241m0\u001B[39m:\n\u001B[0;32m    815\u001B[0m     \u001B[38;5;28mprint\u001B[39m(\n\u001B[0;32m    816\u001B[0m         \u001B[38;5;124m\"\u001B[39m\u001B[38;5;124mFitting \u001B[39m\u001B[38;5;132;01m{0}\u001B[39;00m\u001B[38;5;124m folds for each of \u001B[39m\u001B[38;5;132;01m{1}\u001B[39;00m\u001B[38;5;124m candidates,\u001B[39m\u001B[38;5;124m\"\u001B[39m\n\u001B[0;32m    817\u001B[0m         \u001B[38;5;124m\"\u001B[39m\u001B[38;5;124m totalling \u001B[39m\u001B[38;5;132;01m{2}\u001B[39;00m\u001B[38;5;124m fits\u001B[39m\u001B[38;5;124m\"\u001B[39m\u001B[38;5;241m.\u001B[39mformat(\n\u001B[0;32m    818\u001B[0m             n_splits, n_candidates, n_candidates \u001B[38;5;241m*\u001B[39m n_splits\n\u001B[0;32m    819\u001B[0m         )\n\u001B[0;32m    820\u001B[0m     )\n\u001B[1;32m--> 822\u001B[0m out \u001B[38;5;241m=\u001B[39m \u001B[43mparallel\u001B[49m\u001B[43m(\u001B[49m\n\u001B[0;32m    823\u001B[0m \u001B[43m    \u001B[49m\u001B[43mdelayed\u001B[49m\u001B[43m(\u001B[49m\u001B[43m_fit_and_score\u001B[49m\u001B[43m)\u001B[49m\u001B[43m(\u001B[49m\n\u001B[0;32m    824\u001B[0m \u001B[43m        \u001B[49m\u001B[43mclone\u001B[49m\u001B[43m(\u001B[49m\u001B[43mbase_estimator\u001B[49m\u001B[43m)\u001B[49m\u001B[43m,\u001B[49m\n\u001B[0;32m    825\u001B[0m \u001B[43m        \u001B[49m\u001B[43mX\u001B[49m\u001B[43m,\u001B[49m\n\u001B[0;32m    826\u001B[0m \u001B[43m        \u001B[49m\u001B[43my\u001B[49m\u001B[43m,\u001B[49m\n\u001B[0;32m    827\u001B[0m \u001B[43m        \u001B[49m\u001B[43mtrain\u001B[49m\u001B[38;5;241;43m=\u001B[39;49m\u001B[43mtrain\u001B[49m\u001B[43m,\u001B[49m\n\u001B[0;32m    828\u001B[0m \u001B[43m        \u001B[49m\u001B[43mtest\u001B[49m\u001B[38;5;241;43m=\u001B[39;49m\u001B[43mtest\u001B[49m\u001B[43m,\u001B[49m\n\u001B[0;32m    829\u001B[0m \u001B[43m        \u001B[49m\u001B[43mparameters\u001B[49m\u001B[38;5;241;43m=\u001B[39;49m\u001B[43mparameters\u001B[49m\u001B[43m,\u001B[49m\n\u001B[0;32m    830\u001B[0m \u001B[43m        \u001B[49m\u001B[43msplit_progress\u001B[49m\u001B[38;5;241;43m=\u001B[39;49m\u001B[43m(\u001B[49m\u001B[43msplit_idx\u001B[49m\u001B[43m,\u001B[49m\u001B[43m \u001B[49m\u001B[43mn_splits\u001B[49m\u001B[43m)\u001B[49m\u001B[43m,\u001B[49m\n\u001B[0;32m    831\u001B[0m \u001B[43m        \u001B[49m\u001B[43mcandidate_progress\u001B[49m\u001B[38;5;241;43m=\u001B[39;49m\u001B[43m(\u001B[49m\u001B[43mcand_idx\u001B[49m\u001B[43m,\u001B[49m\u001B[43m \u001B[49m\u001B[43mn_candidates\u001B[49m\u001B[43m)\u001B[49m\u001B[43m,\u001B[49m\n\u001B[0;32m    832\u001B[0m \u001B[43m        \u001B[49m\u001B[38;5;241;43m*\u001B[39;49m\u001B[38;5;241;43m*\u001B[39;49m\u001B[43mfit_and_score_kwargs\u001B[49m\u001B[43m,\u001B[49m\n\u001B[0;32m    833\u001B[0m \u001B[43m    \u001B[49m\u001B[43m)\u001B[49m\n\u001B[0;32m    834\u001B[0m \u001B[43m    \u001B[49m\u001B[38;5;28;43;01mfor\u001B[39;49;00m\u001B[43m \u001B[49m\u001B[43m(\u001B[49m\u001B[43mcand_idx\u001B[49m\u001B[43m,\u001B[49m\u001B[43m \u001B[49m\u001B[43mparameters\u001B[49m\u001B[43m)\u001B[49m\u001B[43m,\u001B[49m\u001B[43m \u001B[49m\u001B[43m(\u001B[49m\u001B[43msplit_idx\u001B[49m\u001B[43m,\u001B[49m\u001B[43m \u001B[49m\u001B[43m(\u001B[49m\u001B[43mtrain\u001B[49m\u001B[43m,\u001B[49m\u001B[43m \u001B[49m\u001B[43mtest\u001B[49m\u001B[43m)\u001B[49m\u001B[43m)\u001B[49m\u001B[43m \u001B[49m\u001B[38;5;129;43;01min\u001B[39;49;00m\u001B[43m \u001B[49m\u001B[43mproduct\u001B[49m\u001B[43m(\u001B[49m\n\u001B[0;32m    835\u001B[0m \u001B[43m        \u001B[49m\u001B[38;5;28;43menumerate\u001B[39;49m\u001B[43m(\u001B[49m\u001B[43mcandidate_params\u001B[49m\u001B[43m)\u001B[49m\u001B[43m,\u001B[49m\u001B[43m \u001B[49m\u001B[38;5;28;43menumerate\u001B[39;49m\u001B[43m(\u001B[49m\u001B[43mcv\u001B[49m\u001B[38;5;241;43m.\u001B[39;49m\u001B[43msplit\u001B[49m\u001B[43m(\u001B[49m\u001B[43mX\u001B[49m\u001B[43m,\u001B[49m\u001B[43m \u001B[49m\u001B[43my\u001B[49m\u001B[43m,\u001B[49m\u001B[43m \u001B[49m\u001B[43mgroups\u001B[49m\u001B[43m)\u001B[49m\u001B[43m)\u001B[49m\n\u001B[0;32m    836\u001B[0m \u001B[43m    \u001B[49m\u001B[43m)\u001B[49m\n\u001B[0;32m    837\u001B[0m \u001B[43m\u001B[49m\u001B[43m)\u001B[49m\n\u001B[0;32m    839\u001B[0m \u001B[38;5;28;01mif\u001B[39;00m \u001B[38;5;28mlen\u001B[39m(out) \u001B[38;5;241m<\u001B[39m \u001B[38;5;241m1\u001B[39m:\n\u001B[0;32m    840\u001B[0m     \u001B[38;5;28;01mraise\u001B[39;00m \u001B[38;5;167;01mValueError\u001B[39;00m(\n\u001B[0;32m    841\u001B[0m         \u001B[38;5;124m\"\u001B[39m\u001B[38;5;124mNo fits were performed. \u001B[39m\u001B[38;5;124m\"\u001B[39m\n\u001B[0;32m    842\u001B[0m         \u001B[38;5;124m\"\u001B[39m\u001B[38;5;124mWas the CV iterator empty? \u001B[39m\u001B[38;5;124m\"\u001B[39m\n\u001B[0;32m    843\u001B[0m         \u001B[38;5;124m\"\u001B[39m\u001B[38;5;124mWere there no candidates?\u001B[39m\u001B[38;5;124m\"\u001B[39m\n\u001B[0;32m    844\u001B[0m     )\n",
      "File \u001B[1;32m~\\TU_Wien\\Interdis_project\\Code\\venv\\lib\\site-packages\\joblib\\parallel.py:1098\u001B[0m, in \u001B[0;36mParallel.__call__\u001B[1;34m(self, iterable)\u001B[0m\n\u001B[0;32m   1095\u001B[0m     \u001B[38;5;28mself\u001B[39m\u001B[38;5;241m.\u001B[39m_iterating \u001B[38;5;241m=\u001B[39m \u001B[38;5;28;01mFalse\u001B[39;00m\n\u001B[0;32m   1097\u001B[0m \u001B[38;5;28;01mwith\u001B[39;00m \u001B[38;5;28mself\u001B[39m\u001B[38;5;241m.\u001B[39m_backend\u001B[38;5;241m.\u001B[39mretrieval_context():\n\u001B[1;32m-> 1098\u001B[0m     \u001B[38;5;28;43mself\u001B[39;49m\u001B[38;5;241;43m.\u001B[39;49m\u001B[43mretrieve\u001B[49m\u001B[43m(\u001B[49m\u001B[43m)\u001B[49m\n\u001B[0;32m   1099\u001B[0m \u001B[38;5;66;03m# Make sure that we get a last message telling us we are done\u001B[39;00m\n\u001B[0;32m   1100\u001B[0m elapsed_time \u001B[38;5;241m=\u001B[39m time\u001B[38;5;241m.\u001B[39mtime() \u001B[38;5;241m-\u001B[39m \u001B[38;5;28mself\u001B[39m\u001B[38;5;241m.\u001B[39m_start_time\n",
      "File \u001B[1;32m~\\TU_Wien\\Interdis_project\\Code\\venv\\lib\\site-packages\\joblib\\parallel.py:975\u001B[0m, in \u001B[0;36mParallel.retrieve\u001B[1;34m(self)\u001B[0m\n\u001B[0;32m    973\u001B[0m \u001B[38;5;28;01mtry\u001B[39;00m:\n\u001B[0;32m    974\u001B[0m     \u001B[38;5;28;01mif\u001B[39;00m \u001B[38;5;28mgetattr\u001B[39m(\u001B[38;5;28mself\u001B[39m\u001B[38;5;241m.\u001B[39m_backend, \u001B[38;5;124m'\u001B[39m\u001B[38;5;124msupports_timeout\u001B[39m\u001B[38;5;124m'\u001B[39m, \u001B[38;5;28;01mFalse\u001B[39;00m):\n\u001B[1;32m--> 975\u001B[0m         \u001B[38;5;28mself\u001B[39m\u001B[38;5;241m.\u001B[39m_output\u001B[38;5;241m.\u001B[39mextend(\u001B[43mjob\u001B[49m\u001B[38;5;241;43m.\u001B[39;49m\u001B[43mget\u001B[49m\u001B[43m(\u001B[49m\u001B[43mtimeout\u001B[49m\u001B[38;5;241;43m=\u001B[39;49m\u001B[38;5;28;43mself\u001B[39;49m\u001B[38;5;241;43m.\u001B[39;49m\u001B[43mtimeout\u001B[49m\u001B[43m)\u001B[49m)\n\u001B[0;32m    976\u001B[0m     \u001B[38;5;28;01melse\u001B[39;00m:\n\u001B[0;32m    977\u001B[0m         \u001B[38;5;28mself\u001B[39m\u001B[38;5;241m.\u001B[39m_output\u001B[38;5;241m.\u001B[39mextend(job\u001B[38;5;241m.\u001B[39mget())\n",
      "File \u001B[1;32m~\\TU_Wien\\Interdis_project\\Code\\venv\\lib\\site-packages\\joblib\\_parallel_backends.py:567\u001B[0m, in \u001B[0;36mLokyBackend.wrap_future_result\u001B[1;34m(future, timeout)\u001B[0m\n\u001B[0;32m    564\u001B[0m \u001B[38;5;124;03m\"\"\"Wrapper for Future.result to implement the same behaviour as\u001B[39;00m\n\u001B[0;32m    565\u001B[0m \u001B[38;5;124;03mAsyncResults.get from multiprocessing.\"\"\"\u001B[39;00m\n\u001B[0;32m    566\u001B[0m \u001B[38;5;28;01mtry\u001B[39;00m:\n\u001B[1;32m--> 567\u001B[0m     \u001B[38;5;28;01mreturn\u001B[39;00m \u001B[43mfuture\u001B[49m\u001B[38;5;241;43m.\u001B[39;49m\u001B[43mresult\u001B[49m\u001B[43m(\u001B[49m\u001B[43mtimeout\u001B[49m\u001B[38;5;241;43m=\u001B[39;49m\u001B[43mtimeout\u001B[49m\u001B[43m)\u001B[49m\n\u001B[0;32m    568\u001B[0m \u001B[38;5;28;01mexcept\u001B[39;00m CfTimeoutError \u001B[38;5;28;01mas\u001B[39;00m e:\n\u001B[0;32m    569\u001B[0m     \u001B[38;5;28;01mraise\u001B[39;00m \u001B[38;5;167;01mTimeoutError\u001B[39;00m \u001B[38;5;28;01mfrom\u001B[39;00m \u001B[38;5;21;01me\u001B[39;00m\n",
      "File \u001B[1;32mC:\\Program Files\\Python310\\lib\\concurrent\\futures\\_base.py:453\u001B[0m, in \u001B[0;36mFuture.result\u001B[1;34m(self, timeout)\u001B[0m\n\u001B[0;32m    450\u001B[0m \u001B[38;5;28;01melif\u001B[39;00m \u001B[38;5;28mself\u001B[39m\u001B[38;5;241m.\u001B[39m_state \u001B[38;5;241m==\u001B[39m FINISHED:\n\u001B[0;32m    451\u001B[0m     \u001B[38;5;28;01mreturn\u001B[39;00m \u001B[38;5;28mself\u001B[39m\u001B[38;5;241m.\u001B[39m__get_result()\n\u001B[1;32m--> 453\u001B[0m \u001B[38;5;28;43mself\u001B[39;49m\u001B[38;5;241;43m.\u001B[39;49m\u001B[43m_condition\u001B[49m\u001B[38;5;241;43m.\u001B[39;49m\u001B[43mwait\u001B[49m\u001B[43m(\u001B[49m\u001B[43mtimeout\u001B[49m\u001B[43m)\u001B[49m\n\u001B[0;32m    455\u001B[0m \u001B[38;5;28;01mif\u001B[39;00m \u001B[38;5;28mself\u001B[39m\u001B[38;5;241m.\u001B[39m_state \u001B[38;5;129;01min\u001B[39;00m [CANCELLED, CANCELLED_AND_NOTIFIED]:\n\u001B[0;32m    456\u001B[0m     \u001B[38;5;28;01mraise\u001B[39;00m CancelledError()\n",
      "File \u001B[1;32mC:\\Program Files\\Python310\\lib\\threading.py:320\u001B[0m, in \u001B[0;36mCondition.wait\u001B[1;34m(self, timeout)\u001B[0m\n\u001B[0;32m    318\u001B[0m \u001B[38;5;28;01mtry\u001B[39;00m:    \u001B[38;5;66;03m# restore state no matter what (e.g., KeyboardInterrupt)\u001B[39;00m\n\u001B[0;32m    319\u001B[0m     \u001B[38;5;28;01mif\u001B[39;00m timeout \u001B[38;5;129;01mis\u001B[39;00m \u001B[38;5;28;01mNone\u001B[39;00m:\n\u001B[1;32m--> 320\u001B[0m         \u001B[43mwaiter\u001B[49m\u001B[38;5;241;43m.\u001B[39;49m\u001B[43macquire\u001B[49m\u001B[43m(\u001B[49m\u001B[43m)\u001B[49m\n\u001B[0;32m    321\u001B[0m         gotit \u001B[38;5;241m=\u001B[39m \u001B[38;5;28;01mTrue\u001B[39;00m\n\u001B[0;32m    322\u001B[0m     \u001B[38;5;28;01melse\u001B[39;00m:\n",
      "\u001B[1;31mKeyboardInterrupt\u001B[0m: "
     ]
    }
   ],
   "source": [
    "train, test, best_model = Classification_pipe_Grid(1, cav_files, No_cav_files, 0.3)"
   ],
   "metadata": {
    "collapsed": false,
    "pycharm": {
     "name": "#%%\n"
    }
   }
  },
  {
   "cell_type": "code",
   "execution_count": null,
   "outputs": [],
   "source": [
    "best_model.predict(X_test)"
   ],
   "metadata": {
    "collapsed": false,
    "pycharm": {
     "name": "#%%\n"
    }
   }
  },
  {
   "cell_type": "code",
   "execution_count": null,
   "outputs": [],
   "source": [
    "\n",
    "metrics.confusion_matrix(y_test, model.predict(X_test))"
   ],
   "metadata": {
    "collapsed": false,
    "pycharm": {
     "name": "#%%\n"
    }
   }
  },
  {
   "cell_type": "markdown",
   "source": [
    "We only two datasets for each label which may be homogenous, especially the cavitation set.\n"
   ],
   "metadata": {
    "collapsed": false
   }
  },
  {
   "cell_type": "code",
   "execution_count": 281,
   "outputs": [],
   "source": [
    "def xg_boost_pipe(df,test_split, param, grid: bool = False):\n",
    "    train, test = train_test_split(df, test_size = test_split, random_state = 1623806)\n",
    "    X_train = train.loc[:, df.columns != 'Cavitation'].astype('float')\n",
    "    X_test = test.loc[:, df.columns != 'Cavitation'].astype('float')\n",
    "    y_train = train[\"Cavitation\"]\n",
    "    y_test = test[\"Cavitation\"]\n",
    "    print(f'\\n Train set: {len(train)} samples!')\n",
    "    print(f'\\n Test set: {len(test)} samples!')\n",
    "\n",
    "    if grid == True:\n",
    "        model = xgb.XGBClassifier()\n",
    "        print('\\n Initiating Gridsearch, fine tuning parameters')\n",
    "        grid = GridSearchCV(model, param, n_jobs=5,\n",
    "                        cv = 10,\n",
    "                           #StratifiedKFold( n_splits=5, shuffle=True),\n",
    "                           scoring='roc_auc', verbose=True, refit=True)\n",
    "\n",
    "        grid.fit(X_train, y_train)\n",
    "        #Output\n",
    "        print('\\n Done!')\n",
    "        print('\\n Best estimator:')\n",
    "        print(grid.best_estimator_)\n",
    "        print('\\n  best_score_:')\n",
    "        print(grid.best_score_)\n",
    "        print('\\n Best parameters:')\n",
    "        print(grid.best_params_)\n",
    "\n",
    "        predicted_y = grid.predict(X_test)\n",
    "\n",
    "        importance = pd.DataFrame({'Variable':X_train.columns,\n",
    "                  'Importance':grid.best_estimator_.feature_importances_}).sort_values('Importance', ascending=False)\n",
    "        print('\\n Feature importance:')\n",
    "        print(importance)\n",
    "\n",
    "        return train, test, grid.best_estimator_, predicted_y, importance\n",
    "    else:\n",
    "\n",
    "        print(f'\\n Train set: {len(train)} samples!,  Test set: {len(test)} samples!')\n",
    "        model = xgb.XGBClassifier()\n",
    "        model.fit(X_train, y_train)\n",
    "        predicted_y = model.predict(X_test)\n",
    "        evaluation = metrics.classification_report(y_test, predicted_y, output_dict=True)\n",
    "\n",
    "        return train, test, model , predicted_y, evaluation\n"
   ],
   "metadata": {
    "collapsed": false,
    "pycharm": {
     "name": "#%%\n"
    }
   }
  },
  {
   "cell_type": "code",
   "execution_count": 282,
   "outputs": [],
   "source": [
    "from sklearn.model_selection import GridSearchCV, StratifiedKFold\n",
    "\n",
    "split_eval_list = np.arange(0.1,1,0.1)\n",
    "def Classification_pipe_all (splits_in_sec, cavitation_data, no_cavitation_data,test_split_ratio, evaluation = \"accuracy\" , split_eval: bool = False):\n",
    "    #read in files\n",
    "    print(f'\\n Reading in files, splitting in {splits_in_sec} second samples, transforming and extracting features')\n",
    "    paramameter = {\n",
    "            'max_depth': range (2, 10, 1),\n",
    "            'n_estimators': range(100, 1000, 100),\n",
    "            'learning_rate': [0.1, 0.01, 0.05]\n",
    "        }\n",
    "    if split_eval == True:\n",
    "        print(f\"splitting evaluation is set to true, range is {splits_in_sec}\")\n",
    "        print(f\"\\n Evaluation method is {evaluation}\")\n",
    "        f1_result = []\n",
    "        acc_result = []\n",
    "        sample_size_list = []\n",
    "        splits_list = []\n",
    "\n",
    "        # loop all splits and get scores\n",
    "        for splits in split_eval_list:\n",
    "            splits_list.append(splits)\n",
    "            non_cav_len, no_cav_df = feature_pipe(no_cavitation_data,splits,\"No Cavitation\")\n",
    "            cav_len, cav_df = feature_pipe(cavitation_data,splits,\"Cavitation\")\n",
    "            final_df = pd.concat([no_cav_df, cav_df])\n",
    "            length = cav_len + non_cav_len\n",
    "            sample_size_list.append(length)\n",
    "            print(f\"{splits} second splits\")\n",
    "\n",
    "            #start xg boost no grid\n",
    "            train, test, model, predicted_y, eval = xg_boost_pipe(final_df, test_split_ratio, paramameter, grid = False)\n",
    "\n",
    "            print(f'\\n Classification report on unseen test set:')\n",
    "            print(f\"\\n accuracy:{eval['accuracy']}, f1: {eval['macro avg']['f1-score']}\")\n",
    "            f1_result.append(eval['macro avg']['f1-score'])\n",
    "            acc_result.append(eval[\"accuracy\"])\n",
    "            print(f'\\n -------------------------------------')\n",
    "        zipped = list(zip(splits_list, sample_size_list, f1_result, acc_result,  ))\n",
    "        output = pd.DataFrame(zipped, columns=['Splits_in_sec', 'Sample_size', 'f1', 'accuracy'])\n",
    "\n",
    "\n",
    "        #get best model using evaluator f1\n",
    "        if evaluation == \"f1\":\n",
    "            optim = output.loc[output['f1'].idxmax(), 'Splits_in_sec']\n",
    "\n",
    "            print(f\"\\n RESULT split evaulation based on {evaluation} best split size is {optim} seconds!\")\n",
    "\n",
    "            non_cav_len, no_cav_df = feature_pipe(no_cavitation_data,optim,\"No Cavitation\")\n",
    "            cav_len, cav_df = feature_pipe(cavitation_data,splits,\"Cavitation\")\n",
    "            final_df = pd.concat([no_cav_df, cav_df])\n",
    "\n",
    "\n",
    "            #start xg boost gridsearch for final model\n",
    "            train, test, model, predicted_y, importance = xg_boost_pipe(final_df, test_split_ratio, paramameter, grid = True)\n",
    "\n",
    "\n",
    "            print(f'\\n Classification report on unseen test set:')\n",
    "            print(f\"\\n accuracy:{eval['accuracy']}, f1: {eval['macro avg']['f1-score']}\")\n",
    "\n",
    "            return train, test, model, output\n",
    "        #get best model using evaluator accuracy\n",
    "        if evaluation == \"accuracy\":\n",
    "\n",
    "            optim = output.loc[output['accuracy'].idxmax(), 'Splits_in_sec']\n",
    "            print(f\"\\n RESULT split evaulation based on {evaluation} best split size is {optim} seconds!\")\n",
    "            non_cav_len, no_cav_df = feature_pipe(no_cavitation_data,optim,\"No Cavitation\")\n",
    "            cav_len, cav_df = feature_pipe(cavitation_data,splits,\"Cavitation\")\n",
    "            final_df = pd.concat([no_cav_df, cav_df])\n",
    "            #start xg boost gridsearch for final model\n",
    "            train, test, model, predicted_y, importance = xg_boost_pipe(final_df, test_split_ratio, paramameter, grid = True)\n",
    "\n",
    "            print(f'\\n Classification report on unseen test set:')\n",
    "            print(f\"\\n accuracy:{eval['accuracy']}, f1: {eval['macro avg']['f1-score']}\")\n",
    "\n",
    "            return train, test, model, output\n",
    "\n",
    "\n",
    "\n",
    "    # if no split evaluation, only grid search\n",
    "    else:\n",
    "        if isinstance(split_eval,np.ndarray):\n",
    "            print(\"This is of type np.ndarray. Only input one variable when split evaluation is set to false.\")\n",
    "        else:\n",
    "            non_cav_len, no_cav_df = feature_pipe(no_cavitation_data,splits_in_sec,\"No Cavitation\")\n",
    "            cav_len, cav_df = feature_pipe(cavitation_data,splits_in_sec,\"Cavitation\")\n",
    "            final_df = pd.concat([no_cav_df, cav_df])\n",
    "            length = cav_len + non_cav_len\n",
    "            print(f'\\n Done! We have {length} samples!')\n",
    "\n",
    "\n",
    "            train, test, model, predicted_y, importance = xg_boost_pipe(final_df, test_split_ratio, paramameter, grid = True)\n",
    "\n",
    "\n",
    "\n",
    "            return train, test, model, importance\n"
   ],
   "metadata": {
    "collapsed": false,
    "pycharm": {
     "name": "#%%\n"
    }
   }
  },
  {
   "cell_type": "code",
   "execution_count": 283,
   "outputs": [],
   "source": [
    "#train, test, model, eval_df  = Classification_pipe_all (1,  cav_files, No_cav_files, 0.3 , evaluation = \"accuracy\" , split_eval =False) #single no grid training"
   ],
   "metadata": {
    "collapsed": false,
    "pycharm": {
     "name": "#%%\n"
    }
   }
  },
  {
   "cell_type": "code",
   "execution_count": 284,
   "outputs": [
    {
     "name": "stderr",
     "output_type": "stream",
     "text": [
      "C:\\Users\\kinos\\AppData\\Local\\Temp\\ipykernel_2044\\3207606025.py:6: WavFileWarning: Chunk (non-data) not understood, skipping it.\n",
      "  sf, d = wavfile.read(path/data)\n"
     ]
    },
    {
     "name": "stdout",
     "output_type": "stream",
     "text": [
      "\n",
      " Reading in files, splitting in [0.1 0.2 0.3 0.4 0.5 0.6 0.7 0.8 0.9] second samples, transforming and extracting features\n",
      "splitting evaluation is set to true, range is [0.1 0.2 0.3 0.4 0.5 0.6 0.7 0.8 0.9]\n",
      "\n",
      " Evaluation method is accuracy\n"
     ]
    },
    {
     "name": "stderr",
     "output_type": "stream",
     "text": [
      "C:\\Users\\kinos\\AppData\\Local\\Temp\\ipykernel_2044\\3207606025.py:6: WavFileWarning: Chunk (non-data) not understood, skipping it.\n",
      "  sf, d = wavfile.read(path/data)\n"
     ]
    },
    {
     "name": "stdout",
     "output_type": "stream",
     "text": [
      "0.1 second splits\n",
      "\n",
      " Train set: 280 samples!\n",
      "\n",
      " Test set: 120 samples!\n",
      "\n",
      " Train set: 280 samples!,  Test set: 120 samples!\n",
      "\n",
      " Classification report on unseen test set:\n",
      "\n",
      " accuracy:1.0, f1: 1.0\n",
      "\n",
      " -------------------------------------\n"
     ]
    },
    {
     "name": "stderr",
     "output_type": "stream",
     "text": [
      "C:\\Users\\kinos\\AppData\\Local\\Temp\\ipykernel_2044\\3207606025.py:6: WavFileWarning: Chunk (non-data) not understood, skipping it.\n",
      "  sf, d = wavfile.read(path/data)\n",
      "C:\\Users\\kinos\\AppData\\Local\\Temp\\ipykernel_2044\\3207606025.py:6: WavFileWarning: Chunk (non-data) not understood, skipping it.\n",
      "  sf, d = wavfile.read(path/data)\n"
     ]
    },
    {
     "name": "stdout",
     "output_type": "stream",
     "text": [
      "0.2 second splits\n",
      "\n",
      " Train set: 140 samples!\n",
      "\n",
      " Test set: 60 samples!\n",
      "\n",
      " Train set: 140 samples!,  Test set: 60 samples!\n",
      "\n",
      " Classification report on unseen test set:\n",
      "\n",
      " accuracy:1.0, f1: 1.0\n",
      "\n",
      " -------------------------------------\n"
     ]
    },
    {
     "name": "stderr",
     "output_type": "stream",
     "text": [
      "C:\\Users\\kinos\\AppData\\Local\\Temp\\ipykernel_2044\\3207606025.py:6: WavFileWarning: Chunk (non-data) not understood, skipping it.\n",
      "  sf, d = wavfile.read(path/data)\n",
      "C:\\Users\\kinos\\AppData\\Local\\Temp\\ipykernel_2044\\3207606025.py:6: WavFileWarning: Chunk (non-data) not understood, skipping it.\n",
      "  sf, d = wavfile.read(path/data)\n"
     ]
    },
    {
     "name": "stdout",
     "output_type": "stream",
     "text": [
      "0.30000000000000004 second splits\n",
      "\n",
      " Train set: 93 samples!\n",
      "\n",
      " Test set: 41 samples!\n",
      "\n",
      " Train set: 93 samples!,  Test set: 41 samples!\n",
      "\n",
      " Classification report on unseen test set:\n",
      "\n",
      " accuracy:0.975609756097561, f1: 0.975609756097561\n",
      "\n",
      " -------------------------------------\n"
     ]
    },
    {
     "name": "stderr",
     "output_type": "stream",
     "text": [
      "C:\\Users\\kinos\\AppData\\Local\\Temp\\ipykernel_2044\\3207606025.py:6: WavFileWarning: Chunk (non-data) not understood, skipping it.\n",
      "  sf, d = wavfile.read(path/data)\n",
      "C:\\Users\\kinos\\AppData\\Local\\Temp\\ipykernel_2044\\3207606025.py:6: WavFileWarning: Chunk (non-data) not understood, skipping it.\n",
      "  sf, d = wavfile.read(path/data)\n"
     ]
    },
    {
     "name": "stdout",
     "output_type": "stream",
     "text": [
      "0.4 second splits\n",
      "\n",
      " Train set: 70 samples!\n",
      "\n",
      " Test set: 30 samples!\n",
      "\n",
      " Train set: 70 samples!,  Test set: 30 samples!\n",
      "\n",
      " Classification report on unseen test set:\n",
      "\n",
      " accuracy:1.0, f1: 1.0\n",
      "\n",
      " -------------------------------------\n"
     ]
    },
    {
     "name": "stderr",
     "output_type": "stream",
     "text": [
      "C:\\Users\\kinos\\AppData\\Local\\Temp\\ipykernel_2044\\3207606025.py:6: WavFileWarning: Chunk (non-data) not understood, skipping it.\n",
      "  sf, d = wavfile.read(path/data)\n",
      "C:\\Users\\kinos\\AppData\\Local\\Temp\\ipykernel_2044\\3207606025.py:6: WavFileWarning: Chunk (non-data) not understood, skipping it.\n",
      "  sf, d = wavfile.read(path/data)\n"
     ]
    },
    {
     "name": "stdout",
     "output_type": "stream",
     "text": [
      "0.5 second splits\n",
      "\n",
      " Train set: 56 samples!\n",
      "\n",
      " Test set: 24 samples!\n",
      "\n",
      " Train set: 56 samples!,  Test set: 24 samples!\n",
      "\n",
      " Classification report on unseen test set:\n",
      "\n",
      " accuracy:1.0, f1: 1.0\n",
      "\n",
      " -------------------------------------\n"
     ]
    },
    {
     "name": "stderr",
     "output_type": "stream",
     "text": [
      "C:\\Users\\kinos\\AppData\\Local\\Temp\\ipykernel_2044\\3207606025.py:6: WavFileWarning: Chunk (non-data) not understood, skipping it.\n",
      "  sf, d = wavfile.read(path/data)\n",
      "C:\\Users\\kinos\\AppData\\Local\\Temp\\ipykernel_2044\\3207606025.py:6: WavFileWarning: Chunk (non-data) not understood, skipping it.\n",
      "  sf, d = wavfile.read(path/data)\n"
     ]
    },
    {
     "name": "stdout",
     "output_type": "stream",
     "text": [
      "0.6 second splits\n",
      "\n",
      " Train set: 47 samples!\n",
      "\n",
      " Test set: 21 samples!\n",
      "\n",
      " Train set: 47 samples!,  Test set: 21 samples!\n",
      "\n",
      " Classification report on unseen test set:\n",
      "\n",
      " accuracy:0.9523809523809523, f1: 0.9519450800915332\n",
      "\n",
      " -------------------------------------\n"
     ]
    },
    {
     "name": "stderr",
     "output_type": "stream",
     "text": [
      "C:\\Users\\kinos\\AppData\\Local\\Temp\\ipykernel_2044\\3207606025.py:6: WavFileWarning: Chunk (non-data) not understood, skipping it.\n",
      "  sf, d = wavfile.read(path/data)\n",
      "C:\\Users\\kinos\\AppData\\Local\\Temp\\ipykernel_2044\\3207606025.py:6: WavFileWarning: Chunk (non-data) not understood, skipping it.\n",
      "  sf, d = wavfile.read(path/data)\n"
     ]
    },
    {
     "name": "stdout",
     "output_type": "stream",
     "text": [
      "0.7000000000000001 second splits\n",
      "\n",
      " Train set: 40 samples!\n",
      "\n",
      " Test set: 18 samples!\n",
      "\n",
      " Train set: 40 samples!,  Test set: 18 samples!\n",
      "\n",
      " Classification report on unseen test set:\n",
      "\n",
      " accuracy:1.0, f1: 1.0\n",
      "\n",
      " -------------------------------------\n"
     ]
    },
    {
     "name": "stderr",
     "output_type": "stream",
     "text": [
      "C:\\Users\\kinos\\AppData\\Local\\Temp\\ipykernel_2044\\3207606025.py:6: WavFileWarning: Chunk (non-data) not understood, skipping it.\n",
      "  sf, d = wavfile.read(path/data)\n",
      "C:\\Users\\kinos\\AppData\\Local\\Temp\\ipykernel_2044\\3207606025.py:6: WavFileWarning: Chunk (non-data) not understood, skipping it.\n",
      "  sf, d = wavfile.read(path/data)\n"
     ]
    },
    {
     "name": "stdout",
     "output_type": "stream",
     "text": [
      "0.8 second splits\n",
      "\n",
      " Train set: 35 samples!\n",
      "\n",
      " Test set: 15 samples!\n",
      "\n",
      " Train set: 35 samples!,  Test set: 15 samples!\n",
      "\n",
      " Classification report on unseen test set:\n",
      "\n",
      " accuracy:1.0, f1: 1.0\n",
      "\n",
      " -------------------------------------\n"
     ]
    },
    {
     "name": "stderr",
     "output_type": "stream",
     "text": [
      "C:\\Users\\kinos\\AppData\\Local\\Temp\\ipykernel_2044\\3207606025.py:6: WavFileWarning: Chunk (non-data) not understood, skipping it.\n",
      "  sf, d = wavfile.read(path/data)\n",
      "C:\\Users\\kinos\\AppData\\Local\\Temp\\ipykernel_2044\\3207606025.py:6: WavFileWarning: Chunk (non-data) not understood, skipping it.\n",
      "  sf, d = wavfile.read(path/data)\n"
     ]
    },
    {
     "name": "stdout",
     "output_type": "stream",
     "text": [
      "0.9 second splits\n",
      "\n",
      " Train set: 32 samples!\n",
      "\n",
      " Test set: 14 samples!\n",
      "\n",
      " Train set: 32 samples!,  Test set: 14 samples!\n",
      "\n",
      " Classification report on unseen test set:\n",
      "\n",
      " accuracy:0.9285714285714286, f1: 0.9251336898395721\n",
      "\n",
      " -------------------------------------\n",
      "\n",
      " RESULT split evaulation based on accuracy best split size is 0.1 seconds!\n"
     ]
    },
    {
     "name": "stderr",
     "output_type": "stream",
     "text": [
      "C:\\Users\\kinos\\AppData\\Local\\Temp\\ipykernel_2044\\3207606025.py:6: WavFileWarning: Chunk (non-data) not understood, skipping it.\n",
      "  sf, d = wavfile.read(path/data)\n",
      "C:\\Users\\kinos\\AppData\\Local\\Temp\\ipykernel_2044\\3207606025.py:6: WavFileWarning: Chunk (non-data) not understood, skipping it.\n",
      "  sf, d = wavfile.read(path/data)\n"
     ]
    },
    {
     "name": "stdout",
     "output_type": "stream",
     "text": [
      "\n",
      " Train set: 156 samples!\n",
      "\n",
      " Test set: 67 samples!\n",
      "\n",
      " Initiating Gridsearch, fine tuning parameters\n",
      "Fitting 10 folds for each of 216 candidates, totalling 2160 fits\n",
      "\n",
      " Done!\n",
      "\n",
      " Best estimator:\n",
      "XGBClassifier(base_score=0.5, booster='gbtree', callbacks=None,\n",
      "              colsample_bylevel=1, colsample_bynode=1, colsample_bytree=1,\n",
      "              early_stopping_rounds=None, enable_categorical=False,\n",
      "              eval_metric=None, gamma=0, gpu_id=-1, grow_policy='depthwise',\n",
      "              importance_type=None, interaction_constraints='',\n",
      "              learning_rate=0.1, max_bin=256, max_cat_to_onehot=4,\n",
      "              max_delta_step=0, max_depth=2, max_leaves=0, min_child_weight=1,\n",
      "              missing=nan, monotone_constraints='()', n_estimators=100,\n",
      "              n_jobs=0, num_parallel_tree=1, predictor='auto', random_state=0,\n",
      "              reg_alpha=0, reg_lambda=1, ...)\n",
      "\n",
      "  best_score_:\n",
      "1.0\n",
      "\n",
      " Best parameters:\n",
      "{'learning_rate': 0.1, 'max_depth': 2, 'n_estimators': 100}\n",
      "\n",
      " Feature importance:\n",
      "       Variable  Importance\n",
      "2   quartile_25    0.711571\n",
      "10           ff    0.073444\n",
      "4           Max    0.048499\n",
      "5           Min    0.043772\n",
      "7           std    0.041469\n",
      "3   quartile_75    0.028192\n",
      "11          clf    0.026714\n",
      "12           cf    0.026339\n",
      "0          mean    0.000000\n",
      "1        median    0.000000\n",
      "6      quartile    0.000000\n",
      "8           rms    0.000000\n",
      "9           sra    0.000000\n",
      "13     kurtosis    0.000000\n",
      "14         skew    0.000000\n",
      "\n",
      " Classification report on unseen test set:\n",
      "\n",
      " accuracy:0.9285714285714286, f1: 0.9251336898395721\n",
      "I am here\n"
     ]
    }
   ],
   "source": [
    "train, test, model, eval_df  = Classification_pipe_all (split_eval_list,  cav_files, No_cav_files, 0.3 , evaluation = \"accuracy\" , split_eval =True) #grid, splits eval training"
   ],
   "metadata": {
    "collapsed": false,
    "pycharm": {
     "name": "#%%\n"
    }
   }
  },
  {
   "cell_type": "code",
   "execution_count": 285,
   "outputs": [
    {
     "data": {
      "text/plain": "   Splits_in_sec  Sample_size        f1  accuracy\n0            0.1          400  1.000000  1.000000\n1            0.2          200  1.000000  1.000000\n2            0.3          134  0.975610  0.975610\n3            0.4          100  1.000000  1.000000\n4            0.5           80  1.000000  1.000000\n5            0.6           68  0.951945  0.952381\n6            0.7           58  1.000000  1.000000\n7            0.8           50  1.000000  1.000000\n8            0.9           46  0.925134  0.928571",
      "text/html": "<div>\n<style scoped>\n    .dataframe tbody tr th:only-of-type {\n        vertical-align: middle;\n    }\n\n    .dataframe tbody tr th {\n        vertical-align: top;\n    }\n\n    .dataframe thead th {\n        text-align: right;\n    }\n</style>\n<table border=\"1\" class=\"dataframe\">\n  <thead>\n    <tr style=\"text-align: right;\">\n      <th></th>\n      <th>Splits_in_sec</th>\n      <th>Sample_size</th>\n      <th>f1</th>\n      <th>accuracy</th>\n    </tr>\n  </thead>\n  <tbody>\n    <tr>\n      <th>0</th>\n      <td>0.1</td>\n      <td>400</td>\n      <td>1.000000</td>\n      <td>1.000000</td>\n    </tr>\n    <tr>\n      <th>1</th>\n      <td>0.2</td>\n      <td>200</td>\n      <td>1.000000</td>\n      <td>1.000000</td>\n    </tr>\n    <tr>\n      <th>2</th>\n      <td>0.3</td>\n      <td>134</td>\n      <td>0.975610</td>\n      <td>0.975610</td>\n    </tr>\n    <tr>\n      <th>3</th>\n      <td>0.4</td>\n      <td>100</td>\n      <td>1.000000</td>\n      <td>1.000000</td>\n    </tr>\n    <tr>\n      <th>4</th>\n      <td>0.5</td>\n      <td>80</td>\n      <td>1.000000</td>\n      <td>1.000000</td>\n    </tr>\n    <tr>\n      <th>5</th>\n      <td>0.6</td>\n      <td>68</td>\n      <td>0.951945</td>\n      <td>0.952381</td>\n    </tr>\n    <tr>\n      <th>6</th>\n      <td>0.7</td>\n      <td>58</td>\n      <td>1.000000</td>\n      <td>1.000000</td>\n    </tr>\n    <tr>\n      <th>7</th>\n      <td>0.8</td>\n      <td>50</td>\n      <td>1.000000</td>\n      <td>1.000000</td>\n    </tr>\n    <tr>\n      <th>8</th>\n      <td>0.9</td>\n      <td>46</td>\n      <td>0.925134</td>\n      <td>0.928571</td>\n    </tr>\n  </tbody>\n</table>\n</div>"
     },
     "execution_count": 285,
     "metadata": {},
     "output_type": "execute_result"
    }
   ],
   "source": [
    "eval_df"
   ],
   "metadata": {
    "collapsed": false,
    "pycharm": {
     "name": "#%%\n"
    }
   }
  },
  {
   "cell_type": "code",
   "execution_count": null,
   "outputs": [],
   "source": [],
   "metadata": {
    "collapsed": false,
    "pycharm": {
     "name": "#%%\n"
    }
   }
  }
 ],
 "metadata": {
  "kernelspec": {
   "display_name": "Python 3",
   "language": "python",
   "name": "python3"
  },
  "language_info": {
   "codemirror_mode": {
    "name": "ipython",
    "version": 2
   },
   "file_extension": ".py",
   "mimetype": "text/x-python",
   "name": "python",
   "nbconvert_exporter": "python",
   "pygments_lexer": "ipython2",
   "version": "2.7.6"
  }
 },
 "nbformat": 4,
 "nbformat_minor": 0
}