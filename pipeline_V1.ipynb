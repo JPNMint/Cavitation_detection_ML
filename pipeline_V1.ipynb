{
 "cells": [
  {
   "cell_type": "markdown",
   "source": [
    "### Read data (wav)\n",
    "First read in high cavitation files."
   ],
   "metadata": {
    "collapsed": false,
    "pycharm": {
     "name": "#%% md\n"
    }
   }
  },
  {
   "cell_type": "code",
   "execution_count": 2,
   "outputs": [],
   "source": [
    "def read_wav(dataset_names):\n",
    "    samplerate = []\n",
    "    df = []\n",
    "    for data in dataset_names:\n",
    "        path =  Path.cwd()/\"data\"\n",
    "        sf, d = wavfile.read(path/data)\n",
    "        samplerate.append(sf)\n",
    "        df.append(d)\n",
    "    return samplerate , df"
   ],
   "metadata": {
    "collapsed": false,
    "pycharm": {
     "name": "#%%\n"
    }
   }
  },
  {
   "cell_type": "code",
   "execution_count": 3,
   "outputs": [
    {
     "name": "stderr",
     "output_type": "stream",
     "text": [
      "C:\\Users\\kinos\\AppData\\Local\\Temp\\ipykernel_2416\\3207606025.py:6: WavFileWarning: Chunk (non-data) not understood, skipping it.\n",
      "  sf, d = wavfile.read(path/data)\n"
     ]
    }
   ],
   "source": [
    "datasets = [\"s00000_191115_007_KesselpumpHD02_002_RP1_FC_01_P06_SB1_L0_KS_XXXX_YY_YYYY_ZZZZZZ_16.wav\"]\n",
    "#,\"sxmany_200206_007_HKMNetzpumpe04_004_RP1_FC_01_C06_SB1_L0_XX_XXXX_YY_YYYY_ZZZZZZ_10.wav\"\n",
    "sr, df = read_wav(datasets)"
   ],
   "metadata": {
    "collapsed": false,
    "pycharm": {
     "name": "#%%\n"
    }
   }
  },
  {
   "cell_type": "markdown",
   "source": [
    "## Splitting\n",
    "\n",
    "Splitting the data in 2 second samples"
   ],
   "metadata": {
    "collapsed": false
   }
  },
  {
   "cell_type": "code",
   "execution_count": 4,
   "outputs": [],
   "source": [
    "\n",
    "def splitting (sr, df, sec):\n",
    "    seg_len = sr * sec\n",
    "\n",
    "    #split_list = []\n",
    "    splits = []\n",
    "    for data in df:\n",
    "        sections = int(np.ceil(len(data) / seg_len))\n",
    "\n",
    "        for i in range(sections):\n",
    "            t = data[i * seg_len: (i + 1) * seg_len]\n",
    "            splits.append(t)\n",
    "        #split_list.append(splits)\n",
    "\n",
    "    return splits"
   ],
   "metadata": {
    "collapsed": false,
    "pycharm": {
     "name": "#%%\n"
    }
   }
  },
  {
   "cell_type": "code",
   "execution_count": 5,
   "outputs": [],
   "source": [
    "df_split = splitting(sr[0],df, 3)\n"
   ],
   "metadata": {
    "collapsed": false,
    "pycharm": {
     "name": "#%%\n"
    }
   }
  },
  {
   "cell_type": "markdown",
   "source": [
    "## Fourier Transformation\n",
    "\n",
    "Transform data into frequency domain."
   ],
   "metadata": {
    "collapsed": false
   }
  },
  {
   "cell_type": "code",
   "execution_count": 6,
   "outputs": [],
   "source": [
    "from scipy.fftpack import fft, ifft\n",
    "\n",
    "def fourier_trans(sr, data):\n",
    "    df_ftt = []\n",
    "    freq = []\n",
    "    for i in data:\n",
    "\n",
    "        length = i.shape[0] / sr\n",
    "        N = i.shape[0]\n",
    "        n = np.arange(N)\n",
    "        freq.append(n/length)\n",
    "        df_ftt.append(fft(i))\n",
    "\n",
    "    return freq, df_ftt"
   ],
   "metadata": {
    "collapsed": false,
    "pycharm": {
     "name": "#%%\n"
    }
   }
  },
  {
   "cell_type": "code",
   "execution_count": 7,
   "outputs": [],
   "source": [
    "freq, df_ftt = fourier_trans(sr[0],df_split)"
   ],
   "metadata": {
    "collapsed": false,
    "pycharm": {
     "name": "#%%\n"
    }
   }
  },
  {
   "cell_type": "code",
   "execution_count": 8,
   "outputs": [
    {
     "data": {
      "text/plain": "<Figure size 1200x600 with 1 Axes>",
      "image/png": "[encoded data removed]"
     },
     "metadata": {},
     "output_type": "display_data"
    }
   ],
   "source": [
    "    plt.figure(figsize = (12, 6))\n",
    "    plt.subplot(121)\n",
    "\n",
    "\n",
    "    plt.stem(freq[1], np.abs(df_ftt[1]), 'b', \\\n",
    "             markerfmt=\" \", basefmt=\"-b\")\n",
    "    plt.xlabel('Freq (Hz)')\n",
    "    plt.ylabel('FFT Amplitude |X(freq)|')\n",
    "\n",
    "    plt.show()"
   ],
   "metadata": {
    "collapsed": false,
    "pycharm": {
     "name": "#%%\n"
    }
   }
  },
  {
   "cell_type": "markdown",
   "source": [
    "## Feature extraction and labels\n",
    "\n",
    "Extract statistical features and add a label."
   ],
   "metadata": {
    "collapsed": false
   }
  },
  {
   "cell_type": "code",
   "execution_count": 9,
   "outputs": [],
   "source": [
    "import os\n",
    "import scipy.io as scio\n",
    "from scipy.stats import norm, kurtosis, skew\n",
    "import pandas as pd\n",
    "import math\n",
    "import csv\n",
    "'''\n",
    "1. Central Trend Statistics:\n",
    "   --- mean\n",
    "   --- median\n",
    "   --- low quartile\n",
    "   --- upper quartile\n",
    "2. Dispersion Degree Statistics:\n",
    "   --- minimum\n",
    "   --- maximum\n",
    "   --- inter quartile range\n",
    "   --- standard deviation\n",
    "   --- root mean square\n",
    "   --- square root amplitude\n",
    "3. Distribution Shape Statistics\n",
    "   --- kurtosis\n",
    "   --- skewness\n",
    "   --- shape factor\n",
    "   --- clearance shape\n",
    "   --- crest factor\n",
    "'''\n",
    "\n",
    "\n",
    "def feature_extraction(df, label):\n",
    "    column_name = [\"mean\", \"median\", \"quartile_25\", \"quartile_75\", \"Max\", \"Min\", \"quartile\", \"std\", \"rms\", \"sra\", \"kurtosis\", \"skew\", \"ff\", \"clf\", \"cf\", \"Cavitation\"]\n",
    "\n",
    "    df_features = pd.DataFrame(columns = column_name) #\n",
    "    for data in df:\n",
    "        feature_list = []\n",
    "\n",
    "           # central trend statistics\n",
    "        data_mean = np.mean(data)\n",
    "        data_median = np.median(data)\n",
    "        data_quartile_025 = np.quantile(data, 0.25)\n",
    "        data_quartile_075 = np.quantile(data, 0.75)\n",
    "\n",
    "           # dispersion degree statistics\n",
    "        data_Minimum = np.min(data)\n",
    "        data_Maximum = np.max(data)\n",
    "        data_quartile = data_quartile_075 - data_quartile_025\n",
    "        data_std = np.std(data)\n",
    "        data_rms = np.sqrt((np.mean(data**2)))\n",
    "        data_sra = (np.sum(np.sqrt(np.abs(data)))/len(data))**2\n",
    "\n",
    "           # distribution shape statistics\n",
    "        data_kurtosis = kurtosis(data)\n",
    "        data_skew = skew(data)\n",
    "\n",
    "        data_avg = np.mean(np.abs(data))\n",
    "        data_ff = data_rms / data_avg\n",
    "\n",
    "        data_clf = np.max(np.abs(data)) / data_sra\n",
    "        data_cf = np.max(np.abs(data)) / data_rms\n",
    "\n",
    "        feature_list = [data_mean, data_median, data_quartile_025, data_quartile_075, data_Maximum, data_Minimum, data_quartile, data_std, data_rms, data_sra, data_kurtosis, data_skew, data_ff, data_clf, data_cf, label]\n",
    "        feature_list = pd.DataFrame(data=feature_list).T #,\n",
    "        feature_list.columns = column_name\n",
    "\n",
    "        df_features = pd.concat([df_features,feature_list])\n",
    "\n",
    "    return df_features\n",
    "\n",
    "\n",
    "\n",
    "\n",
    "\n",
    "\n",
    "\n",
    "\n",
    "\n"
   ],
   "metadata": {
    "collapsed": false,
    "pycharm": {
     "name": "#%%\n"
    }
   }
  },
  {
   "cell_type": "code",
   "execution_count": 10,
   "outputs": [],
   "source": [
    "h_c_df = feature_extraction(df_ftt, \"High_cavitation\")"
   ],
   "metadata": {
    "collapsed": false,
    "pycharm": {
     "name": "#%%\n"
    }
   }
  },
  {
   "cell_type": "code",
   "execution_count": 11,
   "outputs": [
    {
     "data": {
      "text/plain": "                          mean                  median  \\\n0    (132.99956-0.0014026692j)  (-8402.701+2022.0864j)   \n0        (7773+4.2317708e-05j)   (9234.221+2076.7935j)   \n0  (-3872.9993+0.00017871094j)         (-1392.1553+0j)   \n0       (-6543-1.8229166e-05j)         (-7365.1035+0j)   \n0    (3593.9998+0.0006686198j)          (6415.8555+0j)   \n0   (-5400.001-0.00049153646j)         (-6235.2344+0j)   \n0    (5450.999+0.00037792968j)           (7383.117+0j)   \n\n                         quartile_25                      quartile_75  \\\n0          (-331655.6875-709734.25j)    (324030.5859375-92091.46875j)   \n0        (-337361.15625-1879961.75j)    (349140.2734375-5015.015625j)   \n0    (-358001.203125-319601.484375j)       (359122.953125+64002.375j)   \n0      (-363152.8046875+55845.8125j)     (357423.125-121367.9140625j)   \n0      (-357414.7890625-978920.125j)     (362113.5078125+16311.5625j)   \n0  (-366996.7265625-273471.5703125j)   (358989.0390625+281348.03125j)   \n0    (-281924.9296875-761292.15625j)  (292544.578125+156431.4765625j)   \n\n                     Max                     Min  \\\n0   (29593094+10988780j)  (-31842952-402221.56j)   \n0   (39313530+10657516j)  (-43164050-2777041.5j)   \n0   (52536470+25293664j)   (-39421984-919539.9j)   \n0  (38962210+7579948.5j)    (-43524230-3949310j)   \n0   (45365852+13460658j)  (-43049616-1993960.8j)   \n0   (46404484+17311270j)    (-44301696-9937717j)   \n0  (28607680+5291485.5j)  (-38160490-1154218.6j)   \n\n                           quartile         std                        rms  \\\n0    (655686.2734375+617642.78125j)  3347851.25  (178311.27+0.0031129385j)   \n0  (686501.4296875+1874946.734375j)  3600572.75     (63768.7-0.059337784j)   \n0     (717124.15625+383603.859375j)   3896459.5    (97768.88+0.017005028j)   \n0  (720575.9296875-177213.7265625j)  3881907.75   (0.009448715+197390.66j)   \n0      (719528.296875+995231.6875j)  3853040.75   (0.033212177-119697.14j)   \n0   (725985.765625+554819.6015625j)  3878199.75   (293643.66+0.010175198j)   \n0  (574469.5078125+917723.6328125j)  3004322.25  (172298.03+0.0055954903j)   \n\n              sra                                   kurtosis  \\\n0    983584.26115   (7040.52169551915-0.003528467653576564j)   \n0  1035275.894806    (3272236.705223027-2.6256279806752683j)   \n0  1071007.488543  (-353953.6586428361-0.14337254976106495j)   \n0  1075550.828352                                        NaN   \n0  1084553.186421                                        NaN   \n0   1084085.98683  (-4774.07215991948+0.000716724161604341j)   \n0   854718.277845   (3098.233102540008-0.00456102613055287j)   \n\n                                          skew                            ff  \\\n0   (-82.66925144443127+8.26214124553411e-06j)   (0.10342599+1.8055996e-09j)   \n0    (4103.089095024171-0.002589204920695049j)  (0.035048608-3.2613286e-08j)   \n0   (3996.1183364783674+0.001430019774330518j)    (0.05067854+8.814563e-09j)   \n0                                          NaN  (4.9056252e-09+0.102482155j)   \n0                                          NaN  (1.7263796e-08-0.062218953j)   \n0  (-13.942465590866313-7.55732272775895e-07j)    (0.1518445+5.2616422e-09j)   \n0  (-61.45822969493291+6.942567972231796e-06j)  (0.113651164+3.6908951e-09j)   \n\n         clf                          cf       Cavitation  \n0  38.850296  (214.30244-3.7412685e-06j)  High_cavitation  \n0  41.779479      (678.284+0.000631154j)  High_cavitation  \n0  54.442417   (596.3885-0.00010373038j)  High_cavitation  \n0  48.104516  (1.2546897e-05-262.11398j)  High_cavitation  \n0  43.631527    (0.00010969354+395.337j)  High_cavitation  \n0  45.686723  (168.66815-5.8446076e-06j)  High_cavitation  \n0  44.667279  (221.58083-7.1959803e-06j)  High_cavitation  ",
      "text/html": "<div>\n<style scoped>\n    .dataframe tbody tr th:only-of-type {\n        vertical-align: middle;\n    }\n\n    .dataframe tbody tr th {\n        vertical-align: top;\n    }\n\n    .dataframe thead th {\n        text-align: right;\n    }\n</style>\n<table border=\"1\" class=\"dataframe\">\n  <thead>\n    <tr style=\"text-align: right;\">\n      <th></th>\n      <th>mean</th>\n      <th>median</th>\n      <th>quartile_25</th>\n      <th>quartile_75</th>\n      <th>Max</th>\n      <th>Min</th>\n      <th>quartile</th>\n      <th>std</th>\n      <th>rms</th>\n      <th>sra</th>\n      <th>kurtosis</th>\n      <th>skew</th>\n      <th>ff</th>\n      <th>clf</th>\n      <th>cf</th>\n      <th>Cavitation</th>\n    </tr>\n  </thead>\n  <tbody>\n    <tr>\n      <th>0</th>\n      <td>(132.99956-0.0014026692j)</td>\n      <td>(-8402.701+2022.0864j)</td>\n      <td>(-331655.6875-709734.25j)</td>\n      <td>(324030.5859375-92091.46875j)</td>\n      <td>(29593094+10988780j)</td>\n      <td>(-31842952-402221.56j)</td>\n      <td>(655686.2734375+617642.78125j)</td>\n      <td>3347851.25</td>\n      <td>(178311.27+0.0031129385j)</td>\n      <td>983584.26115</td>\n      <td>(7040.52169551915-0.003528467653576564j)</td>\n      <td>(-82.66925144443127+8.26214124553411e-06j)</td>\n      <td>(0.10342599+1.8055996e-09j)</td>\n      <td>38.850296</td>\n      <td>(214.30244-3.7412685e-06j)</td>\n      <td>High_cavitation</td>\n    </tr>\n    <tr>\n      <th>0</th>\n      <td>(7773+4.2317708e-05j)</td>\n      <td>(9234.221+2076.7935j)</td>\n      <td>(-337361.15625-1879961.75j)</td>\n      <td>(349140.2734375-5015.015625j)</td>\n      <td>(39313530+10657516j)</td>\n      <td>(-43164050-2777041.5j)</td>\n      <td>(686501.4296875+1874946.734375j)</td>\n      <td>3600572.75</td>\n      <td>(63768.7-0.059337784j)</td>\n      <td>1035275.894806</td>\n      <td>(3272236.705223027-2.6256279806752683j)</td>\n      <td>(4103.089095024171-0.002589204920695049j)</td>\n      <td>(0.035048608-3.2613286e-08j)</td>\n      <td>41.779479</td>\n      <td>(678.284+0.000631154j)</td>\n      <td>High_cavitation</td>\n    </tr>\n    <tr>\n      <th>0</th>\n      <td>(-3872.9993+0.00017871094j)</td>\n      <td>(-1392.1553+0j)</td>\n      <td>(-358001.203125-319601.484375j)</td>\n      <td>(359122.953125+64002.375j)</td>\n      <td>(52536470+25293664j)</td>\n      <td>(-39421984-919539.9j)</td>\n      <td>(717124.15625+383603.859375j)</td>\n      <td>3896459.5</td>\n      <td>(97768.88+0.017005028j)</td>\n      <td>1071007.488543</td>\n      <td>(-353953.6586428361-0.14337254976106495j)</td>\n      <td>(3996.1183364783674+0.001430019774330518j)</td>\n      <td>(0.05067854+8.814563e-09j)</td>\n      <td>54.442417</td>\n      <td>(596.3885-0.00010373038j)</td>\n      <td>High_cavitation</td>\n    </tr>\n    <tr>\n      <th>0</th>\n      <td>(-6543-1.8229166e-05j)</td>\n      <td>(-7365.1035+0j)</td>\n      <td>(-363152.8046875+55845.8125j)</td>\n      <td>(357423.125-121367.9140625j)</td>\n      <td>(38962210+7579948.5j)</td>\n      <td>(-43524230-3949310j)</td>\n      <td>(720575.9296875-177213.7265625j)</td>\n      <td>3881907.75</td>\n      <td>(0.009448715+197390.66j)</td>\n      <td>1075550.828352</td>\n      <td>NaN</td>\n      <td>NaN</td>\n      <td>(4.9056252e-09+0.102482155j)</td>\n      <td>48.104516</td>\n      <td>(1.2546897e-05-262.11398j)</td>\n      <td>High_cavitation</td>\n    </tr>\n    <tr>\n      <th>0</th>\n      <td>(3593.9998+0.0006686198j)</td>\n      <td>(6415.8555+0j)</td>\n      <td>(-357414.7890625-978920.125j)</td>\n      <td>(362113.5078125+16311.5625j)</td>\n      <td>(45365852+13460658j)</td>\n      <td>(-43049616-1993960.8j)</td>\n      <td>(719528.296875+995231.6875j)</td>\n      <td>3853040.75</td>\n      <td>(0.033212177-119697.14j)</td>\n      <td>1084553.186421</td>\n      <td>NaN</td>\n      <td>NaN</td>\n      <td>(1.7263796e-08-0.062218953j)</td>\n      <td>43.631527</td>\n      <td>(0.00010969354+395.337j)</td>\n      <td>High_cavitation</td>\n    </tr>\n    <tr>\n      <th>0</th>\n      <td>(-5400.001-0.00049153646j)</td>\n      <td>(-6235.2344+0j)</td>\n      <td>(-366996.7265625-273471.5703125j)</td>\n      <td>(358989.0390625+281348.03125j)</td>\n      <td>(46404484+17311270j)</td>\n      <td>(-44301696-9937717j)</td>\n      <td>(725985.765625+554819.6015625j)</td>\n      <td>3878199.75</td>\n      <td>(293643.66+0.010175198j)</td>\n      <td>1084085.98683</td>\n      <td>(-4774.07215991948+0.000716724161604341j)</td>\n      <td>(-13.942465590866313-7.55732272775895e-07j)</td>\n      <td>(0.1518445+5.2616422e-09j)</td>\n      <td>45.686723</td>\n      <td>(168.66815-5.8446076e-06j)</td>\n      <td>High_cavitation</td>\n    </tr>\n    <tr>\n      <th>0</th>\n      <td>(5450.999+0.00037792968j)</td>\n      <td>(7383.117+0j)</td>\n      <td>(-281924.9296875-761292.15625j)</td>\n      <td>(292544.578125+156431.4765625j)</td>\n      <td>(28607680+5291485.5j)</td>\n      <td>(-38160490-1154218.6j)</td>\n      <td>(574469.5078125+917723.6328125j)</td>\n      <td>3004322.25</td>\n      <td>(172298.03+0.0055954903j)</td>\n      <td>854718.277845</td>\n      <td>(3098.233102540008-0.00456102613055287j)</td>\n      <td>(-61.45822969493291+6.942567972231796e-06j)</td>\n      <td>(0.113651164+3.6908951e-09j)</td>\n      <td>44.667279</td>\n      <td>(221.58083-7.1959803e-06j)</td>\n      <td>High_cavitation</td>\n    </tr>\n  </tbody>\n</table>\n</div>"
     },
     "execution_count": 11,
     "metadata": {},
     "output_type": "execute_result"
    }
   ],
   "source": [
    "h_c_df"
   ],
   "metadata": {
    "collapsed": false,
    "pycharm": {
     "name": "#%%\n"
    }
   }
  },
  {
   "cell_type": "markdown",
   "source": [
    "## Same procedure for non-cavitation data."
   ],
   "metadata": {
    "collapsed": false
   }
  },
  {
   "cell_type": "markdown",
   "source": [
    "Load file"
   ],
   "metadata": {
    "collapsed": false
   }
  },
  {
   "cell_type": "code",
   "execution_count": 12,
   "outputs": [
    {
     "name": "stderr",
     "output_type": "stream",
     "text": [
      "C:\\Users\\kinos\\AppData\\Local\\Temp\\ipykernel_2416\\3207606025.py:6: WavFileWarning: Chunk (non-data) not understood, skipping it.\n",
      "  sf, d = wavfile.read(path/data)\n"
     ]
    }
   ],
   "source": [
    "datasets = [\"sxmany_200206_007_HKMNetzpumpe04_004_RP1_FC_01_C06_SB1_L0_XX_XXXX_YY_YYYY_ZZZZZZ_10.wav\"]\n",
    "\n",
    "sr, df = read_wav(datasets)"
   ],
   "metadata": {
    "collapsed": false,
    "pycharm": {
     "name": "#%%\n"
    }
   }
  },
  {
   "cell_type": "markdown",
   "source": [
    "### Split file"
   ],
   "metadata": {
    "collapsed": false
   }
  },
  {
   "cell_type": "code",
   "execution_count": 13,
   "outputs": [],
   "source": [
    "df_split = splitting(sr[0],df, 2)"
   ],
   "metadata": {
    "collapsed": false,
    "pycharm": {
     "name": "#%%\n"
    }
   }
  },
  {
   "cell_type": "markdown",
   "source": [
    "### Fourier transformation"
   ],
   "metadata": {
    "collapsed": false
   }
  },
  {
   "cell_type": "code",
   "execution_count": 14,
   "outputs": [],
   "source": [
    "freq, df_ftt = fourier_trans(sr[0],df_split)"
   ],
   "metadata": {
    "collapsed": false,
    "pycharm": {
     "name": "#%%\n"
    }
   }
  },
  {
   "cell_type": "markdown",
   "source": [
    "### Feature extraction and add labels"
   ],
   "metadata": {
    "collapsed": false
   }
  },
  {
   "cell_type": "code",
   "execution_count": 15,
   "outputs": [],
   "source": [
    "n_c_df = feature_extraction(df_ftt, \"No_cavitation\")"
   ],
   "metadata": {
    "collapsed": false,
    "pycharm": {
     "name": "#%%\n"
    }
   }
  },
  {
   "cell_type": "code",
   "execution_count": 16,
   "outputs": [
    {
     "data": {
      "text/plain": "                          mean                  median  \\\n0   (189.00003-2.6135445e-05j)           (285.6172+0j)   \n0   (338.99994+4.6318055e-05j)  (442.60645-1.6757812j)   \n0    (130.00005+5.081177e-06j)   (116.10547-872.4668j)   \n0  (-108.00001-1.1047363e-05j)          (-422.4375+0j)   \n0        (-486-0.00011196899j)   (778.2012+34.460938j)   \n0  (-243.00009+9.6466065e-05j)   (-893.90625+66.1416j)   \n0   (141.99995-6.6467284e-05j)  (265.41406-6783.5547j)   \n0   (-116.00003+3.366661e-05j)    (736.7539-78.39844j)   \n0  (-369.99988+0.00011157226j)          (-646.8076+0j)   \n0   (-294.0001-5.3009033e-05j)  (-497.06348-67.24902j)   \n\n                             quartile_25                         quartile_75  \\\n0  (-47249.1669921875-23157.3037109375j)   (47166.263671875+38939.90234375j)   \n0    (-50010.841796875-14338.849609375j)     (50798.1943359375+9380.140625j)   \n0     (-49651.80859375-6787.7763671875j)   (50475.595703125+18213.83203125j)   \n0       (-44462.8818359375+580.0703125j)      (44095.830078125-252996.4375j)   \n0     (-56428.169921875-23419.48828125j)     (54220.0791015625+78690.03125j)   \n0      (-54796.658203125-56730.4140625j)   (55363.0517578125-47339.5703125j)   \n0     (-52241.9091796875+83787.2734375j)  (51704.7509765625+21008.06640625j)   \n0         (-53944.6796875+177818.15625j)       (54024.5859375-7816.3984375j)   \n0        (-45643.9580078125-10078.8125j)  (44771.3173828125+8318.427734375j)   \n0   (-51091.9404296875-30785.869140625j)    (50301.43359375+10756.39453125j)   \n\n                      Max                      Min  \\\n0    (3911730+337614.38j)   (-3661461.8-932100.4j)   \n0    (3785041.2+2757947j)    (-3834865-231807.61j)   \n0   (3968321.2+418925.3j)     (-4272759-52666.78j)   \n0  (3280548.5+1183302.8j)    (-3466732-795154.94j)   \n0  (5136561.5+1732015.4j)    (-4814440-267194.88j)   \n0    (4646875+1764614.9j)    (-5107823-285694.97j)   \n0     (4342194+405774.7j)  (-4544057.5-20420.531j)   \n0   (4522007.5+468985.3j)  (-4376049.5-1115577.9j)   \n0  (4009059.2+256796.75j)    (-4061546.2-2280218j)   \n0    (4094237+1327381.8j)    (-4902808-1658628.6j)   \n\n                               quartile           std  \\\n0  (94415.4306640625+62097.2060546875j)  488590.65625   \n0  (100809.0361328125+23718.990234375j)    534752.375   \n0  (100127.404296875+25001.6083984375j)      538714.5   \n0    (88558.7119140625-253576.5078125j)   461055.5625   \n0  (110648.2490234375+102109.51953125j)     628457.75   \n0       (110159.7099609375+9390.84375j)    577104.875   \n0     (103946.66015625-62779.20703125j)   570660.9375   \n0       (107969.265625-185634.5546875j)    559219.875   \n0    (90415.275390625+18397.240234375j)  491752.65625   \n0  (101393.3740234375+41542.263671875j)   546348.4375   \n\n                          rms            sra  \\\n0   (0.00030337693-39125.55j)  173445.881346   \n0     (3735.513+0.045838665j)  186286.328881   \n0    (0.0059755296-8752.074j)  186719.025093   \n0    (0.003064022-15845.906j)   160745.26583   \n0   (31533.066-0.0011302315j)  214693.541053   \n0   (77137.24+0.00065681024j)  205354.467083   \n0    (0.003617974+19663.139j)  195369.663166   \n0     (0.0035841372+14613.5j)   196387.10185   \n0  (14337.999+0.00065394957j)  169149.798923   \n0    (0.002013737-26406.824j)  190932.976511   \n\n                                     kurtosis  \\\n0                                         NaN   \n0   (-13265830.836041898-1018.0839602872917j)   \n0                                         NaN   \n0                                         NaN   \n0   (3333.563235543394-0.003744596583035472j)   \n0  (574.1062690464822-5.298975392962457e-05j)   \n0                                         NaN   \n0                                         NaN   \n0   (24016.78919486427+0.018832068727827604j)   \n0                                         NaN   \n\n                                          skew                            ff  \\\n0                                          NaN    (1.0527966e-09-0.1357758j)   \n0    (-14022.696349644491-0.8073015925038299j)  (0.011945833+1.4658792e-07j)   \n0                                          NaN  (1.9044199e-08-0.027893135j)   \n0                                          NaN  (1.1415548e-08-0.059036687j)   \n0  (37.95726114999959-2.4709416967138243e-05j)     (0.0868481-3.112874e-09j)   \n0   (5.252818300098855-5.401803800617652e-07j)    (0.22813512+1.942531e-09j)   \n0                                          NaN  (1.0906645e-08+0.059275962j)   \n0                                          NaN   (1.0933798e-08+0.04458006j)   \n0  (194.42952299994462+0.0001700003238607502j)    (0.0502803+2.2932614e-09j)   \n0                                          NaN    (6.284291e-09-0.08240806j)   \n\n         clf                          cf     Cavitation  \n0  23.184109  (7.9692234e-07+102.77653j)  No_cavitation  \n0  25.140049   (1253.7094-0.0153843295j)  No_cavitation  \n0  23.373341  (0.00034045818+498.65292j)  No_cavitation  \n0  26.382631  (5.1750438e-05+267.63272j)  No_cavitation  \n0  25.248612    (171.9057+6.161572e-06j)  No_cavitation  \n0  24.912078    (66.32084-5.647104e-07j)  No_cavitation  \n0  23.721198   (4.336641e-05-235.68985j)  No_cavitation  \n0  23.149494   (7.630107e-05-311.10016j)  No_cavitation  \n0  28.887049   (340.78943-1.554325e-05j)  No_cavitation  \n0  27.107774  (1.4946697e-05+196.00114j)  No_cavitation  ",
      "text/html": "<div>\n<style scoped>\n    .dataframe tbody tr th:only-of-type {\n        vertical-align: middle;\n    }\n\n    .dataframe tbody tr th {\n        vertical-align: top;\n    }\n\n    .dataframe thead th {\n        text-align: right;\n    }\n</style>\n<table border=\"1\" class=\"dataframe\">\n  <thead>\n    <tr style=\"text-align: right;\">\n      <th></th>\n      <th>mean</th>\n      <th>median</th>\n      <th>quartile_25</th>\n      <th>quartile_75</th>\n      <th>Max</th>\n      <th>Min</th>\n      <th>quartile</th>\n      <th>std</th>\n      <th>rms</th>\n      <th>sra</th>\n      <th>kurtosis</th>\n      <th>skew</th>\n      <th>ff</th>\n      <th>clf</th>\n      <th>cf</th>\n      <th>Cavitation</th>\n    </tr>\n  </thead>\n  <tbody>\n    <tr>\n      <th>0</th>\n      <td>(189.00003-2.6135445e-05j)</td>\n      <td>(285.6172+0j)</td>\n      <td>(-47249.1669921875-23157.3037109375j)</td>\n      <td>(47166.263671875+38939.90234375j)</td>\n      <td>(3911730+337614.38j)</td>\n      <td>(-3661461.8-932100.4j)</td>\n      <td>(94415.4306640625+62097.2060546875j)</td>\n      <td>488590.65625</td>\n      <td>(0.00030337693-39125.55j)</td>\n      <td>173445.881346</td>\n      <td>NaN</td>\n      <td>NaN</td>\n      <td>(1.0527966e-09-0.1357758j)</td>\n      <td>23.184109</td>\n      <td>(7.9692234e-07+102.77653j)</td>\n      <td>No_cavitation</td>\n    </tr>\n    <tr>\n      <th>0</th>\n      <td>(338.99994+4.6318055e-05j)</td>\n      <td>(442.60645-1.6757812j)</td>\n      <td>(-50010.841796875-14338.849609375j)</td>\n      <td>(50798.1943359375+9380.140625j)</td>\n      <td>(3785041.2+2757947j)</td>\n      <td>(-3834865-231807.61j)</td>\n      <td>(100809.0361328125+23718.990234375j)</td>\n      <td>534752.375</td>\n      <td>(3735.513+0.045838665j)</td>\n      <td>186286.328881</td>\n      <td>(-13265830.836041898-1018.0839602872917j)</td>\n      <td>(-14022.696349644491-0.8073015925038299j)</td>\n      <td>(0.011945833+1.4658792e-07j)</td>\n      <td>25.140049</td>\n      <td>(1253.7094-0.0153843295j)</td>\n      <td>No_cavitation</td>\n    </tr>\n    <tr>\n      <th>0</th>\n      <td>(130.00005+5.081177e-06j)</td>\n      <td>(116.10547-872.4668j)</td>\n      <td>(-49651.80859375-6787.7763671875j)</td>\n      <td>(50475.595703125+18213.83203125j)</td>\n      <td>(3968321.2+418925.3j)</td>\n      <td>(-4272759-52666.78j)</td>\n      <td>(100127.404296875+25001.6083984375j)</td>\n      <td>538714.5</td>\n      <td>(0.0059755296-8752.074j)</td>\n      <td>186719.025093</td>\n      <td>NaN</td>\n      <td>NaN</td>\n      <td>(1.9044199e-08-0.027893135j)</td>\n      <td>23.373341</td>\n      <td>(0.00034045818+498.65292j)</td>\n      <td>No_cavitation</td>\n    </tr>\n    <tr>\n      <th>0</th>\n      <td>(-108.00001-1.1047363e-05j)</td>\n      <td>(-422.4375+0j)</td>\n      <td>(-44462.8818359375+580.0703125j)</td>\n      <td>(44095.830078125-252996.4375j)</td>\n      <td>(3280548.5+1183302.8j)</td>\n      <td>(-3466732-795154.94j)</td>\n      <td>(88558.7119140625-253576.5078125j)</td>\n      <td>461055.5625</td>\n      <td>(0.003064022-15845.906j)</td>\n      <td>160745.26583</td>\n      <td>NaN</td>\n      <td>NaN</td>\n      <td>(1.1415548e-08-0.059036687j)</td>\n      <td>26.382631</td>\n      <td>(5.1750438e-05+267.63272j)</td>\n      <td>No_cavitation</td>\n    </tr>\n    <tr>\n      <th>0</th>\n      <td>(-486-0.00011196899j)</td>\n      <td>(778.2012+34.460938j)</td>\n      <td>(-56428.169921875-23419.48828125j)</td>\n      <td>(54220.0791015625+78690.03125j)</td>\n      <td>(5136561.5+1732015.4j)</td>\n      <td>(-4814440-267194.88j)</td>\n      <td>(110648.2490234375+102109.51953125j)</td>\n      <td>628457.75</td>\n      <td>(31533.066-0.0011302315j)</td>\n      <td>214693.541053</td>\n      <td>(3333.563235543394-0.003744596583035472j)</td>\n      <td>(37.95726114999959-2.4709416967138243e-05j)</td>\n      <td>(0.0868481-3.112874e-09j)</td>\n      <td>25.248612</td>\n      <td>(171.9057+6.161572e-06j)</td>\n      <td>No_cavitation</td>\n    </tr>\n    <tr>\n      <th>0</th>\n      <td>(-243.00009+9.6466065e-05j)</td>\n      <td>(-893.90625+66.1416j)</td>\n      <td>(-54796.658203125-56730.4140625j)</td>\n      <td>(55363.0517578125-47339.5703125j)</td>\n      <td>(4646875+1764614.9j)</td>\n      <td>(-5107823-285694.97j)</td>\n      <td>(110159.7099609375+9390.84375j)</td>\n      <td>577104.875</td>\n      <td>(77137.24+0.00065681024j)</td>\n      <td>205354.467083</td>\n      <td>(574.1062690464822-5.298975392962457e-05j)</td>\n      <td>(5.252818300098855-5.401803800617652e-07j)</td>\n      <td>(0.22813512+1.942531e-09j)</td>\n      <td>24.912078</td>\n      <td>(66.32084-5.647104e-07j)</td>\n      <td>No_cavitation</td>\n    </tr>\n    <tr>\n      <th>0</th>\n      <td>(141.99995-6.6467284e-05j)</td>\n      <td>(265.41406-6783.5547j)</td>\n      <td>(-52241.9091796875+83787.2734375j)</td>\n      <td>(51704.7509765625+21008.06640625j)</td>\n      <td>(4342194+405774.7j)</td>\n      <td>(-4544057.5-20420.531j)</td>\n      <td>(103946.66015625-62779.20703125j)</td>\n      <td>570660.9375</td>\n      <td>(0.003617974+19663.139j)</td>\n      <td>195369.663166</td>\n      <td>NaN</td>\n      <td>NaN</td>\n      <td>(1.0906645e-08+0.059275962j)</td>\n      <td>23.721198</td>\n      <td>(4.336641e-05-235.68985j)</td>\n      <td>No_cavitation</td>\n    </tr>\n    <tr>\n      <th>0</th>\n      <td>(-116.00003+3.366661e-05j)</td>\n      <td>(736.7539-78.39844j)</td>\n      <td>(-53944.6796875+177818.15625j)</td>\n      <td>(54024.5859375-7816.3984375j)</td>\n      <td>(4522007.5+468985.3j)</td>\n      <td>(-4376049.5-1115577.9j)</td>\n      <td>(107969.265625-185634.5546875j)</td>\n      <td>559219.875</td>\n      <td>(0.0035841372+14613.5j)</td>\n      <td>196387.10185</td>\n      <td>NaN</td>\n      <td>NaN</td>\n      <td>(1.0933798e-08+0.04458006j)</td>\n      <td>23.149494</td>\n      <td>(7.630107e-05-311.10016j)</td>\n      <td>No_cavitation</td>\n    </tr>\n    <tr>\n      <th>0</th>\n      <td>(-369.99988+0.00011157226j)</td>\n      <td>(-646.8076+0j)</td>\n      <td>(-45643.9580078125-10078.8125j)</td>\n      <td>(44771.3173828125+8318.427734375j)</td>\n      <td>(4009059.2+256796.75j)</td>\n      <td>(-4061546.2-2280218j)</td>\n      <td>(90415.275390625+18397.240234375j)</td>\n      <td>491752.65625</td>\n      <td>(14337.999+0.00065394957j)</td>\n      <td>169149.798923</td>\n      <td>(24016.78919486427+0.018832068727827604j)</td>\n      <td>(194.42952299994462+0.0001700003238607502j)</td>\n      <td>(0.0502803+2.2932614e-09j)</td>\n      <td>28.887049</td>\n      <td>(340.78943-1.554325e-05j)</td>\n      <td>No_cavitation</td>\n    </tr>\n    <tr>\n      <th>0</th>\n      <td>(-294.0001-5.3009033e-05j)</td>\n      <td>(-497.06348-67.24902j)</td>\n      <td>(-51091.9404296875-30785.869140625j)</td>\n      <td>(50301.43359375+10756.39453125j)</td>\n      <td>(4094237+1327381.8j)</td>\n      <td>(-4902808-1658628.6j)</td>\n      <td>(101393.3740234375+41542.263671875j)</td>\n      <td>546348.4375</td>\n      <td>(0.002013737-26406.824j)</td>\n      <td>190932.976511</td>\n      <td>NaN</td>\n      <td>NaN</td>\n      <td>(6.284291e-09-0.08240806j)</td>\n      <td>27.107774</td>\n      <td>(1.4946697e-05+196.00114j)</td>\n      <td>No_cavitation</td>\n    </tr>\n  </tbody>\n</table>\n</div>"
     },
     "execution_count": 16,
     "metadata": {},
     "output_type": "execute_result"
    }
   ],
   "source": [
    "n_c_df"
   ],
   "metadata": {
    "collapsed": false,
    "pycharm": {
     "name": "#%%\n"
    }
   }
  },
  {
   "cell_type": "markdown",
   "source": [
    "### Combine both datasets"
   ],
   "metadata": {
    "collapsed": false
   }
  },
  {
   "cell_type": "code",
   "execution_count": 17,
   "outputs": [],
   "source": [
    "final_df = pd.concat([h_c_df, n_c_df])"
   ],
   "metadata": {
    "collapsed": false,
    "pycharm": {
     "name": "#%%\n"
    }
   }
  },
  {
   "cell_type": "code",
   "execution_count": 18,
   "outputs": [
    {
     "data": {
      "text/plain": "                          mean                  median  \\\n0    (132.99956-0.0014026692j)  (-8402.701+2022.0864j)   \n0        (7773+4.2317708e-05j)   (9234.221+2076.7935j)   \n0  (-3872.9993+0.00017871094j)         (-1392.1553+0j)   \n0       (-6543-1.8229166e-05j)         (-7365.1035+0j)   \n0    (3593.9998+0.0006686198j)          (6415.8555+0j)   \n0   (-5400.001-0.00049153646j)         (-6235.2344+0j)   \n0    (5450.999+0.00037792968j)           (7383.117+0j)   \n0   (189.00003-2.6135445e-05j)           (285.6172+0j)   \n0   (338.99994+4.6318055e-05j)  (442.60645-1.6757812j)   \n0    (130.00005+5.081177e-06j)   (116.10547-872.4668j)   \n0  (-108.00001-1.1047363e-05j)          (-422.4375+0j)   \n0        (-486-0.00011196899j)   (778.2012+34.460938j)   \n0  (-243.00009+9.6466065e-05j)   (-893.90625+66.1416j)   \n0   (141.99995-6.6467284e-05j)  (265.41406-6783.5547j)   \n0   (-116.00003+3.366661e-05j)    (736.7539-78.39844j)   \n0  (-369.99988+0.00011157226j)          (-646.8076+0j)   \n0   (-294.0001-5.3009033e-05j)  (-497.06348-67.24902j)   \n\n                             quartile_25                         quartile_75  \\\n0              (-331655.6875-709734.25j)       (324030.5859375-92091.46875j)   \n0            (-337361.15625-1879961.75j)       (349140.2734375-5015.015625j)   \n0        (-358001.203125-319601.484375j)          (359122.953125+64002.375j)   \n0          (-363152.8046875+55845.8125j)        (357423.125-121367.9140625j)   \n0          (-357414.7890625-978920.125j)        (362113.5078125+16311.5625j)   \n0      (-366996.7265625-273471.5703125j)      (358989.0390625+281348.03125j)   \n0        (-281924.9296875-761292.15625j)     (292544.578125+156431.4765625j)   \n0  (-47249.1669921875-23157.3037109375j)   (47166.263671875+38939.90234375j)   \n0    (-50010.841796875-14338.849609375j)     (50798.1943359375+9380.140625j)   \n0     (-49651.80859375-6787.7763671875j)   (50475.595703125+18213.83203125j)   \n0       (-44462.8818359375+580.0703125j)      (44095.830078125-252996.4375j)   \n0     (-56428.169921875-23419.48828125j)     (54220.0791015625+78690.03125j)   \n0      (-54796.658203125-56730.4140625j)   (55363.0517578125-47339.5703125j)   \n0     (-52241.9091796875+83787.2734375j)  (51704.7509765625+21008.06640625j)   \n0         (-53944.6796875+177818.15625j)       (54024.5859375-7816.3984375j)   \n0        (-45643.9580078125-10078.8125j)  (44771.3173828125+8318.427734375j)   \n0   (-51091.9404296875-30785.869140625j)    (50301.43359375+10756.39453125j)   \n\n                      Max                      Min  \\\n0    (29593094+10988780j)   (-31842952-402221.56j)   \n0    (39313530+10657516j)   (-43164050-2777041.5j)   \n0    (52536470+25293664j)    (-39421984-919539.9j)   \n0   (38962210+7579948.5j)     (-43524230-3949310j)   \n0    (45365852+13460658j)   (-43049616-1993960.8j)   \n0    (46404484+17311270j)     (-44301696-9937717j)   \n0   (28607680+5291485.5j)   (-38160490-1154218.6j)   \n0    (3911730+337614.38j)   (-3661461.8-932100.4j)   \n0    (3785041.2+2757947j)    (-3834865-231807.61j)   \n0   (3968321.2+418925.3j)     (-4272759-52666.78j)   \n0  (3280548.5+1183302.8j)    (-3466732-795154.94j)   \n0  (5136561.5+1732015.4j)    (-4814440-267194.88j)   \n0    (4646875+1764614.9j)    (-5107823-285694.97j)   \n0     (4342194+405774.7j)  (-4544057.5-20420.531j)   \n0   (4522007.5+468985.3j)  (-4376049.5-1115577.9j)   \n0  (4009059.2+256796.75j)    (-4061546.2-2280218j)   \n0    (4094237+1327381.8j)    (-4902808-1658628.6j)   \n\n                               quartile           std  \\\n0        (655686.2734375+617642.78125j)    3347851.25   \n0      (686501.4296875+1874946.734375j)    3600572.75   \n0         (717124.15625+383603.859375j)     3896459.5   \n0      (720575.9296875-177213.7265625j)    3881907.75   \n0          (719528.296875+995231.6875j)    3853040.75   \n0       (725985.765625+554819.6015625j)    3878199.75   \n0      (574469.5078125+917723.6328125j)    3004322.25   \n0  (94415.4306640625+62097.2060546875j)  488590.65625   \n0  (100809.0361328125+23718.990234375j)    534752.375   \n0  (100127.404296875+25001.6083984375j)      538714.5   \n0    (88558.7119140625-253576.5078125j)   461055.5625   \n0  (110648.2490234375+102109.51953125j)     628457.75   \n0       (110159.7099609375+9390.84375j)    577104.875   \n0     (103946.66015625-62779.20703125j)   570660.9375   \n0       (107969.265625-185634.5546875j)    559219.875   \n0    (90415.275390625+18397.240234375j)  491752.65625   \n0  (101393.3740234375+41542.263671875j)   546348.4375   \n\n                          rms             sra  \\\n0   (178311.27+0.0031129385j)    983584.26115   \n0      (63768.7-0.059337784j)  1035275.894806   \n0     (97768.88+0.017005028j)  1071007.488543   \n0    (0.009448715+197390.66j)  1075550.828352   \n0    (0.033212177-119697.14j)  1084553.186421   \n0    (293643.66+0.010175198j)   1084085.98683   \n0   (172298.03+0.0055954903j)   854718.277845   \n0   (0.00030337693-39125.55j)   173445.881346   \n0     (3735.513+0.045838665j)   186286.328881   \n0    (0.0059755296-8752.074j)   186719.025093   \n0    (0.003064022-15845.906j)    160745.26583   \n0   (31533.066-0.0011302315j)   214693.541053   \n0   (77137.24+0.00065681024j)   205354.467083   \n0    (0.003617974+19663.139j)   195369.663166   \n0     (0.0035841372+14613.5j)    196387.10185   \n0  (14337.999+0.00065394957j)   169149.798923   \n0    (0.002013737-26406.824j)   190932.976511   \n\n                                     kurtosis  \\\n0    (7040.52169551915-0.003528467653576564j)   \n0     (3272236.705223027-2.6256279806752683j)   \n0   (-353953.6586428361-0.14337254976106495j)   \n0                                         NaN   \n0                                         NaN   \n0   (-4774.07215991948+0.000716724161604341j)   \n0    (3098.233102540008-0.00456102613055287j)   \n0                                         NaN   \n0   (-13265830.836041898-1018.0839602872917j)   \n0                                         NaN   \n0                                         NaN   \n0   (3333.563235543394-0.003744596583035472j)   \n0  (574.1062690464822-5.298975392962457e-05j)   \n0                                         NaN   \n0                                         NaN   \n0   (24016.78919486427+0.018832068727827604j)   \n0                                         NaN   \n\n                                          skew                            ff  \\\n0   (-82.66925144443127+8.26214124553411e-06j)   (0.10342599+1.8055996e-09j)   \n0    (4103.089095024171-0.002589204920695049j)  (0.035048608-3.2613286e-08j)   \n0   (3996.1183364783674+0.001430019774330518j)    (0.05067854+8.814563e-09j)   \n0                                          NaN  (4.9056252e-09+0.102482155j)   \n0                                          NaN  (1.7263796e-08-0.062218953j)   \n0  (-13.942465590866313-7.55732272775895e-07j)    (0.1518445+5.2616422e-09j)   \n0  (-61.45822969493291+6.942567972231796e-06j)  (0.113651164+3.6908951e-09j)   \n0                                          NaN    (1.0527966e-09-0.1357758j)   \n0    (-14022.696349644491-0.8073015925038299j)  (0.011945833+1.4658792e-07j)   \n0                                          NaN  (1.9044199e-08-0.027893135j)   \n0                                          NaN  (1.1415548e-08-0.059036687j)   \n0  (37.95726114999959-2.4709416967138243e-05j)     (0.0868481-3.112874e-09j)   \n0   (5.252818300098855-5.401803800617652e-07j)    (0.22813512+1.942531e-09j)   \n0                                          NaN  (1.0906645e-08+0.059275962j)   \n0                                          NaN   (1.0933798e-08+0.04458006j)   \n0  (194.42952299994462+0.0001700003238607502j)    (0.0502803+2.2932614e-09j)   \n0                                          NaN    (6.284291e-09-0.08240806j)   \n\n         clf                          cf       Cavitation  \n0  38.850296  (214.30244-3.7412685e-06j)  High_cavitation  \n0  41.779479      (678.284+0.000631154j)  High_cavitation  \n0  54.442417   (596.3885-0.00010373038j)  High_cavitation  \n0  48.104516  (1.2546897e-05-262.11398j)  High_cavitation  \n0  43.631527    (0.00010969354+395.337j)  High_cavitation  \n0  45.686723  (168.66815-5.8446076e-06j)  High_cavitation  \n0  44.667279  (221.58083-7.1959803e-06j)  High_cavitation  \n0  23.184109  (7.9692234e-07+102.77653j)    No_cavitation  \n0  25.140049   (1253.7094-0.0153843295j)    No_cavitation  \n0  23.373341  (0.00034045818+498.65292j)    No_cavitation  \n0  26.382631  (5.1750438e-05+267.63272j)    No_cavitation  \n0  25.248612    (171.9057+6.161572e-06j)    No_cavitation  \n0  24.912078    (66.32084-5.647104e-07j)    No_cavitation  \n0  23.721198   (4.336641e-05-235.68985j)    No_cavitation  \n0  23.149494   (7.630107e-05-311.10016j)    No_cavitation  \n0  28.887049   (340.78943-1.554325e-05j)    No_cavitation  \n0  27.107774  (1.4946697e-05+196.00114j)    No_cavitation  ",
      "text/html": "<div>\n<style scoped>\n    .dataframe tbody tr th:only-of-type {\n        vertical-align: middle;\n    }\n\n    .dataframe tbody tr th {\n        vertical-align: top;\n    }\n\n    .dataframe thead th {\n        text-align: right;\n    }\n</style>\n<table border=\"1\" class=\"dataframe\">\n  <thead>\n    <tr style=\"text-align: right;\">\n      <th></th>\n      <th>mean</th>\n      <th>median</th>\n      <th>quartile_25</th>\n      <th>quartile_75</th>\n      <th>Max</th>\n      <th>Min</th>\n      <th>quartile</th>\n      <th>std</th>\n      <th>rms</th>\n      <th>sra</th>\n      <th>kurtosis</th>\n      <th>skew</th>\n      <th>ff</th>\n      <th>clf</th>\n      <th>cf</th>\n      <th>Cavitation</th>\n    </tr>\n  </thead>\n  <tbody>\n    <tr>\n      <th>0</th>\n      <td>(132.99956-0.0014026692j)</td>\n      <td>(-8402.701+2022.0864j)</td>\n      <td>(-331655.6875-709734.25j)</td>\n      <td>(324030.5859375-92091.46875j)</td>\n      <td>(29593094+10988780j)</td>\n      <td>(-31842952-402221.56j)</td>\n      <td>(655686.2734375+617642.78125j)</td>\n      <td>3347851.25</td>\n      <td>(178311.27+0.0031129385j)</td>\n      <td>983584.26115</td>\n      <td>(7040.52169551915-0.003528467653576564j)</td>\n      <td>(-82.66925144443127+8.26214124553411e-06j)</td>\n      <td>(0.10342599+1.8055996e-09j)</td>\n      <td>38.850296</td>\n      <td>(214.30244-3.7412685e-06j)</td>\n      <td>High_cavitation</td>\n    </tr>\n    <tr>\n      <th>0</th>\n      <td>(7773+4.2317708e-05j)</td>\n      <td>(9234.221+2076.7935j)</td>\n      <td>(-337361.15625-1879961.75j)</td>\n      <td>(349140.2734375-5015.015625j)</td>\n      <td>(39313530+10657516j)</td>\n      <td>(-43164050-2777041.5j)</td>\n      <td>(686501.4296875+1874946.734375j)</td>\n      <td>3600572.75</td>\n      <td>(63768.7-0.059337784j)</td>\n      <td>1035275.894806</td>\n      <td>(3272236.705223027-2.6256279806752683j)</td>\n      <td>(4103.089095024171-0.002589204920695049j)</td>\n      <td>(0.035048608-3.2613286e-08j)</td>\n      <td>41.779479</td>\n      <td>(678.284+0.000631154j)</td>\n      <td>High_cavitation</td>\n    </tr>\n    <tr>\n      <th>0</th>\n      <td>(-3872.9993+0.00017871094j)</td>\n      <td>(-1392.1553+0j)</td>\n      <td>(-358001.203125-319601.484375j)</td>\n      <td>(359122.953125+64002.375j)</td>\n      <td>(52536470+25293664j)</td>\n      <td>(-39421984-919539.9j)</td>\n      <td>(717124.15625+383603.859375j)</td>\n      <td>3896459.5</td>\n      <td>(97768.88+0.017005028j)</td>\n      <td>1071007.488543</td>\n      <td>(-353953.6586428361-0.14337254976106495j)</td>\n      <td>(3996.1183364783674+0.001430019774330518j)</td>\n      <td>(0.05067854+8.814563e-09j)</td>\n      <td>54.442417</td>\n      <td>(596.3885-0.00010373038j)</td>\n      <td>High_cavitation</td>\n    </tr>\n    <tr>\n      <th>0</th>\n      <td>(-6543-1.8229166e-05j)</td>\n      <td>(-7365.1035+0j)</td>\n      <td>(-363152.8046875+55845.8125j)</td>\n      <td>(357423.125-121367.9140625j)</td>\n      <td>(38962210+7579948.5j)</td>\n      <td>(-43524230-3949310j)</td>\n      <td>(720575.9296875-177213.7265625j)</td>\n      <td>3881907.75</td>\n      <td>(0.009448715+197390.66j)</td>\n      <td>1075550.828352</td>\n      <td>NaN</td>\n      <td>NaN</td>\n      <td>(4.9056252e-09+0.102482155j)</td>\n      <td>48.104516</td>\n      <td>(1.2546897e-05-262.11398j)</td>\n      <td>High_cavitation</td>\n    </tr>\n    <tr>\n      <th>0</th>\n      <td>(3593.9998+0.0006686198j)</td>\n      <td>(6415.8555+0j)</td>\n      <td>(-357414.7890625-978920.125j)</td>\n      <td>(362113.5078125+16311.5625j)</td>\n      <td>(45365852+13460658j)</td>\n      <td>(-43049616-1993960.8j)</td>\n      <td>(719528.296875+995231.6875j)</td>\n      <td>3853040.75</td>\n      <td>(0.033212177-119697.14j)</td>\n      <td>1084553.186421</td>\n      <td>NaN</td>\n      <td>NaN</td>\n      <td>(1.7263796e-08-0.062218953j)</td>\n      <td>43.631527</td>\n      <td>(0.00010969354+395.337j)</td>\n      <td>High_cavitation</td>\n    </tr>\n    <tr>\n      <th>0</th>\n      <td>(-5400.001-0.00049153646j)</td>\n      <td>(-6235.2344+0j)</td>\n      <td>(-366996.7265625-273471.5703125j)</td>\n      <td>(358989.0390625+281348.03125j)</td>\n      <td>(46404484+17311270j)</td>\n      <td>(-44301696-9937717j)</td>\n      <td>(725985.765625+554819.6015625j)</td>\n      <td>3878199.75</td>\n      <td>(293643.66+0.010175198j)</td>\n      <td>1084085.98683</td>\n      <td>(-4774.07215991948+0.000716724161604341j)</td>\n      <td>(-13.942465590866313-7.55732272775895e-07j)</td>\n      <td>(0.1518445+5.2616422e-09j)</td>\n      <td>45.686723</td>\n      <td>(168.66815-5.8446076e-06j)</td>\n      <td>High_cavitation</td>\n    </tr>\n    <tr>\n      <th>0</th>\n      <td>(5450.999+0.00037792968j)</td>\n      <td>(7383.117+0j)</td>\n      <td>(-281924.9296875-761292.15625j)</td>\n      <td>(292544.578125+156431.4765625j)</td>\n      <td>(28607680+5291485.5j)</td>\n      <td>(-38160490-1154218.6j)</td>\n      <td>(574469.5078125+917723.6328125j)</td>\n      <td>3004322.25</td>\n      <td>(172298.03+0.0055954903j)</td>\n      <td>854718.277845</td>\n      <td>(3098.233102540008-0.00456102613055287j)</td>\n      <td>(-61.45822969493291+6.942567972231796e-06j)</td>\n      <td>(0.113651164+3.6908951e-09j)</td>\n      <td>44.667279</td>\n      <td>(221.58083-7.1959803e-06j)</td>\n      <td>High_cavitation</td>\n    </tr>\n    <tr>\n      <th>0</th>\n      <td>(189.00003-2.6135445e-05j)</td>\n      <td>(285.6172+0j)</td>\n      <td>(-47249.1669921875-23157.3037109375j)</td>\n      <td>(47166.263671875+38939.90234375j)</td>\n      <td>(3911730+337614.38j)</td>\n      <td>(-3661461.8-932100.4j)</td>\n      <td>(94415.4306640625+62097.2060546875j)</td>\n      <td>488590.65625</td>\n      <td>(0.00030337693-39125.55j)</td>\n      <td>173445.881346</td>\n      <td>NaN</td>\n      <td>NaN</td>\n      <td>(1.0527966e-09-0.1357758j)</td>\n      <td>23.184109</td>\n      <td>(7.9692234e-07+102.77653j)</td>\n      <td>No_cavitation</td>\n    </tr>\n    <tr>\n      <th>0</th>\n      <td>(338.99994+4.6318055e-05j)</td>\n      <td>(442.60645-1.6757812j)</td>\n      <td>(-50010.841796875-14338.849609375j)</td>\n      <td>(50798.1943359375+9380.140625j)</td>\n      <td>(3785041.2+2757947j)</td>\n      <td>(-3834865-231807.61j)</td>\n      <td>(100809.0361328125+23718.990234375j)</td>\n      <td>534752.375</td>\n      <td>(3735.513+0.045838665j)</td>\n      <td>186286.328881</td>\n      <td>(-13265830.836041898-1018.0839602872917j)</td>\n      <td>(-14022.696349644491-0.8073015925038299j)</td>\n      <td>(0.011945833+1.4658792e-07j)</td>\n      <td>25.140049</td>\n      <td>(1253.7094-0.0153843295j)</td>\n      <td>No_cavitation</td>\n    </tr>\n    <tr>\n      <th>0</th>\n      <td>(130.00005+5.081177e-06j)</td>\n      <td>(116.10547-872.4668j)</td>\n      <td>(-49651.80859375-6787.7763671875j)</td>\n      <td>(50475.595703125+18213.83203125j)</td>\n      <td>(3968321.2+418925.3j)</td>\n      <td>(-4272759-52666.78j)</td>\n      <td>(100127.404296875+25001.6083984375j)</td>\n      <td>538714.5</td>\n      <td>(0.0059755296-8752.074j)</td>\n      <td>186719.025093</td>\n      <td>NaN</td>\n      <td>NaN</td>\n      <td>(1.9044199e-08-0.027893135j)</td>\n      <td>23.373341</td>\n      <td>(0.00034045818+498.65292j)</td>\n      <td>No_cavitation</td>\n    </tr>\n    <tr>\n      <th>0</th>\n      <td>(-108.00001-1.1047363e-05j)</td>\n      <td>(-422.4375+0j)</td>\n      <td>(-44462.8818359375+580.0703125j)</td>\n      <td>(44095.830078125-252996.4375j)</td>\n      <td>(3280548.5+1183302.8j)</td>\n      <td>(-3466732-795154.94j)</td>\n      <td>(88558.7119140625-253576.5078125j)</td>\n      <td>461055.5625</td>\n      <td>(0.003064022-15845.906j)</td>\n      <td>160745.26583</td>\n      <td>NaN</td>\n      <td>NaN</td>\n      <td>(1.1415548e-08-0.059036687j)</td>\n      <td>26.382631</td>\n      <td>(5.1750438e-05+267.63272j)</td>\n      <td>No_cavitation</td>\n    </tr>\n    <tr>\n      <th>0</th>\n      <td>(-486-0.00011196899j)</td>\n      <td>(778.2012+34.460938j)</td>\n      <td>(-56428.169921875-23419.48828125j)</td>\n      <td>(54220.0791015625+78690.03125j)</td>\n      <td>(5136561.5+1732015.4j)</td>\n      <td>(-4814440-267194.88j)</td>\n      <td>(110648.2490234375+102109.51953125j)</td>\n      <td>628457.75</td>\n      <td>(31533.066-0.0011302315j)</td>\n      <td>214693.541053</td>\n      <td>(3333.563235543394-0.003744596583035472j)</td>\n      <td>(37.95726114999959-2.4709416967138243e-05j)</td>\n      <td>(0.0868481-3.112874e-09j)</td>\n      <td>25.248612</td>\n      <td>(171.9057+6.161572e-06j)</td>\n      <td>No_cavitation</td>\n    </tr>\n    <tr>\n      <th>0</th>\n      <td>(-243.00009+9.6466065e-05j)</td>\n      <td>(-893.90625+66.1416j)</td>\n      <td>(-54796.658203125-56730.4140625j)</td>\n      <td>(55363.0517578125-47339.5703125j)</td>\n      <td>(4646875+1764614.9j)</td>\n      <td>(-5107823-285694.97j)</td>\n      <td>(110159.7099609375+9390.84375j)</td>\n      <td>577104.875</td>\n      <td>(77137.24+0.00065681024j)</td>\n      <td>205354.467083</td>\n      <td>(574.1062690464822-5.298975392962457e-05j)</td>\n      <td>(5.252818300098855-5.401803800617652e-07j)</td>\n      <td>(0.22813512+1.942531e-09j)</td>\n      <td>24.912078</td>\n      <td>(66.32084-5.647104e-07j)</td>\n      <td>No_cavitation</td>\n    </tr>\n    <tr>\n      <th>0</th>\n      <td>(141.99995-6.6467284e-05j)</td>\n      <td>(265.41406-6783.5547j)</td>\n      <td>(-52241.9091796875+83787.2734375j)</td>\n      <td>(51704.7509765625+21008.06640625j)</td>\n      <td>(4342194+405774.7j)</td>\n      <td>(-4544057.5-20420.531j)</td>\n      <td>(103946.66015625-62779.20703125j)</td>\n      <td>570660.9375</td>\n      <td>(0.003617974+19663.139j)</td>\n      <td>195369.663166</td>\n      <td>NaN</td>\n      <td>NaN</td>\n      <td>(1.0906645e-08+0.059275962j)</td>\n      <td>23.721198</td>\n      <td>(4.336641e-05-235.68985j)</td>\n      <td>No_cavitation</td>\n    </tr>\n    <tr>\n      <th>0</th>\n      <td>(-116.00003+3.366661e-05j)</td>\n      <td>(736.7539-78.39844j)</td>\n      <td>(-53944.6796875+177818.15625j)</td>\n      <td>(54024.5859375-7816.3984375j)</td>\n      <td>(4522007.5+468985.3j)</td>\n      <td>(-4376049.5-1115577.9j)</td>\n      <td>(107969.265625-185634.5546875j)</td>\n      <td>559219.875</td>\n      <td>(0.0035841372+14613.5j)</td>\n      <td>196387.10185</td>\n      <td>NaN</td>\n      <td>NaN</td>\n      <td>(1.0933798e-08+0.04458006j)</td>\n      <td>23.149494</td>\n      <td>(7.630107e-05-311.10016j)</td>\n      <td>No_cavitation</td>\n    </tr>\n    <tr>\n      <th>0</th>\n      <td>(-369.99988+0.00011157226j)</td>\n      <td>(-646.8076+0j)</td>\n      <td>(-45643.9580078125-10078.8125j)</td>\n      <td>(44771.3173828125+8318.427734375j)</td>\n      <td>(4009059.2+256796.75j)</td>\n      <td>(-4061546.2-2280218j)</td>\n      <td>(90415.275390625+18397.240234375j)</td>\n      <td>491752.65625</td>\n      <td>(14337.999+0.00065394957j)</td>\n      <td>169149.798923</td>\n      <td>(24016.78919486427+0.018832068727827604j)</td>\n      <td>(194.42952299994462+0.0001700003238607502j)</td>\n      <td>(0.0502803+2.2932614e-09j)</td>\n      <td>28.887049</td>\n      <td>(340.78943-1.554325e-05j)</td>\n      <td>No_cavitation</td>\n    </tr>\n    <tr>\n      <th>0</th>\n      <td>(-294.0001-5.3009033e-05j)</td>\n      <td>(-497.06348-67.24902j)</td>\n      <td>(-51091.9404296875-30785.869140625j)</td>\n      <td>(50301.43359375+10756.39453125j)</td>\n      <td>(4094237+1327381.8j)</td>\n      <td>(-4902808-1658628.6j)</td>\n      <td>(101393.3740234375+41542.263671875j)</td>\n      <td>546348.4375</td>\n      <td>(0.002013737-26406.824j)</td>\n      <td>190932.976511</td>\n      <td>NaN</td>\n      <td>NaN</td>\n      <td>(6.284291e-09-0.08240806j)</td>\n      <td>27.107774</td>\n      <td>(1.4946697e-05+196.00114j)</td>\n      <td>No_cavitation</td>\n    </tr>\n  </tbody>\n</table>\n</div>"
     },
     "execution_count": 18,
     "metadata": {},
     "output_type": "execute_result"
    }
   ],
   "source": [
    "final_df"
   ],
   "metadata": {
    "collapsed": false,
    "pycharm": {
     "name": "#%%\n"
    }
   }
  },
  {
   "cell_type": "code",
   "execution_count": 18,
   "outputs": [],
   "source": [],
   "metadata": {
    "collapsed": false,
    "pycharm": {
     "name": "#%%\n"
    }
   }
  },
  {
   "cell_type": "code",
   "execution_count": 20,
   "outputs": [],
   "source": [
    "\n",
    "def feature_pipe (datasets, splits_in_sec, label):\n",
    "    sr, df = read_wav(datasets)\n",
    "    df_split = splitting(sr[0],df, splits_in_sec)\n",
    "    freq, df_ftt = fourier_trans(sr[0],df_split)\n",
    "    output_df = feature_extraction(df_ftt, label)\n",
    "    return output_df"
   ],
   "metadata": {
    "collapsed": false,
    "pycharm": {
     "name": "#%%\n"
    }
   }
  },
  {
   "cell_type": "code",
   "execution_count": 25,
   "outputs": [
    {
     "name": "stderr",
     "output_type": "stream",
     "text": [
      "C:\\Users\\kinos\\AppData\\Local\\Temp\\ipykernel_2416\\3207606025.py:6: WavFileWarning: Chunk (non-data) not understood, skipping it.\n",
      "  sf, d = wavfile.read(path/data)\n",
      "C:\\Users\\kinos\\AppData\\Local\\Temp\\ipykernel_2416\\3207606025.py:6: WavFileWarning: Chunk (non-data) not understood, skipping it.\n",
      "  sf, d = wavfile.read(path/data)\n"
     ]
    },
    {
     "data": {
      "text/plain": "                           mean                  median  \\\n0    (188.99994-3.8457234e-05j)   (654.5874-27.880615j)   \n0     (69.99999+3.6061606e-06j)  (207.46844-112.16675j)   \n0  (-107.999916+4.0479023e-05j)         (-598.29517+0j)   \n0     (95.99995+5.3059895e-05j)           (34.46865+0j)   \n0    (141.99995-4.5176188e-05j)  (-430.56085+68.00244j)   \n0      (304.0001+7.564291e-05j)   (784.29724-20.95581j)   \n0    (-294.0001-5.3009033e-05j)  (-497.06348-67.24902j)   \n0     (132.99956-0.0014026692j)  (-8402.701+2022.0864j)   \n0         (7773+4.2317708e-05j)   (9234.221+2076.7935j)   \n0   (-3872.9993+0.00017871094j)         (-1392.1553+0j)   \n0        (-6543-1.8229166e-05j)         (-7365.1035+0j)   \n0     (3593.9998+0.0006686198j)          (6415.8555+0j)   \n0    (-5400.001-0.00049153646j)         (-6235.2344+0j)   \n0     (5450.999+0.00037792968j)           (7383.117+0j)   \n\n                            quartile_25                         quartile_75  \\\n0      (-59563.97265625+29760.6171875j)        (60535.78125+140140.546875j)   \n0  (-60627.9501953125-24255.970703125j)   (60336.66015625+186620.38671875j)   \n0       (-55728.2109375-60218.1640625j)  (54450.6943359375+47286.98828125j)   \n0          (-70438.90625+7498.5546875j)   (70460.470703125-60998.12109375j)   \n0      (-61437.576171875-271666.90625j)      (62400.947265625+809644.5625j)   \n0     (-61645.30078125+13082.83203125j)              (62842-10309.3984375j)   \n0  (-51091.9404296875-30785.869140625j)    (50301.43359375+10756.39453125j)   \n0             (-331655.6875-709734.25j)       (324030.5859375-92091.46875j)   \n0           (-337361.15625-1879961.75j)       (349140.2734375-5015.015625j)   \n0       (-358001.203125-319601.484375j)          (359122.953125+64002.375j)   \n0         (-363152.8046875+55845.8125j)        (357423.125-121367.9140625j)   \n0         (-357414.7890625-978920.125j)        (362113.5078125+16311.5625j)   \n0     (-366996.7265625-273471.5703125j)      (358989.0390625+281348.03125j)   \n0       (-281924.9296875-761292.15625j)     (292544.578125+156431.4765625j)   \n\n                      Max                      Min  \\\n0       (4502440+769062j)     (-4749656-855067.6j)   \n0    (4586223+342420.06j)  (-5260944.5-3829056.2j)   \n0    (5333375+1489994.9j)    (-4342060-62125.438j)   \n0   (5806272.5+941386.9j)     (-6467280-725592.5j)   \n0    (5436362+1275306.1j)     (-5306097-998569.3j)   \n0  (5745686.5+1943619.5j)    (-6354288-2057549.9j)   \n0    (4094237+1327381.8j)    (-4902808-1658628.6j)   \n0    (29593094+10988780j)   (-31842952-402221.56j)   \n0    (39313530+10657516j)   (-43164050-2777041.5j)   \n0    (52536470+25293664j)    (-39421984-919539.9j)   \n0   (38962210+7579948.5j)     (-43524230-3949310j)   \n0    (45365852+13460658j)   (-43049616-1993960.8j)   \n0    (46404484+17311270j)     (-44301696-9937717j)   \n0   (28607680+5291485.5j)   (-38160490-1154218.6j)   \n\n                                quartile          std  \\\n0      (120099.75390625+110379.9296875j)     623193.0   \n0  (120964.6103515625+210876.357421875j)  653088.6875   \n0   (110178.9052734375+107505.15234375j)  579544.9375   \n0     (140899.376953125-68496.67578125j)  777630.6875   \n0        (123838.5234375+1081311.46875j)    669565.25   \n0      (124487.30078125-23392.23046875j)  657178.6875   \n0   (101393.3740234375+41542.263671875j)  546348.4375   \n0         (655686.2734375+617642.78125j)   3347851.25   \n0       (686501.4296875+1874946.734375j)   3600572.75   \n0          (717124.15625+383603.859375j)    3896459.5   \n0       (720575.9296875-177213.7265625j)   3881907.75   \n0           (719528.296875+995231.6875j)   3853040.75   \n0        (725985.765625+554819.6015625j)   3878199.75   \n0       (574469.5078125+917723.6328125j)   3004322.25   \n\n                          rms             sra  \\\n0    (0.001463664+23716.791j)   219598.065667   \n0  (0.00017643375-33207.297j)   226534.391577   \n0    (0.014282511+3943.7744j)   200960.337796   \n0   (30543.227+0.0022708517j)   270172.721112   \n0   (28785.867+0.0006000495j)   231650.572384   \n0    (0.008214548+20634.436j)   227188.470009   \n0    (0.002013737-26406.824j)   190932.976511   \n0   (178311.27+0.0031129385j)    983584.26115   \n0      (63768.7-0.059337784j)  1035275.894806   \n0     (97768.88+0.017005028j)  1071007.488543   \n0    (0.009448715+197390.66j)  1075550.828352   \n0    (0.033212177-119697.14j)  1084553.186421   \n0    (293643.66+0.010175198j)   1084085.98683   \n0   (172298.03+0.0055954903j)   854718.277845   \n\n                                      kurtosis  \\\n0                                          NaN   \n0                                          NaN   \n0                                          NaN   \n0   (5933.747889869698+0.0002542690552520374j)   \n0  (13947.770992441541-0.0017118813420085952j)   \n0                                          NaN   \n0                                          NaN   \n0     (7040.52169551915-0.003528467653576564j)   \n0      (3272236.705223027-2.6256279806752683j)   \n0    (-353953.6586428361-0.14337254976106495j)   \n0                                          NaN   \n0                                          NaN   \n0    (-4774.07215991948+0.000716724161604341j)   \n0     (3098.233102540008-0.00456102613055287j)   \n\n                                            skew  \\\n0                                            NaN   \n0                                            NaN   \n0                                            NaN   \n0  (-114.19503798862581+4.1220218041467913e-07j)   \n0  (-166.27155012739897+5.6584203084933756e-05j)   \n0                                            NaN   \n0                                            NaN   \n0     (-82.66925144443127+8.26214124553411e-06j)   \n0      (4103.089095024171-0.002589204920695049j)   \n0     (3996.1183364783674+0.001430019774330518j)   \n0                                            NaN   \n0                                            NaN   \n0    (-13.942465590866313-7.55732272775895e-07j)   \n0    (-61.45822969493291+6.942567972231796e-06j)   \n\n                             ff        clf                          cf  \\\n0   (4.005626e-09+0.064906016j)  26.904506  (1.5373866e-05-249.11371j)   \n0    (4.6242848e-10-0.0870355j)  28.723491  (1.0410845e-06+195.94664j)   \n0   (4.226627e-08+0.011670821j)  27.797607   (0.0051297736-1416.4646j)   \n0   (0.06758727+5.0250315e-09j)  27.824338  (246.12257-1.8298913e-05j)   \n0   (0.07363991+1.5350445e-09j)  24.300743   (195.55711-4.076443e-06j)   \n0  (2.1479693e-08+0.053955656j)  29.716821  (0.00013025281-327.18698j)   \n0    (6.284291e-09-0.08240806j)  27.107774  (1.4946697e-05+196.00114j)   \n0   (0.10342599+1.8055996e-09j)  38.850296  (214.30244-3.7412685e-06j)   \n0  (0.035048608-3.2613286e-08j)  41.779479      (678.284+0.000631154j)   \n0    (0.05067854+8.814563e-09j)  54.442417   (596.3885-0.00010373038j)   \n0  (4.9056252e-09+0.102482155j)  48.104516  (1.2546897e-05-262.11398j)   \n0  (1.7263796e-08-0.062218953j)  43.631527    (0.00010969354+395.337j)   \n0    (0.1518445+5.2616422e-09j)  45.686723  (168.66815-5.8446076e-06j)   \n0  (0.113651164+3.6908951e-09j)  44.667279  (221.58083-7.1959803e-06j)   \n\n      Cavitation  \n0  No_Cavitation  \n0  No_Cavitation  \n0  No_Cavitation  \n0  No_Cavitation  \n0  No_Cavitation  \n0  No_Cavitation  \n0  No_Cavitation  \n0     Cavitation  \n0     Cavitation  \n0     Cavitation  \n0     Cavitation  \n0     Cavitation  \n0     Cavitation  \n0     Cavitation  ",
      "text/html": "<div>\n<style scoped>\n    .dataframe tbody tr th:only-of-type {\n        vertical-align: middle;\n    }\n\n    .dataframe tbody tr th {\n        vertical-align: top;\n    }\n\n    .dataframe thead th {\n        text-align: right;\n    }\n</style>\n<table border=\"1\" class=\"dataframe\">\n  <thead>\n    <tr style=\"text-align: right;\">\n      <th></th>\n      <th>mean</th>\n      <th>median</th>\n      <th>quartile_25</th>\n      <th>quartile_75</th>\n      <th>Max</th>\n      <th>Min</th>\n      <th>quartile</th>\n      <th>std</th>\n      <th>rms</th>\n      <th>sra</th>\n      <th>kurtosis</th>\n      <th>skew</th>\n      <th>ff</th>\n      <th>clf</th>\n      <th>cf</th>\n      <th>Cavitation</th>\n    </tr>\n  </thead>\n  <tbody>\n    <tr>\n      <th>0</th>\n      <td>(188.99994-3.8457234e-05j)</td>\n      <td>(654.5874-27.880615j)</td>\n      <td>(-59563.97265625+29760.6171875j)</td>\n      <td>(60535.78125+140140.546875j)</td>\n      <td>(4502440+769062j)</td>\n      <td>(-4749656-855067.6j)</td>\n      <td>(120099.75390625+110379.9296875j)</td>\n      <td>623193.0</td>\n      <td>(0.001463664+23716.791j)</td>\n      <td>219598.065667</td>\n      <td>NaN</td>\n      <td>NaN</td>\n      <td>(4.005626e-09+0.064906016j)</td>\n      <td>26.904506</td>\n      <td>(1.5373866e-05-249.11371j)</td>\n      <td>No_Cavitation</td>\n    </tr>\n    <tr>\n      <th>0</th>\n      <td>(69.99999+3.6061606e-06j)</td>\n      <td>(207.46844-112.16675j)</td>\n      <td>(-60627.9501953125-24255.970703125j)</td>\n      <td>(60336.66015625+186620.38671875j)</td>\n      <td>(4586223+342420.06j)</td>\n      <td>(-5260944.5-3829056.2j)</td>\n      <td>(120964.6103515625+210876.357421875j)</td>\n      <td>653088.6875</td>\n      <td>(0.00017643375-33207.297j)</td>\n      <td>226534.391577</td>\n      <td>NaN</td>\n      <td>NaN</td>\n      <td>(4.6242848e-10-0.0870355j)</td>\n      <td>28.723491</td>\n      <td>(1.0410845e-06+195.94664j)</td>\n      <td>No_Cavitation</td>\n    </tr>\n    <tr>\n      <th>0</th>\n      <td>(-107.999916+4.0479023e-05j)</td>\n      <td>(-598.29517+0j)</td>\n      <td>(-55728.2109375-60218.1640625j)</td>\n      <td>(54450.6943359375+47286.98828125j)</td>\n      <td>(5333375+1489994.9j)</td>\n      <td>(-4342060-62125.438j)</td>\n      <td>(110178.9052734375+107505.15234375j)</td>\n      <td>579544.9375</td>\n      <td>(0.014282511+3943.7744j)</td>\n      <td>200960.337796</td>\n      <td>NaN</td>\n      <td>NaN</td>\n      <td>(4.226627e-08+0.011670821j)</td>\n      <td>27.797607</td>\n      <td>(0.0051297736-1416.4646j)</td>\n      <td>No_Cavitation</td>\n    </tr>\n    <tr>\n      <th>0</th>\n      <td>(95.99995+5.3059895e-05j)</td>\n      <td>(34.46865+0j)</td>\n      <td>(-70438.90625+7498.5546875j)</td>\n      <td>(70460.470703125-60998.12109375j)</td>\n      <td>(5806272.5+941386.9j)</td>\n      <td>(-6467280-725592.5j)</td>\n      <td>(140899.376953125-68496.67578125j)</td>\n      <td>777630.6875</td>\n      <td>(30543.227+0.0022708517j)</td>\n      <td>270172.721112</td>\n      <td>(5933.747889869698+0.0002542690552520374j)</td>\n      <td>(-114.19503798862581+4.1220218041467913e-07j)</td>\n      <td>(0.06758727+5.0250315e-09j)</td>\n      <td>27.824338</td>\n      <td>(246.12257-1.8298913e-05j)</td>\n      <td>No_Cavitation</td>\n    </tr>\n    <tr>\n      <th>0</th>\n      <td>(141.99995-4.5176188e-05j)</td>\n      <td>(-430.56085+68.00244j)</td>\n      <td>(-61437.576171875-271666.90625j)</td>\n      <td>(62400.947265625+809644.5625j)</td>\n      <td>(5436362+1275306.1j)</td>\n      <td>(-5306097-998569.3j)</td>\n      <td>(123838.5234375+1081311.46875j)</td>\n      <td>669565.25</td>\n      <td>(28785.867+0.0006000495j)</td>\n      <td>231650.572384</td>\n      <td>(13947.770992441541-0.0017118813420085952j)</td>\n      <td>(-166.27155012739897+5.6584203084933756e-05j)</td>\n      <td>(0.07363991+1.5350445e-09j)</td>\n      <td>24.300743</td>\n      <td>(195.55711-4.076443e-06j)</td>\n      <td>No_Cavitation</td>\n    </tr>\n    <tr>\n      <th>0</th>\n      <td>(304.0001+7.564291e-05j)</td>\n      <td>(784.29724-20.95581j)</td>\n      <td>(-61645.30078125+13082.83203125j)</td>\n      <td>(62842-10309.3984375j)</td>\n      <td>(5745686.5+1943619.5j)</td>\n      <td>(-6354288-2057549.9j)</td>\n      <td>(124487.30078125-23392.23046875j)</td>\n      <td>657178.6875</td>\n      <td>(0.008214548+20634.436j)</td>\n      <td>227188.470009</td>\n      <td>NaN</td>\n      <td>NaN</td>\n      <td>(2.1479693e-08+0.053955656j)</td>\n      <td>29.716821</td>\n      <td>(0.00013025281-327.18698j)</td>\n      <td>No_Cavitation</td>\n    </tr>\n    <tr>\n      <th>0</th>\n      <td>(-294.0001-5.3009033e-05j)</td>\n      <td>(-497.06348-67.24902j)</td>\n      <td>(-51091.9404296875-30785.869140625j)</td>\n      <td>(50301.43359375+10756.39453125j)</td>\n      <td>(4094237+1327381.8j)</td>\n      <td>(-4902808-1658628.6j)</td>\n      <td>(101393.3740234375+41542.263671875j)</td>\n      <td>546348.4375</td>\n      <td>(0.002013737-26406.824j)</td>\n      <td>190932.976511</td>\n      <td>NaN</td>\n      <td>NaN</td>\n      <td>(6.284291e-09-0.08240806j)</td>\n      <td>27.107774</td>\n      <td>(1.4946697e-05+196.00114j)</td>\n      <td>No_Cavitation</td>\n    </tr>\n    <tr>\n      <th>0</th>\n      <td>(132.99956-0.0014026692j)</td>\n      <td>(-8402.701+2022.0864j)</td>\n      <td>(-331655.6875-709734.25j)</td>\n      <td>(324030.5859375-92091.46875j)</td>\n      <td>(29593094+10988780j)</td>\n      <td>(-31842952-402221.56j)</td>\n      <td>(655686.2734375+617642.78125j)</td>\n      <td>3347851.25</td>\n      <td>(178311.27+0.0031129385j)</td>\n      <td>983584.26115</td>\n      <td>(7040.52169551915-0.003528467653576564j)</td>\n      <td>(-82.66925144443127+8.26214124553411e-06j)</td>\n      <td>(0.10342599+1.8055996e-09j)</td>\n      <td>38.850296</td>\n      <td>(214.30244-3.7412685e-06j)</td>\n      <td>Cavitation</td>\n    </tr>\n    <tr>\n      <th>0</th>\n      <td>(7773+4.2317708e-05j)</td>\n      <td>(9234.221+2076.7935j)</td>\n      <td>(-337361.15625-1879961.75j)</td>\n      <td>(349140.2734375-5015.015625j)</td>\n      <td>(39313530+10657516j)</td>\n      <td>(-43164050-2777041.5j)</td>\n      <td>(686501.4296875+1874946.734375j)</td>\n      <td>3600572.75</td>\n      <td>(63768.7-0.059337784j)</td>\n      <td>1035275.894806</td>\n      <td>(3272236.705223027-2.6256279806752683j)</td>\n      <td>(4103.089095024171-0.002589204920695049j)</td>\n      <td>(0.035048608-3.2613286e-08j)</td>\n      <td>41.779479</td>\n      <td>(678.284+0.000631154j)</td>\n      <td>Cavitation</td>\n    </tr>\n    <tr>\n      <th>0</th>\n      <td>(-3872.9993+0.00017871094j)</td>\n      <td>(-1392.1553+0j)</td>\n      <td>(-358001.203125-319601.484375j)</td>\n      <td>(359122.953125+64002.375j)</td>\n      <td>(52536470+25293664j)</td>\n      <td>(-39421984-919539.9j)</td>\n      <td>(717124.15625+383603.859375j)</td>\n      <td>3896459.5</td>\n      <td>(97768.88+0.017005028j)</td>\n      <td>1071007.488543</td>\n      <td>(-353953.6586428361-0.14337254976106495j)</td>\n      <td>(3996.1183364783674+0.001430019774330518j)</td>\n      <td>(0.05067854+8.814563e-09j)</td>\n      <td>54.442417</td>\n      <td>(596.3885-0.00010373038j)</td>\n      <td>Cavitation</td>\n    </tr>\n    <tr>\n      <th>0</th>\n      <td>(-6543-1.8229166e-05j)</td>\n      <td>(-7365.1035+0j)</td>\n      <td>(-363152.8046875+55845.8125j)</td>\n      <td>(357423.125-121367.9140625j)</td>\n      <td>(38962210+7579948.5j)</td>\n      <td>(-43524230-3949310j)</td>\n      <td>(720575.9296875-177213.7265625j)</td>\n      <td>3881907.75</td>\n      <td>(0.009448715+197390.66j)</td>\n      <td>1075550.828352</td>\n      <td>NaN</td>\n      <td>NaN</td>\n      <td>(4.9056252e-09+0.102482155j)</td>\n      <td>48.104516</td>\n      <td>(1.2546897e-05-262.11398j)</td>\n      <td>Cavitation</td>\n    </tr>\n    <tr>\n      <th>0</th>\n      <td>(3593.9998+0.0006686198j)</td>\n      <td>(6415.8555+0j)</td>\n      <td>(-357414.7890625-978920.125j)</td>\n      <td>(362113.5078125+16311.5625j)</td>\n      <td>(45365852+13460658j)</td>\n      <td>(-43049616-1993960.8j)</td>\n      <td>(719528.296875+995231.6875j)</td>\n      <td>3853040.75</td>\n      <td>(0.033212177-119697.14j)</td>\n      <td>1084553.186421</td>\n      <td>NaN</td>\n      <td>NaN</td>\n      <td>(1.7263796e-08-0.062218953j)</td>\n      <td>43.631527</td>\n      <td>(0.00010969354+395.337j)</td>\n      <td>Cavitation</td>\n    </tr>\n    <tr>\n      <th>0</th>\n      <td>(-5400.001-0.00049153646j)</td>\n      <td>(-6235.2344+0j)</td>\n      <td>(-366996.7265625-273471.5703125j)</td>\n      <td>(358989.0390625+281348.03125j)</td>\n      <td>(46404484+17311270j)</td>\n      <td>(-44301696-9937717j)</td>\n      <td>(725985.765625+554819.6015625j)</td>\n      <td>3878199.75</td>\n      <td>(293643.66+0.010175198j)</td>\n      <td>1084085.98683</td>\n      <td>(-4774.07215991948+0.000716724161604341j)</td>\n      <td>(-13.942465590866313-7.55732272775895e-07j)</td>\n      <td>(0.1518445+5.2616422e-09j)</td>\n      <td>45.686723</td>\n      <td>(168.66815-5.8446076e-06j)</td>\n      <td>Cavitation</td>\n    </tr>\n    <tr>\n      <th>0</th>\n      <td>(5450.999+0.00037792968j)</td>\n      <td>(7383.117+0j)</td>\n      <td>(-281924.9296875-761292.15625j)</td>\n      <td>(292544.578125+156431.4765625j)</td>\n      <td>(28607680+5291485.5j)</td>\n      <td>(-38160490-1154218.6j)</td>\n      <td>(574469.5078125+917723.6328125j)</td>\n      <td>3004322.25</td>\n      <td>(172298.03+0.0055954903j)</td>\n      <td>854718.277845</td>\n      <td>(3098.233102540008-0.00456102613055287j)</td>\n      <td>(-61.45822969493291+6.942567972231796e-06j)</td>\n      <td>(0.113651164+3.6908951e-09j)</td>\n      <td>44.667279</td>\n      <td>(221.58083-7.1959803e-06j)</td>\n      <td>Cavitation</td>\n    </tr>\n  </tbody>\n</table>\n</div>"
     },
     "execution_count": 25,
     "metadata": {},
     "output_type": "execute_result"
    }
   ],
   "source": [
    "No_cav_files = [\"sxmany_200206_007_HKMNetzpumpe04_004_RP1_FC_01_C06_SB1_L0_XX_XXXX_YY_YYYY_ZZZZZZ_10.wav\"]\n",
    "cav_files = [\"s00000_191115_007_KesselpumpHD02_002_RP1_FC_01_P06_SB1_L0_KS_XXXX_YY_YYYY_ZZZZZZ_16.wav\"]\n",
    "\n",
    "\n",
    "no_cav_df = feature_pipe(No_cav_files,3,\"No_Cavitation\")\n",
    "cav_df = feature_pipe(cav_files,3,\"Cavitation\")\n",
    "final_df = pd.concat([no_cav_df, cav_df])\n",
    "final_df"
   ],
   "metadata": {
    "collapsed": false,
    "pycharm": {
     "name": "#%%\n"
    }
   }
  },
  {
   "cell_type": "code",
   "execution_count": null,
   "outputs": [],
   "source": [],
   "metadata": {
    "collapsed": false,
    "pycharm": {
     "name": "#%%\n"
    }
   }
  }
 ],
 "metadata": {
  "kernelspec": {
   "display_name": "Python 3",
   "language": "python",
   "name": "python3"
  },
  "language_info": {
   "codemirror_mode": {
    "name": "ipython",
    "version": 2
   },
   "file_extension": ".py",
   "mimetype": "text/x-python",
   "name": "python",
   "nbconvert_exporter": "python",
   "pygments_lexer": "ipython2",
   "version": "2.7.6"
  },
  "pycharm": {
   "stem_cell": {
    "cell_type": "raw",
    "source": [
     "e#%%\n",
     "from pathlib import Path\n",
     "from scipy.io import wavfile\n",
     "#from func import *\n",
     "import numpy as np\n",
     "import librosa\n",
     "import matplotlib.pyplot as plt\n"
    ],
    "metadata": {
     "collapsed": false
    }
   }
  }
 },
 "nbformat": 4,
 "nbformat_minor": 0
}